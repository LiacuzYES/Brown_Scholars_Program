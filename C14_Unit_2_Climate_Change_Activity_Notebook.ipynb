{
  "nbformat": 4,
  "nbformat_minor": 0,
  "metadata": {
    "kernelspec": {
      "display_name": "Python 3",
      "language": "python",
      "name": "python3"
    },
    "language_info": {
      "codemirror_mode": {
        "name": "ipython",
        "version": 3
      },
      "file_extension": ".py",
      "mimetype": "text/x-python",
      "name": "python",
      "nbconvert_exporter": "python",
      "pygments_lexer": "ipython3",
      "version": "3.8.3"
    },
    "colab": {
      "name": "C14 Unit 2 Climate Change - Activity Notebook.ipynb",
      "provenance": []
    }
  },
  "cells": [
    {
      "cell_type": "markdown",
      "metadata": {
        "id": "Djp933J37C19"
      },
      "source": [
        "# C14U2: Climate Change\n",
        "\n",
        "In the following notebook, students will be able to:\n",
        "* Open and read a CSV file in Python\n",
        "* Implement RGB color codes in Python \n",
        "* Review the basics of coding in Python\n",
        "* Make bar graphs in matplotlib\n",
        "* Use basic pandas functions to work with datasets\n"
      ]
    },
    {
      "cell_type": "markdown",
      "metadata": {
        "id": "wRSKAn4I7C1_"
      },
      "source": [
        "## 🟢 Module 1: Calculating Temperature Anomalies\n",
        "\n",
        "In climate change studies, temperature anomalies are more important than average temperatures. They eliminate bias due to measurement station location or lost data points.\n",
        "\n",
        "A temperature anomaly is the **difference from an average**, or baseline, temperature. A positive anomaly means the observed temperature was warmer than the baseline, while a negative anomaly means the observed temperature was cooler than the baseline. \n",
        "\n",
        "Let's calculate some anomalies!\n",
        "\n",
        "**Reminder: To run the code in a Jupyter notebook cell, click inside the cell and press \"shift\" and \"return\" on your keyboard at the same time.**"
      ]
    },
    {
      "cell_type": "markdown",
      "metadata": {
        "id": "qae7jfJV7C2D"
      },
      "source": [
        "First import the numpy library as np: it has useful functions including np.mean() which calculates an average."
      ]
    },
    {
      "cell_type": "code",
      "metadata": {
        "id": "PrwATKWL7C2G"
      },
      "source": [
        "import numpy as np"
      ],
      "execution_count": null,
      "outputs": []
    },
    {
      "cell_type": "markdown",
      "metadata": {
        "id": "8pw_11bL7C2H"
      },
      "source": [
        "### Finding the baseline \n",
        "To find the difference from an average, we first need to calculate the average itself (the baseline)! \n",
        "\n",
        "Climate scientists use the 20th century average for reference. The list below contains the average global temperature in Celsius from 1901 - 2000 (20 degrees Celsius is room temperature).\n",
        "\n",
        "Find the mean (average) of this list and assign it to a variable:"
      ]
    },
    {
      "cell_type": "code",
      "metadata": {
        "id": "WMNaiS9b7C2J"
      },
      "source": [
        "temps_20th = [13.79, 13.70, 13.64, 13.56, 13.70, 13.74, 13.58, 13.57, 13.53, 13.54, 13.56, 13.59, 13.61, 13.77, \n",
        "              13.84, 13.64, 13.56, 13.69, 13.71, 13.73, 13.80, 13.71, 13.75, 13.76, 13.79, 13.91, 13.82, 13.84, \n",
        "              13.69, 13.88, 13.93, 13.89, 13.75, 13.91, 13.85, 13.90, 14.03, 14.06, 14.01, 14.07, 14.08, 14.05, \n",
        "              14.06, 14.14, 14.00, 13.92, 13.96, 13.90, 13.89, 13.81, 13.94, 14.02, 14.09, 13.89, 13.88, 13.82, \n",
        "              14.04, 14.04, 14.02, 13.96, 14.05, 14.04, 14.07, 13.80, 13.90, 13.96, 13.99, 13.95, 14.06, 14.04, \n",
        "              13.93, 14.02, 14.16, 13.93, 13.99, 13.88, 14.15, 14.06, 14.12, 14.23, 14.28, 14.09, 14.27, 14.12, \n",
        "              14.08, 14.15, 14.29, 14.35, 14.24, 14.39, 14.38, 14.19, 14.21, 14.29, 14.43, 14.33, 14.46, 14.62, \n",
        "              14.41, 14.41]"
      ],
      "execution_count": null,
      "outputs": []
    },
    {
      "cell_type": "code",
      "metadata": {
        "id": "71Bw2yMD7C2N"
      },
      "source": [
        "avg_20th = np.mean(temps_20th)"
      ],
      "execution_count": null,
      "outputs": []
    },
    {
      "cell_type": "markdown",
      "metadata": {
        "id": "Z44OdJGK7C2P"
      },
      "source": [
        "Print out the average:"
      ]
    },
    {
      "cell_type": "code",
      "metadata": {
        "colab": {
          "base_uri": "https://localhost:8080/"
        },
        "id": "9WFSP4WO7C2Q",
        "outputId": "dcf30058-3741-4d98-92b8-26228f3a36b4"
      },
      "source": [
        "print(avg_20th)"
      ],
      "execution_count": null,
      "outputs": [
        {
          "output_type": "stream",
          "text": [
            "13.9623\n"
          ],
          "name": "stdout"
        }
      ]
    },
    {
      "cell_type": "markdown",
      "metadata": {
        "id": "1bw7rytx7C2R"
      },
      "source": [
        "### Finding the anomalies\n",
        "\n",
        "Look on Slack for your dates and copy the correct list of yearly average temperatures into the cell below (remember to assign it to a variable):\n",
        "- Group 1: 1880 - 1904\n",
        "- Group 2: 1905 - 1929\n",
        "- Group 3: 1930 - 1954\n",
        "- Group 4: 1955 - 1979\n",
        "- Group 5: 1980 - 2013"
      ]
    },
    {
      "cell_type": "code",
      "metadata": {
        "id": "uqXMrl7G7C2U"
      },
      "source": [
        "group2 = [13.70, 13.74, 13.58, 13.57, 13.53, 13.54, 13.56, 13.59, 13.61, 13.77,\n",
        "13.84, 13.64, 13.56, 13.69, 13.71, 13.73, 13.80, 13.71, 13.75, 13.76, 13.79, 13.91,\n",
        "13.82, 13.84, 13.69]"
      ],
      "execution_count": null,
      "outputs": []
    },
    {
      "cell_type": "markdown",
      "metadata": {
        "id": "V8ko2Vj07C2V"
      },
      "source": [
        "Now it's time to calculate the anomalies for your date range. Your goal is to create a new list that contains anomalies for each year (that year's average temperature - the 20th century average we calculated above).\n",
        "\n",
        "Hints:\n",
        "- You will need a \"for loop\"\n",
        "- You will need to create an empty list\n",
        "- Try pseudocoding if you're not sure how to proceed!"
      ]
    },
    {
      "cell_type": "code",
      "metadata": {
        "id": "s_ZlojC97C2W"
      },
      "source": [
        "# Create an empty list for the anomalies\n",
        "anomalies2 = []\n",
        "\n",
        "for temp in group2:\n",
        "  #1. Subtracting the average 20th century temperature from yearly average temperature\n",
        "  temp - avg_20th\n",
        "  #2. Addd it to list\n",
        "  #3. listname.append(value)\n",
        "  anomalies2.append(temp - avg_20th)"
      ],
      "execution_count": null,
      "outputs": []
    },
    {
      "cell_type": "markdown",
      "metadata": {
        "id": "NbIyop097C2X"
      },
      "source": [
        "Print out your list of anomalies below:"
      ]
    },
    {
      "cell_type": "code",
      "metadata": {
        "colab": {
          "base_uri": "https://localhost:8080/"
        },
        "id": "_uLdFNlK7C2Y",
        "outputId": "482b77e0-122d-4ae7-a357-ed6011b23daf"
      },
      "source": [
        "print(anomalies2)"
      ],
      "execution_count": null,
      "outputs": [
        {
          "output_type": "stream",
          "text": [
            "[-0.26230000000000153, -0.2223000000000006, -0.38230000000000075, -0.39230000000000054, -0.43230000000000146, -0.4223000000000017, -0.4023000000000003, -0.37230000000000096, -0.3523000000000014, -0.19230000000000125, -0.12230000000000096, -0.32230000000000025, -0.4023000000000003, -0.2723000000000013, -0.25229999999999997, -0.2323000000000004, -0.1623000000000001, -0.25229999999999997, -0.21230000000000082, -0.20230000000000103, -0.17230000000000167, -0.05230000000000068, -0.14230000000000054, -0.12230000000000096, -0.2723000000000013]\n"
          ],
          "name": "stdout"
        }
      ]
    },
    {
      "cell_type": "markdown",
      "metadata": {
        "id": "UGkQsx7c7C2Z"
      },
      "source": [
        "## 🟢 Module 2: Make your own Temperature Anomaly Graph data visualization!\n",
        "\n",
        "In this module, you'll use pandas to read in a CSV file, create a dataframe, and make a bar chart that shows how the Earth's temperature anomalies have changed over time. \n",
        "\n",
        "**Reminder: To run the code in a Jupyter Notebook cell, click inside the cell and press \"shift\" and \"return\" on your keyboard at the same time.**"
      ]
    },
    {
      "cell_type": "code",
      "metadata": {
        "colab": {
          "base_uri": "https://localhost:8080/"
        },
        "id": "8Nh6XD6eNIfm",
        "outputId": "cf2ebb94-1b33-458e-c0b9-d05fdae72b89"
      },
      "source": [
        "from google.colab import drive\n",
        "drive.mount('/content/drive')"
      ],
      "execution_count": null,
      "outputs": [
        {
          "output_type": "stream",
          "text": [
            "Mounted at /content/drive\n"
          ],
          "name": "stdout"
        }
      ]
    },
    {
      "cell_type": "markdown",
      "metadata": {
        "id": "e07DJIbm7C2c"
      },
      "source": [
        "First, we need to import pandas as pd:"
      ]
    },
    {
      "cell_type": "code",
      "metadata": {
        "id": "gL0c-TaV7C2d"
      },
      "source": [
        "import pandas as pd"
      ],
      "execution_count": null,
      "outputs": []
    },
    {
      "cell_type": "markdown",
      "metadata": {
        "id": "StwPzEYR7C2d"
      },
      "source": [
        "Next, we're going to create a data frame. It's convention to assign the dataframe to a variable called df. \n",
        "(However, if you create more than one data frame, you need to use a different variable name)\n",
        "\n",
        "We're going to use the pd.read_csv() function to open up our temperature anomaly data file."
      ]
    },
    {
      "cell_type": "code",
      "metadata": {
        "id": "wPBtyon27C2e"
      },
      "source": [
        "df = pd.read_csv(\"/content/drive/MyDrive/Colab Notebooks/Annual_Temp_Anomalies.csv\")"
      ],
      "execution_count": null,
      "outputs": []
    },
    {
      "cell_type": "markdown",
      "metadata": {
        "id": "svL6okZh7C2e"
      },
      "source": [
        "We can look at the first 5 lines of our data frame by using the .head() method. <br>\n",
        "Because it is a method, you need to put the variable name of the data frame **(not pd)** in front of the period."
      ]
    },
    {
      "cell_type": "code",
      "metadata": {
        "colab": {
          "base_uri": "https://localhost:8080/",
          "height": 359
        },
        "id": "8-0-LDIM7C2g",
        "outputId": "864f7f26-c6fe-40b4-87da-a6dd969b892c"
      },
      "source": [
        "df.head(10)"
      ],
      "execution_count": null,
      "outputs": [
        {
          "output_type": "execute_result",
          "data": {
            "text/html": [
              "<div>\n",
              "<style scoped>\n",
              "    .dataframe tbody tr th:only-of-type {\n",
              "        vertical-align: middle;\n",
              "    }\n",
              "\n",
              "    .dataframe tbody tr th {\n",
              "        vertical-align: top;\n",
              "    }\n",
              "\n",
              "    .dataframe thead th {\n",
              "        text-align: right;\n",
              "    }\n",
              "</style>\n",
              "<table border=\"1\" class=\"dataframe\">\n",
              "  <thead>\n",
              "    <tr style=\"text-align: right;\">\n",
              "      <th></th>\n",
              "      <th>Year</th>\n",
              "      <th>Temp Anomaly (C)</th>\n",
              "    </tr>\n",
              "  </thead>\n",
              "  <tbody>\n",
              "    <tr>\n",
              "      <th>0</th>\n",
              "      <td>1880</td>\n",
              "      <td>-0.116</td>\n",
              "    </tr>\n",
              "    <tr>\n",
              "      <th>1</th>\n",
              "      <td>1881</td>\n",
              "      <td>-0.064</td>\n",
              "    </tr>\n",
              "    <tr>\n",
              "      <th>2</th>\n",
              "      <td>1882</td>\n",
              "      <td>-0.069</td>\n",
              "    </tr>\n",
              "    <tr>\n",
              "      <th>3</th>\n",
              "      <td>1883</td>\n",
              "      <td>-0.145</td>\n",
              "    </tr>\n",
              "    <tr>\n",
              "      <th>4</th>\n",
              "      <td>1884</td>\n",
              "      <td>-0.205</td>\n",
              "    </tr>\n",
              "    <tr>\n",
              "      <th>5</th>\n",
              "      <td>1885</td>\n",
              "      <td>-0.216</td>\n",
              "    </tr>\n",
              "    <tr>\n",
              "      <th>6</th>\n",
              "      <td>1886</td>\n",
              "      <td>-0.199</td>\n",
              "    </tr>\n",
              "    <tr>\n",
              "      <th>7</th>\n",
              "      <td>1887</td>\n",
              "      <td>-0.247</td>\n",
              "    </tr>\n",
              "    <tr>\n",
              "      <th>8</th>\n",
              "      <td>1888</td>\n",
              "      <td>-0.148</td>\n",
              "    </tr>\n",
              "    <tr>\n",
              "      <th>9</th>\n",
              "      <td>1889</td>\n",
              "      <td>-0.099</td>\n",
              "    </tr>\n",
              "  </tbody>\n",
              "</table>\n",
              "</div>"
            ],
            "text/plain": [
              "   Year  Temp Anomaly (C)\n",
              "0  1880            -0.116\n",
              "1  1881            -0.064\n",
              "2  1882            -0.069\n",
              "3  1883            -0.145\n",
              "4  1884            -0.205\n",
              "5  1885            -0.216\n",
              "6  1886            -0.199\n",
              "7  1887            -0.247\n",
              "8  1888            -0.148\n",
              "9  1889            -0.099"
            ]
          },
          "metadata": {
            "tags": []
          },
          "execution_count": 26
        }
      ]
    },
    {
      "cell_type": "code",
      "metadata": {
        "colab": {
          "base_uri": "https://localhost:8080/",
          "height": 359
        },
        "id": "ZqNuW0ghPdWz",
        "outputId": "aff31ced-f2b9-4d61-8aec-f74192f2d79a"
      },
      "source": [
        "df.tail(10)"
      ],
      "execution_count": null,
      "outputs": [
        {
          "output_type": "execute_result",
          "data": {
            "text/html": [
              "<div>\n",
              "<style scoped>\n",
              "    .dataframe tbody tr th:only-of-type {\n",
              "        vertical-align: middle;\n",
              "    }\n",
              "\n",
              "    .dataframe tbody tr th {\n",
              "        vertical-align: top;\n",
              "    }\n",
              "\n",
              "    .dataframe thead th {\n",
              "        text-align: right;\n",
              "    }\n",
              "</style>\n",
              "<table border=\"1\" class=\"dataframe\">\n",
              "  <thead>\n",
              "    <tr style=\"text-align: right;\">\n",
              "      <th></th>\n",
              "      <th>Year</th>\n",
              "      <th>Temp Anomaly (C)</th>\n",
              "    </tr>\n",
              "  </thead>\n",
              "  <tbody>\n",
              "    <tr>\n",
              "      <th>129</th>\n",
              "      <td>2009</td>\n",
              "      <td>0.633</td>\n",
              "    </tr>\n",
              "    <tr>\n",
              "      <th>130</th>\n",
              "      <td>2010</td>\n",
              "      <td>0.699</td>\n",
              "    </tr>\n",
              "    <tr>\n",
              "      <th>131</th>\n",
              "      <td>2011</td>\n",
              "      <td>0.576</td>\n",
              "    </tr>\n",
              "    <tr>\n",
              "      <th>132</th>\n",
              "      <td>2012</td>\n",
              "      <td>0.621</td>\n",
              "    </tr>\n",
              "    <tr>\n",
              "      <th>133</th>\n",
              "      <td>2013</td>\n",
              "      <td>0.665</td>\n",
              "    </tr>\n",
              "    <tr>\n",
              "      <th>134</th>\n",
              "      <td>2014</td>\n",
              "      <td>0.740</td>\n",
              "    </tr>\n",
              "    <tr>\n",
              "      <th>135</th>\n",
              "      <td>2015</td>\n",
              "      <td>0.903</td>\n",
              "    </tr>\n",
              "    <tr>\n",
              "      <th>136</th>\n",
              "      <td>2016</td>\n",
              "      <td>0.943</td>\n",
              "    </tr>\n",
              "    <tr>\n",
              "      <th>137</th>\n",
              "      <td>2017</td>\n",
              "      <td>0.842</td>\n",
              "    </tr>\n",
              "    <tr>\n",
              "      <th>138</th>\n",
              "      <td>2018</td>\n",
              "      <td>0.770</td>\n",
              "    </tr>\n",
              "  </tbody>\n",
              "</table>\n",
              "</div>"
            ],
            "text/plain": [
              "     Year  Temp Anomaly (C)\n",
              "129  2009             0.633\n",
              "130  2010             0.699\n",
              "131  2011             0.576\n",
              "132  2012             0.621\n",
              "133  2013             0.665\n",
              "134  2014             0.740\n",
              "135  2015             0.903\n",
              "136  2016             0.943\n",
              "137  2017             0.842\n",
              "138  2018             0.770"
            ]
          },
          "metadata": {
            "tags": []
          },
          "execution_count": 27
        }
      ]
    },
    {
      "cell_type": "markdown",
      "metadata": {
        "id": "FrsxUjRZ7C2i"
      },
      "source": [
        "We can isolate particular columns in pandas using a new kind of index. Instead of putting the number of an item in a list, we'll put the name of the column in the brackets. \n",
        "Note: Column names are always strings!\n",
        "\n",
        "Let's put the \"Year\" column and the \"Temp Anomaly (C)\" column into their own variables:"
      ]
    },
    {
      "cell_type": "code",
      "metadata": {
        "id": "f1KCGoeq7C2j"
      },
      "source": [
        "Years = df[\"Year\"]"
      ],
      "execution_count": null,
      "outputs": []
    },
    {
      "cell_type": "code",
      "metadata": {
        "id": "3gLO9XjYRJO6"
      },
      "source": [
        "Temp_Anom = df[\"Temp Anomaly (C)\"]"
      ],
      "execution_count": null,
      "outputs": []
    },
    {
      "cell_type": "markdown",
      "metadata": {
        "id": "F1vOcQ4Y7C2k"
      },
      "source": [
        "We can look at the summary of each column using the .head() method. This time, we put the variable name for the columns in front of the period.\n",
        "\n",
        "Notice that pandas also tells you the data type of the values in that column!"
      ]
    },
    {
      "cell_type": "code",
      "metadata": {
        "id": "qE1ALm4L7C2l"
      },
      "source": [
        ""
      ],
      "execution_count": null,
      "outputs": []
    },
    {
      "cell_type": "markdown",
      "metadata": {
        "id": "gczU3QeF7C2m"
      },
      "source": [
        "Now that we've isolated the columns, we can put them into a matplotlib bar graph:"
      ]
    },
    {
      "cell_type": "code",
      "metadata": {
        "colab": {
          "base_uri": "https://localhost:8080/",
          "height": 281
        },
        "id": "0spWG54v7C2n",
        "outputId": "07399121-c0d4-4db4-da81-2334ce725d44"
      },
      "source": [
        "import matplotlib.pyplot as plt\n",
        "\n",
        "plt.bar(Years, Temp_Anom, width=2)\n",
        "plt.xlim(1880, 2018)\n",
        "plt.xticks(range(1880, 2018, 15))\n",
        "plt.title(\"Temperatures Anomlies from 1880 to 2018\")\n",
        "\n",
        "plt.show()"
      ],
      "execution_count": null,
      "outputs": [
        {
          "output_type": "display_data",
          "data": {
            "image/png": "[encoded data removed]",
            "text/plain": [
              "<Figure size 432x288 with 1 Axes>"
            ]
          },
          "metadata": {
            "tags": [],
            "needs_background": "light"
          }
        }
      ]
    },
    {
      "cell_type": "markdown",
      "metadata": {
        "id": "gchCq3fu7C2n"
      },
      "source": [
        "### Coding Challenge: \n",
        "Import the CO2 dataset and store the data in a data frame. \n",
        "Create a line graph that shows how CO2 has changed over time. Hint: You can use plt.(x,y) to make a line graph."
      ]
    },
    {
      "cell_type": "code",
      "metadata": {
        "id": "4YRfccmV7C2o"
      },
      "source": [
        "#import CO2 dataset\n",
        "df_CO2 = pd.read_csv(\"/content/drive/MyDrive/Colab Notebooks/Annual_CO2.csv\")"
      ],
      "execution_count": null,
      "outputs": []
    },
    {
      "cell_type": "code",
      "metadata": {
        "id": "0Nt575r_7C2p"
      },
      "source": [
        "Years_CO2 = df_CO2[\"Year\"]\n",
        "CO2 = df_CO2[\"CO2 (ppm)\"]"
      ],
      "execution_count": null,
      "outputs": []
    },
    {
      "cell_type": "code",
      "metadata": {
        "id": "dsayd0k27C2o",
        "colab": {
          "base_uri": "https://localhost:8080/",
          "height": 295
        },
        "outputId": "ac907572-87cb-4db1-bf1f-1255a3c5c70e"
      },
      "source": [
        "#create linegraph\n",
        "plt.plot(Years_CO2, CO2)\n",
        "plt.title(\"How CO2 has changed over time\")\n",
        "plt.ylabel(\"CO2 (ppm)\")\n",
        "plt.xlabel(\"Years\")\n",
        "\n",
        "plt.show()"
      ],
      "execution_count": null,
      "outputs": [
        {
          "output_type": "display_data",
          "data": {
            "image/png": "[encoded data removed]",
            "text/plain": [
              "<Figure size 432x288 with 1 Axes>"
            ]
          },
          "metadata": {
            "tags": [],
            "needs_background": "light"
          }
        }
      ]
    },
    {
      "cell_type": "markdown",
      "metadata": {
        "id": "1NGwi1KM7C2r"
      },
      "source": [
        "## 🟢 Module 3: Evaluating Storm Surge Risk\n",
        "\n",
        "In this module, you will explore the risk to different countries around the world caused by sea level rise and increasing storms."
      ]
    },
    {
      "cell_type": "markdown",
      "metadata": {
        "id": "ujCKxvCE7C2r"
      },
      "source": [
        "We will be plotting our data using matplotlib, so import that library with its alias:"
      ]
    },
    {
      "cell_type": "code",
      "metadata": {
        "id": "DL8uxQaj7C2s"
      },
      "source": [
        "import matplotlib.pyplot as plt"
      ],
      "execution_count": null,
      "outputs": []
    },
    {
      "cell_type": "markdown",
      "metadata": {
        "id": "djjxS88s7C2s"
      },
      "source": [
        "### Exploring the data\n",
        "Look on Slack for your region and copy and paste the list of data into the cell below (remember to assign it to a variable):\n",
        "\n",
        "Note: Your data is a list of lists. Each list contains the following values for the countries in your region with the largest percentage of urban inhabitants:\n",
        "- Country name\n",
        "- Latitude\n",
        "- Longitude\n",
        "- Population (2008)\n",
        "- Population in storm surge area (2008)"
      ]
    },
    {
      "cell_type": "code",
      "metadata": {
        "id": "FcC3osvX7C2u"
      },
      "source": [
        "Asia_data = [[\"Hong Kong\", 22.396428, 114.109497, 7018640, 231810], [\"Macao\", 22.198745, 113.543873, 545670, 34390],\n",
        "        [\"Singapore\", 1.352083, 103.819836, 4608170, 196980], [\"Kuwait\", 29.31166, 47.481766, 2598060, 521260],\n",
        "        [\"Qatar\", 25.354826, 51.183884, 824790, 72480], [\"Israel\", 31.046051, 34.851612, 7112360, 220760],\n",
        "        [\"Bahrain\", 25.930414, 50.637772, 719170, 215130], [\"Lebanon\", 33.854721, 35.862285, 4038020, 313980],\n",
        "        [\"Saudi Arabia\", 23.885942, 45.079162, 24917410, 1327260], [\"South Korea\", 35.907757, 127.766922, 48379390, 2499420]]"
      ],
      "execution_count": null,
      "outputs": []
    },
    {
      "cell_type": "code",
      "metadata": {
        "id": "ghN5axPb7C2v",
        "colab": {
          "base_uri": "https://localhost:8080/"
        },
        "outputId": "d7b88279-d567-41a0-930b-bc92632c63ba"
      },
      "source": [
        "Asia_data[2][2] #Print longitude of Singapore"
      ],
      "execution_count": null,
      "outputs": [
        {
          "output_type": "execute_result",
          "data": {
            "text/plain": [
              "103.819836"
            ]
          },
          "metadata": {
            "tags": []
          },
          "execution_count": 12
        }
      ]
    },
    {
      "cell_type": "markdown",
      "metadata": {
        "id": "dW3DhAkc7C2v"
      },
      "source": [
        "Let's practice using list indexes. Print out the first list from your data:"
      ]
    },
    {
      "cell_type": "code",
      "metadata": {
        "colab": {
          "base_uri": "https://localhost:8080/"
        },
        "id": "waJrohisJGQM",
        "outputId": "88fb70ac-a086-40ef-fec6-5d0a6706c1d9"
      },
      "source": [
        "#Print first line\n",
        "Asia_data[0]"
      ],
      "execution_count": null,
      "outputs": [
        {
          "output_type": "execute_result",
          "data": {
            "text/plain": [
              "['Hong Kong', 22.396428, 114.109497, 7018640, 231810]"
            ]
          },
          "metadata": {
            "tags": []
          },
          "execution_count": 13
        }
      ]
    },
    {
      "cell_type": "markdown",
      "metadata": {
        "id": "Gi_p-9FI7C2w"
      },
      "source": [
        "Now, print out just the latitude from that list:"
      ]
    },
    {
      "cell_type": "code",
      "metadata": {
        "id": "H9hxIZLO7C2w",
        "colab": {
          "base_uri": "https://localhost:8080/"
        },
        "outputId": "e78d2d26-a130-4fc3-d4b4-dd3afe988249"
      },
      "source": [
        "# Hint: If one of the values in a list is a list itself, you can index it like this: my_list[0][0]\n",
        "Asia_data[0][1] #Print longitude of Hong Kong"
      ],
      "execution_count": null,
      "outputs": [
        {
          "output_type": "execute_result",
          "data": {
            "text/plain": [
              "22.396428"
            ]
          },
          "metadata": {
            "tags": []
          },
          "execution_count": 14
        }
      ]
    },
    {
      "cell_type": "markdown",
      "metadata": {
        "id": "QnIo5t1w7C2x"
      },
      "source": [
        "You can select more than one value from a list using a \"slice\". \n",
        "\n",
        "For example, [0] selects just the first value and [1] selects just the second value, but [0:2] selects values one and two. \n",
        "\n",
        "Note: you need to slice from the first value you want to **the last value you want +1**\n",
        "\n",
        "Try it yourself! Print out the latitude and longitude from the first item in your list using a slice:"
      ]
    },
    {
      "cell_type": "code",
      "metadata": {
        "id": "vUjspFbj7C2x",
        "colab": {
          "base_uri": "https://localhost:8080/"
        },
        "outputId": "33ae752a-dc73-4dfe-c6db-994742f85910"
      },
      "source": [
        "Asia_data[0][1:3] #Laditude is index 1 and Longitude is index 2"
      ],
      "execution_count": null,
      "outputs": [
        {
          "output_type": "execute_result",
          "data": {
            "text/plain": [
              "[22.396428, 114.109497]"
            ]
          },
          "metadata": {
            "tags": []
          },
          "execution_count": 15
        }
      ]
    },
    {
      "cell_type": "markdown",
      "metadata": {
        "id": "AhyKFDuz7C2y"
      },
      "source": [
        "## Assessing risk\n",
        "\n",
        "Let's find out which countries in your region are at the highest risk. \n",
        "\n",
        "First, write code that loops through each list in your data and prints out the population in the storm surge area:"
      ]
    },
    {
      "cell_type": "code",
      "metadata": {
        "id": "sC0eU1z27C2y",
        "colab": {
          "base_uri": "https://localhost:8080/"
        },
        "outputId": "d6b5e4ec-d35f-4efe-a038-6fa33bbbd757"
      },
      "source": [
        "#Storm surge area population index is 4\n",
        "for reigion_list in Asia_data:\n",
        "  print(reigion_list[4])"
      ],
      "execution_count": null,
      "outputs": [
        {
          "output_type": "stream",
          "text": [
            "231810\n",
            "34390\n",
            "196980\n",
            "521260\n",
            "72480\n",
            "220760\n",
            "215130\n",
            "313980\n",
            "1327260\n",
            "2499420\n"
          ],
          "name": "stdout"
        }
      ]
    },
    {
      "cell_type": "markdown",
      "metadata": {
        "id": "GyzZkz_m7C2z"
      },
      "source": [
        "Now write code that prints the percent of the population in each country that lives in the storm surge area:\n",
        "Note: percent = subset/total * 100"
      ]
    },
    {
      "cell_type": "code",
      "metadata": {
        "id": "YBU3SiGh7C2z",
        "colab": {
          "base_uri": "https://localhost:8080/"
        },
        "outputId": "2066e8e9-bcca-40d0-b13b-57bbaf981245"
      },
      "source": [
        "# For a challenge, try including the name of the country in your print statement\n",
        "for reigion_list in Asia_data:\n",
        "  print((reigion_list[0]) + \" - \" + (str((reigion_list[4])/(reigion_list[3]) * 100)))"
      ],
      "execution_count": null,
      "outputs": [
        {
          "output_type": "stream",
          "text": [
            "Hong Kong - 3.3027766062940973\n",
            "Macao - 6.302343907489876\n",
            "Singapore - 4.274581883914872\n",
            "Kuwait - 20.063431945374628\n",
            "Qatar - 8.787691412359509\n",
            "Israel - 3.1038923789009556\n",
            "Bahrain - 29.91365045816705\n",
            "Lebanon - 7.7755929886429485\n",
            "Saudi Arabia - 5.3266370782517125\n",
            "South Korea - 5.166290852365026\n"
          ],
          "name": "stdout"
        }
      ]
    },
    {
      "cell_type": "code",
      "metadata": {
        "colab": {
          "base_uri": "https://localhost:8080/"
        },
        "id": "dJOpQ8PxQtJX",
        "outputId": "3c6e611e-2396-4144-b174-b3c4a975bcdb"
      },
      "source": [
        "# For a challenge, try including the name of the country in your print statement\n",
        "for i in Asia_data:\n",
        "  #population in storm surge area, index 4 AND total population index 3\n",
        "  #percent =subtotal/total * 100\n",
        "\n",
        "  percent = i[4]/i[3] * 100\n",
        "\n",
        "  print(i[0] + \" - \" + str(percent))"
      ],
      "execution_count": null,
      "outputs": [
        {
          "output_type": "stream",
          "text": [
            "Hong Kong - 3.3027766062940973\n",
            "Macao - 6.302343907489876\n",
            "Singapore - 4.274581883914872\n",
            "Kuwait - 20.063431945374628\n",
            "Qatar - 8.787691412359509\n",
            "Israel - 3.1038923789009556\n",
            "Bahrain - 29.91365045816705\n",
            "Lebanon - 7.7755929886429485\n",
            "Saudi Arabia - 5.3266370782517125\n",
            "South Korea - 5.166290852365026\n"
          ],
          "name": "stdout"
        }
      ]
    },
    {
      "cell_type": "markdown",
      "metadata": {
        "id": "PtU9UUc67C2z"
      },
      "source": [
        "## Mapping the data\n",
        "\n",
        "Let's put these countries on the map! We're going to plot each country on a map of your region, which means we need to create lists of the latitude and longitudes. To represent the risk each country faces from sea level rise, let's create sets of lists for each of the following risk levels:\n",
        "- Low risk (% pop in storm surge area <=5)\n",
        "- Medium risk (% pop in storm surge area >5 and <10)\n",
        "- High risk (% pop in storm surge area >=10)"
      ]
    },
    {
      "cell_type": "markdown",
      "metadata": {
        "id": "ICdPDeO_7C20"
      },
      "source": [
        "Write code below that creates fills in 6 lists: lat_low, lon_low, lat_med, lon_med, lat_high, lon_high:"
      ]
    },
    {
      "cell_type": "code",
      "metadata": {
        "id": "5lYp3HP57C22"
      },
      "source": [
        "lat_low  = []\n",
        "lon_low  = []\n",
        "lat_med  = []\n",
        "lon_med  = []\n",
        "lat_high = []\n",
        "lon_high = []\n",
        "\n",
        "#Latitude index is 1 AND Longitude index is 2\n",
        "for i in Asia_data:\n",
        "  percent = i[4]/i[3] * 100\n",
        "  if percent <= 5:\n",
        "    #Case 1: Percent population in storm surge area must be 5% or less (low risk)\n",
        "    lat_low.append(i[1])\n",
        "    lon_low.append(i[2])\n",
        "  elif 5 < percent < 10:\n",
        "    #Case 2: Percent population in storm surge area between 5%-10% (medium risk)\n",
        "    lat_med.append(i[1])\n",
        "    lon_med.append(i[2])\n",
        "  else:\n",
        "    #Case 1: Percent population in storm surge area must be 10% or more (high risk)\n",
        "    lat_low.append(i[1])\n",
        "    lon_low.append(i[2])"
      ],
      "execution_count": null,
      "outputs": []
    },
    {
      "cell_type": "markdown",
      "metadata": {
        "id": "KwUKadT_7C24"
      },
      "source": [
        "Print out your lat and lon lists to check that they contain the right values:"
      ]
    },
    {
      "cell_type": "code",
      "metadata": {
        "id": "hnhfJWse7C24",
        "colab": {
          "base_uri": "https://localhost:8080/"
        },
        "outputId": "b671b4e4-d3b8-4d13-ad0b-751147130bff"
      },
      "source": [
        "print(lat_low)\n",
        "print(lon_low)\n",
        "print(lat_med)\n",
        "print(lon_med)\n",
        "print(lat_high)\n",
        "print(lon_high)"
      ],
      "execution_count": null,
      "outputs": [
        {
          "output_type": "stream",
          "text": [
            "[22.396428, 1.352083, 29.31166, 31.046051, 25.930414]\n",
            "[114.109497, 103.819836, 47.481766, 34.851612, 50.637772]\n",
            "[22.198745, 25.354826, 33.854721, 23.885942, 35.907757]\n",
            "[113.543873, 51.183884, 35.862285, 45.079162, 127.766922]\n",
            "[]\n",
            "[]\n"
          ],
          "name": "stdout"
        }
      ]
    },
    {
      "cell_type": "markdown",
      "metadata": {
        "id": "kxUpg4fX7C29"
      },
      "source": [
        "We will reuse code from the Earthquakes final project here. \n",
        "\n",
        "Remember to replace the coordinates in plt.xlim and plt.ylim functions below as follows:\n",
        "- Africa: x = (-25,50), y = (-40,45)\n",
        "- Asia: x = (30,150), y = (5,55)\n",
        "- Europe: x = (-10,30), y = (35,70)\n",
        "- Latin & South America: x = (-90,-35), y = (-55,35)\n",
        "- Oceania: x = (-180,180), y = (-60,85)\n",
        "\n",
        "You will also have to create your own plt.scatter() plots. You will need to use the plt.scatter() function three times: once for each set of lists you created above. "
      ]
    },
    {
      "cell_type": "code",
      "metadata": {
        "id": "-8WTvFkK7C2-",
        "colab": {
          "base_uri": "https://localhost:8080/",
          "height": 375
        },
        "outputId": "ae0f9f94-15a6-4a53-c973-86d9f1bd8842"
      },
      "source": [
        "# This code adds an image behind your plot\n",
        "image = plt.imread(\"earth.jpg\")\n",
        "fig, ax = plt.subplots()\n",
        "ax.imshow(image, extent = [-180,180,-90,90])\n",
        "\n",
        "# This code crops the image to show only your region. \n",
        "# IMPORTANT: Replace the coordinates in plt.xlim and plt.ylim functions\n",
        "# To match your region using the key above\n",
        "plt.xlim(-180,180)\n",
        "plt.ylim(-60,85)\n",
        "\n",
        "# Create a scatter plot using plt.scatter(). \n",
        "# You can change the size, shape, and color of your markers! \n",
        "# Try adding s = #, marker = \"symbol\", and c = \"color\"\n",
        "plt.scatter(lat_low, lon_low) #Low risk\n",
        "plt.scatter(lat_med, lon_med) #Medium risk\n",
        "plt.scatter(lat_high, lon_high) #High risk\n",
        "\n",
        "plt.show()"
      ],
      "execution_count": null,
      "outputs": [
        {
          "output_type": "error",
          "ename": "FileNotFoundError",
          "evalue": "ignored",
          "traceback": [
            "\u001b[0;31m---------------------------------------------------------------------------\u001b[0m",
            "\u001b[0;31mFileNotFoundError\u001b[0m                         Traceback (most recent call last)",
            "\u001b[0;32m<ipython-input-65-7f35aa224a40>\u001b[0m in \u001b[0;36m<module>\u001b[0;34m()\u001b[0m\n\u001b[1;32m      1\u001b[0m \u001b[0;31m# This code adds an image behind your plot\u001b[0m\u001b[0;34m\u001b[0m\u001b[0;34m\u001b[0m\u001b[0;34m\u001b[0m\u001b[0m\n\u001b[0;32m----> 2\u001b[0;31m \u001b[0mimage\u001b[0m \u001b[0;34m=\u001b[0m \u001b[0mplt\u001b[0m\u001b[0;34m.\u001b[0m\u001b[0mimread\u001b[0m\u001b[0;34m(\u001b[0m\u001b[0;34m\"earth.jpg\"\u001b[0m\u001b[0;34m)\u001b[0m\u001b[0;34m\u001b[0m\u001b[0;34m\u001b[0m\u001b[0m\n\u001b[0m\u001b[1;32m      3\u001b[0m \u001b[0mfig\u001b[0m\u001b[0;34m,\u001b[0m \u001b[0max\u001b[0m \u001b[0;34m=\u001b[0m \u001b[0mplt\u001b[0m\u001b[0;34m.\u001b[0m\u001b[0msubplots\u001b[0m\u001b[0;34m(\u001b[0m\u001b[0;34m)\u001b[0m\u001b[0;34m\u001b[0m\u001b[0;34m\u001b[0m\u001b[0m\n\u001b[1;32m      4\u001b[0m \u001b[0max\u001b[0m\u001b[0;34m.\u001b[0m\u001b[0mimshow\u001b[0m\u001b[0;34m(\u001b[0m\u001b[0mimage\u001b[0m\u001b[0;34m,\u001b[0m \u001b[0mextent\u001b[0m \u001b[0;34m=\u001b[0m \u001b[0;34m[\u001b[0m\u001b[0;34m-\u001b[0m\u001b[0;36m180\u001b[0m\u001b[0;34m,\u001b[0m\u001b[0;36m180\u001b[0m\u001b[0;34m,\u001b[0m\u001b[0;34m-\u001b[0m\u001b[0;36m90\u001b[0m\u001b[0;34m,\u001b[0m\u001b[0;36m90\u001b[0m\u001b[0;34m]\u001b[0m\u001b[0;34m)\u001b[0m\u001b[0;34m\u001b[0m\u001b[0;34m\u001b[0m\u001b[0m\n\u001b[1;32m      5\u001b[0m \u001b[0;34m\u001b[0m\u001b[0m\n",
            "\u001b[0;32m/usr/local/lib/python3.7/dist-packages/matplotlib/pyplot.py\u001b[0m in \u001b[0;36mimread\u001b[0;34m(fname, format)\u001b[0m\n\u001b[1;32m   2059\u001b[0m \u001b[0;34m@\u001b[0m\u001b[0mdocstring\u001b[0m\u001b[0;34m.\u001b[0m\u001b[0mcopy\u001b[0m\u001b[0;34m(\u001b[0m\u001b[0mmatplotlib\u001b[0m\u001b[0;34m.\u001b[0m\u001b[0mimage\u001b[0m\u001b[0;34m.\u001b[0m\u001b[0mimread\u001b[0m\u001b[0;34m)\u001b[0m\u001b[0;34m\u001b[0m\u001b[0;34m\u001b[0m\u001b[0m\n\u001b[1;32m   2060\u001b[0m \u001b[0;32mdef\u001b[0m \u001b[0mimread\u001b[0m\u001b[0;34m(\u001b[0m\u001b[0mfname\u001b[0m\u001b[0;34m,\u001b[0m \u001b[0mformat\u001b[0m\u001b[0;34m=\u001b[0m\u001b[0;32mNone\u001b[0m\u001b[0;34m)\u001b[0m\u001b[0;34m:\u001b[0m\u001b[0;34m\u001b[0m\u001b[0;34m\u001b[0m\u001b[0m\n\u001b[0;32m-> 2061\u001b[0;31m     \u001b[0;32mreturn\u001b[0m \u001b[0mmatplotlib\u001b[0m\u001b[0;34m.\u001b[0m\u001b[0mimage\u001b[0m\u001b[0;34m.\u001b[0m\u001b[0mimread\u001b[0m\u001b[0;34m(\u001b[0m\u001b[0mfname\u001b[0m\u001b[0;34m,\u001b[0m \u001b[0mformat\u001b[0m\u001b[0;34m)\u001b[0m\u001b[0;34m\u001b[0m\u001b[0;34m\u001b[0m\u001b[0m\n\u001b[0m\u001b[1;32m   2062\u001b[0m \u001b[0;34m\u001b[0m\u001b[0m\n\u001b[1;32m   2063\u001b[0m \u001b[0;34m\u001b[0m\u001b[0m\n",
            "\u001b[0;32m/usr/local/lib/python3.7/dist-packages/matplotlib/image.py\u001b[0m in \u001b[0;36mimread\u001b[0;34m(fname, format)\u001b[0m\n\u001b[1;32m   1462\u001b[0m             raise ValueError('Only know how to handle PNG; with Pillow '\n\u001b[1;32m   1463\u001b[0m                              'installed, Matplotlib can handle more images')\n\u001b[0;32m-> 1464\u001b[0;31m         \u001b[0;32mwith\u001b[0m \u001b[0mImage\u001b[0m\u001b[0;34m.\u001b[0m\u001b[0mopen\u001b[0m\u001b[0;34m(\u001b[0m\u001b[0mfname\u001b[0m\u001b[0;34m)\u001b[0m \u001b[0;32mas\u001b[0m \u001b[0mimage\u001b[0m\u001b[0;34m:\u001b[0m\u001b[0;34m\u001b[0m\u001b[0;34m\u001b[0m\u001b[0m\n\u001b[0m\u001b[1;32m   1465\u001b[0m             \u001b[0;32mreturn\u001b[0m \u001b[0mpil_to_array\u001b[0m\u001b[0;34m(\u001b[0m\u001b[0mimage\u001b[0m\u001b[0;34m)\u001b[0m\u001b[0;34m\u001b[0m\u001b[0;34m\u001b[0m\u001b[0m\n\u001b[1;32m   1466\u001b[0m     \u001b[0;32mfrom\u001b[0m \u001b[0mmatplotlib\u001b[0m \u001b[0;32mimport\u001b[0m \u001b[0m_png\u001b[0m\u001b[0;34m\u001b[0m\u001b[0;34m\u001b[0m\u001b[0m\n",
            "\u001b[0;32m/usr/local/lib/python3.7/dist-packages/PIL/Image.py\u001b[0m in \u001b[0;36mopen\u001b[0;34m(fp, mode)\u001b[0m\n\u001b[1;32m   2841\u001b[0m \u001b[0;34m\u001b[0m\u001b[0m\n\u001b[1;32m   2842\u001b[0m     \u001b[0;32mif\u001b[0m \u001b[0mfilename\u001b[0m\u001b[0;34m:\u001b[0m\u001b[0;34m\u001b[0m\u001b[0;34m\u001b[0m\u001b[0m\n\u001b[0;32m-> 2843\u001b[0;31m         \u001b[0mfp\u001b[0m \u001b[0;34m=\u001b[0m \u001b[0mbuiltins\u001b[0m\u001b[0;34m.\u001b[0m\u001b[0mopen\u001b[0m\u001b[0;34m(\u001b[0m\u001b[0mfilename\u001b[0m\u001b[0;34m,\u001b[0m \u001b[0;34m\"rb\"\u001b[0m\u001b[0;34m)\u001b[0m\u001b[0;34m\u001b[0m\u001b[0;34m\u001b[0m\u001b[0m\n\u001b[0m\u001b[1;32m   2844\u001b[0m         \u001b[0mexclusive_fp\u001b[0m \u001b[0;34m=\u001b[0m \u001b[0;32mTrue\u001b[0m\u001b[0;34m\u001b[0m\u001b[0;34m\u001b[0m\u001b[0m\n\u001b[1;32m   2845\u001b[0m \u001b[0;34m\u001b[0m\u001b[0m\n",
            "\u001b[0;31mFileNotFoundError\u001b[0m: [Errno 2] No such file or directory: 'earth.jpg'"
          ]
        }
      ]
    },
    {
      "cell_type": "markdown",
      "metadata": {
        "id": "3bfUzNXS7C2_"
      },
      "source": [
        "## 🟢 Module 4: Creating a Sea Temperature Color Map\n",
        "\n",
        "In this module, you'll learn how to adapt existing code to fit your particular data set. You won't need to use all of these functions again, but you should understand how they work.\n",
        "\n",
        "**Reminder: To run the code in a Jupyter Notebook cell, click inside the cell and press \"shift\" and \"return\" on your keyboard at the same time.**"
      ]
    },
    {
      "cell_type": "markdown",
      "metadata": {
        "id": "4Dp4zbdt7C3B"
      },
      "source": [
        "Let's start out by importing all the libraries we'll need:"
      ]
    },
    {
      "cell_type": "code",
      "metadata": {
        "id": "E9XWOhV17C3B"
      },
      "source": [
        "import matplotlib.pyplot as plt\n",
        "import numpy as np\n",
        "import csv # This is a library that allows us to work with CSV files even if we're not using pandas"
      ],
      "execution_count": null,
      "outputs": []
    },
    {
      "cell_type": "markdown",
      "metadata": {
        "id": "6CG60A0j7C3C"
      },
      "source": [
        "This code opens the data file, create a CSV reader object to read the data, and converts it into a list or lists using the built in Python list() function."
      ]
    },
    {
      "cell_type": "code",
      "metadata": {
        "id": "55YOL6GQ7C3E"
      },
      "source": [
        "csvFile = open(\"/content/drive/MyDrive/Colab Notebooks/SeaTemp12_2002.csv\", 'r') \n",
        "csvReader = csv.reader(csvFile, delimiter=',')\n",
        "data_lists = list(csvReader)"
      ],
      "execution_count": null,
      "outputs": []
    },
    {
      "cell_type": "markdown",
      "metadata": {
        "id": "WKWYvgcF7C3J"
      },
      "source": [
        "Let's take a look at the first item in data_lists:"
      ]
    },
    {
      "cell_type": "code",
      "metadata": {
        "id": "lV-1JRqW7C3K",
        "colab": {
          "base_uri": "https://localhost:8080/"
        },
        "outputId": "8710387d-7607-4ddf-80cc-9552d6c436dd"
      },
      "source": [
        "# This is just one row!\n",
        "print(data_lists[0])"
      ],
      "execution_count": null,
      "outputs": [
        {
          "output_type": "stream",
          "text": [
            "['99999', '99999', '99999', '99999', '99999', '99999', '99999', '99999', '99999', '99999', '99999', '99999', '99999', '99999', '99999', '99999', '99999', '99999', '99999', '99999', '99999', '99999', '99999', '99999', '99999', '99999', '99999', '99999', '99999', '99999', '99999', '99999', '99999', '99999', '99999', '99999', '99999', '99999', '99999', '99999', '99999', '99999', '99999', '99999', '99999', '99999', '99999', '99999', '99999', '99999', '99999', '99999', '99999', '99999', '99999', '99999', '99999', '99999', '99999', '99999', '99999', '99999', '99999', '99999', '99999', '99999', '99999', '99999', '99999', '99999', '99999', '99999', '99999', '99999', '99999', '99999', '99999', '99999', '99999', '99999', '99999', '99999', '99999', '99999', '99999', '99999', '99999', '99999', '99999', '99999', '99999', '99999', '99999', '99999', '99999', '99999', '99999', '99999', '99999', '99999', '99999', '99999', '99999', '99999', '99999', '99999', '99999', '99999', '99999', '99999', '99999', '99999', '99999', '99999', '99999', '99999', '99999', '99999', '99999', '99999', '99999', '99999', '99999', '99999', '99999', '99999', '99999', '99999', '99999', '99999', '99999', '99999', '99999', '99999', '99999', '99999', '99999', '99999', '99999', '99999', '99999', '99999', '99999', '99999', '99999', '99999', '99999', '99999', '99999', '99999', '99999', '99999', '99999', '99999', '99999', '99999', '99999', '99999', '99999', '99999', '99999', '99999', '99999', '99999', '99999', '99999', '99999', '99999', '99999', '99999', '99999', '99999', '99999', '99999', '99999', '99999', '99999', '99999', '99999', '99999', '99999', '99999', '99999', '99999', '99999', '99999', '99999', '99999', '99999', '99999', '99999', '99999', '99999', '99999', '99999', '99999', '99999', '99999', '99999', '99999', '99999', '99999', '99999', '99999', '99999', '99999', '99999', '99999', '99999', '99999', '99999', '99999', '99999', '99999', '99999', '99999', '99999', '99999', '99999', '99999', '99999', '99999', '99999', '99999', '99999', '99999', '99999', '99999', '99999', '99999', '99999', '99999', '99999', '99999', '99999', '99999', '99999', '99999', '99999', '99999', '99999', '99999', '99999', '99999', '99999', '99999', '99999', '99999', '99999', '99999', '99999', '99999', '99999', '99999', '99999', '99999', '99999', '99999', '99999', '99999', '99999', '99999', '99999', '99999', '99999', '99999', '99999', '99999', '99999', '99999', '99999', '99999', '99999', '99999', '99999', '99999', '99999', '99999', '99999', '99999', '99999', '99999', '99999', '99999', '99999', '99999', '99999', '99999', '99999', '99999', '99999', '99999', '99999', '99999', '99999', '99999', '99999', '99999', '99999', '99999', '99999', '99999', '99999', '99999', '99999', '99999', '99999', '99999', '99999', '99999', '99999', '99999', '99999', '99999', '99999', '99999', '99999', '99999', '99999', '99999', '99999', '99999', '99999', '99999', '99999', '99999', '99999', '99999', '99999', '99999', '99999', '99999', '99999', '99999', '99999', '99999', '99999', '99999', '99999', '99999', '99999', '99999', '99999', '99999', '99999', '99999', '99999', '99999', '99999', '99999', '99999', '99999', '99999', '99999', '99999', '99999', '99999', '99999', '99999', '99999', '99999', '99999', '99999', '99999', '99999', '99999', '99999', '99999', '99999', '99999', '99999', '99999', '99999', '99999', '99999', '99999', '99999', '99999', '99999', '99999', '99999', '99999', '99999', '99999', '99999', '99999', '99999', '99999', '99999', '99999', '99999', '99999', '99999', '99999', '99999', '99999', '99999', '99999', '99999', '99999', '99999', '99999', '99999', '99999', '99999', '99999', '99999', '99999', '99999', '99999', '99999', '99999', '99999', '99999', '99999', '99999', '99999', '99999', '99999', '99999', '99999', '99999', '99999', '99999', '99999', '99999', '99999', '99999', '99999', '99999', '99999', '99999', '99999', '99999', '99999', '99999', '99999', '99999', '99999', '99999', '99999', '99999', '99999', '99999', '99999', '99999', '99999', '99999', '99999', '99999', '99999', '99999', '99999', '99999', '99999', '99999', '99999', '99999', '99999', '99999', '99999', '99999', '99999', '99999', '99999', '99999', '99999', '99999', '99999', '99999', '99999', '99999', '99999', '99999', '99999', '99999', '99999', '99999', '99999', '99999', '99999', '99999', '99999', '99999', '99999', '99999', '99999', '99999', '99999', '99999', '99999', '99999', '99999', '99999', '99999', '99999', '99999', '99999', '99999', '99999', '99999', '99999', '99999', '99999', '99999', '99999', '99999', '99999', '99999', '99999', '99999', '99999', '99999', '99999', '99999', '99999', '99999', '99999', '99999', '99999', '99999', '99999', '99999', '99999', '99999', '99999', '99999', '99999', '99999', '99999', '99999', '99999', '99999', '99999', '99999', '99999', '99999', '99999', '99999', '99999', '99999', '99999', '99999', '99999', '99999', '99999', '99999', '99999', '99999', '99999', '99999', '99999', '99999', '99999', '99999', '99999', '99999', '99999', '99999', '99999', '99999', '99999', '99999', '99999', '99999', '99999', '99999', '99999', '99999', '99999', '99999', '99999', '99999', '99999', '99999', '99999', '99999', '99999', '99999', '99999', '99999', '99999', '99999', '99999', '99999', '99999', '99999', '99999', '99999', '99999', '99999', '99999', '99999', '99999', '99999', '99999', '99999', '99999', '99999', '99999', '99999', '99999', '99999', '99999', '99999', '99999', '99999', '99999', '99999', '99999', '99999', '99999', '99999', '99999', '99999', '99999', '99999', '99999', '99999', '99999', '99999', '99999', '99999', '99999', '99999', '99999', '99999', '99999', '99999', '99999', '99999', '99999', '99999', '99999', '99999', '99999', '99999', '99999', '99999', '99999', '99999', '99999', '99999', '99999', '99999', '99999', '99999', '99999', '99999', '99999', '99999', '99999', '99999', '99999', '99999', '99999', '99999', '99999', '99999', '99999', '99999', '99999', '99999', '99999', '99999', '99999', '99999', '99999', '99999', '99999', '99999', '99999', '99999', '99999', '99999', '99999', '99999', '99999', '99999', '99999', '99999', '99999', '99999', '99999', '99999', '99999', '99999', '99999', '99999', '99999', '99999', '99999', '99999', '99999', '99999', '99999', '99999', '99999', '99999', '99999', '99999', '99999', '99999', '99999', '99999', '99999', '99999', '99999', '99999', '99999', '99999', '99999', '99999', '99999', '99999', '99999', '99999', '99999', '99999', '99999']\n"
          ],
          "name": "stdout"
        }
      ]
    },
    {
      "cell_type": "markdown",
      "metadata": {
        "id": "8bkblfBb7C3M"
      },
      "source": [
        "That was a lot of data! Let's use the len() function to find out how many data points there were in **just one row**:"
      ]
    },
    {
      "cell_type": "code",
      "metadata": {
        "id": "Q5A64ocU7C3O",
        "colab": {
          "base_uri": "https://localhost:8080/"
        },
        "outputId": "18f17342-cb4c-4a08-d698-f78a1c2352fa"
      },
      "source": [
        "len(data_lists[0])"
      ],
      "execution_count": null,
      "outputs": [
        {
          "output_type": "execute_result",
          "data": {
            "text/plain": [
              "720"
            ]
          },
          "metadata": {
            "tags": []
          },
          "execution_count": 21
        }
      ]
    },
    {
      "cell_type": "markdown",
      "metadata": {
        "id": "LK18L_Ta7C3P"
      },
      "source": [
        "Let's find out how many of those there are! Use the len() function:"
      ]
    },
    {
      "cell_type": "code",
      "metadata": {
        "id": "8VllMUoo7C3Q"
      },
      "source": [
        ""
      ],
      "execution_count": null,
      "outputs": []
    },
    {
      "cell_type": "markdown",
      "metadata": {
        "id": "wU2m1JD07C3Q"
      },
      "source": [
        "The number of items in one row is also the width of the image we are creating. The number of rows is the height. Let's assign these values to variable so we can use them later:"
      ]
    },
    {
      "cell_type": "code",
      "metadata": {
        "id": "DcUfDvup7C3Q"
      },
      "source": [
        "height = len(data_lists[0])\n",
        "width = len(data_lists)"
      ],
      "execution_count": null,
      "outputs": []
    },
    {
      "cell_type": "markdown",
      "metadata": {
        "id": "62XwJ2fO7C3R"
      },
      "source": [
        "Now we're going to use a new numpy function that creates an empty matrix. A matrix is like a grid made up of lists."
      ]
    },
    {
      "cell_type": "code",
      "metadata": {
        "id": "sCX7tkUm7C3T"
      },
      "source": [
        "grid = np.empty([height, width, 3], dtype=np.uint8) \n",
        "# We have to specify the height and width of the matrix along with the number of items \n",
        "# we can put in each spot on the grid. We want 3 because each color value has 3 numbers.\n",
        "# Finally, we specify the type of data we will put into the matrix."
      ],
      "execution_count": null,
      "outputs": []
    },
    {
      "cell_type": "markdown",
      "metadata": {
        "id": "ezFytbBE7C3U"
      },
      "source": [
        "Now we're going to use some code you're used to: \"for loops\" and conditionals! But we are making things a little more complicated using the enumerate() function. Using enumerate(), you keep track of both the index and the value in a \"for loop\"."
      ]
    },
    {
      "cell_type": "code",
      "metadata": {
        "id": "xmM5UU9P7C3U",
        "colab": {
          "base_uri": "https://localhost:8080/",
          "height": 198
        },
        "outputId": "7af2fde2-c7e8-4e6b-a025-8bfd48c3ad27"
      },
      "source": [
        "all_values = [] # We will fill in this empty list with all the data values as we go\n",
        "\n",
        "for r, row in enumerate(data_lists):\n",
        "    for c, value in enumerate(row):\n",
        "        if float(value) < 99999:\n",
        "            all_values.append(float(value)) # This is where we fill in the list with all data values\n",
        "        if float(value) <= -10:\n",
        "            grid[r, c] = [0, 0, 0]\n",
        "        elif float(value) <= -5:\n",
        "            grid[r, c] = [0, 0, 0]\n",
        "        elif float(value) <= 0:\n",
        "            grid[r, c] = [0, 0, 0]\n",
        "        elif float(value) <= 2:\n",
        "            grid[r, c] = [0, 0, 0]\n",
        "        elif float(value) <= 5:\n",
        "            grid[r, c] = [0, 0, 0]\n",
        "        elif float(value) <= 10:\n",
        "            grid[r, c] = [0, 0, 0]\n",
        "        else:\n",
        "            grid[r, c] = [0, 0, 0]"
      ],
      "execution_count": null,
      "outputs": [
        {
          "output_type": "error",
          "ename": "IndexError",
          "evalue": "ignored",
          "traceback": [
            "\u001b[0;31m---------------------------------------------------------------------------\u001b[0m",
            "\u001b[0;31mIndexError\u001b[0m                                Traceback (most recent call last)",
            "\u001b[0;32m<ipython-input-30-da9619edffdc>\u001b[0m in \u001b[0;36m<module>\u001b[0;34m()\u001b[0m\n\u001b[1;32m     18\u001b[0m             \u001b[0mgrid\u001b[0m\u001b[0;34m[\u001b[0m\u001b[0mr\u001b[0m\u001b[0;34m,\u001b[0m \u001b[0mc\u001b[0m\u001b[0;34m]\u001b[0m \u001b[0;34m=\u001b[0m \u001b[0;34m[\u001b[0m\u001b[0;36m0\u001b[0m\u001b[0;34m,\u001b[0m \u001b[0;36m0\u001b[0m\u001b[0;34m,\u001b[0m \u001b[0;36m0\u001b[0m\u001b[0;34m]\u001b[0m\u001b[0;34m\u001b[0m\u001b[0;34m\u001b[0m\u001b[0m\n\u001b[1;32m     19\u001b[0m         \u001b[0;32melse\u001b[0m\u001b[0;34m:\u001b[0m\u001b[0;34m\u001b[0m\u001b[0;34m\u001b[0m\u001b[0m\n\u001b[0;32m---> 20\u001b[0;31m             \u001b[0mgrid\u001b[0m\u001b[0;34m[\u001b[0m\u001b[0mr\u001b[0m\u001b[0;34m,\u001b[0m \u001b[0mc\u001b[0m\u001b[0;34m]\u001b[0m \u001b[0;34m=\u001b[0m \u001b[0;34m[\u001b[0m\u001b[0;36m0\u001b[0m\u001b[0;34m,\u001b[0m \u001b[0;36m0\u001b[0m\u001b[0;34m,\u001b[0m \u001b[0;36m0\u001b[0m\u001b[0;34m]\u001b[0m\u001b[0;34m\u001b[0m\u001b[0;34m\u001b[0m\u001b[0m\n\u001b[0m",
            "\u001b[0;31mIndexError\u001b[0m: index 360 is out of bounds for axis 1 with size 360"
          ]
        }
      ]
    },
    {
      "cell_type": "markdown",
      "metadata": {
        "id": "qlxJY6ih7C3Z"
      },
      "source": [
        "Now that we have all of our data in a single list, we can find the max and the min:\n",
        "Hint: Use this information to help you adjust your conditionals!"
      ]
    },
    {
      "cell_type": "code",
      "metadata": {
        "id": "KZl0Gaut7C3Z"
      },
      "source": [
        ""
      ],
      "execution_count": null,
      "outputs": []
    },
    {
      "cell_type": "markdown",
      "metadata": {
        "id": "Ia8Ji2zv7C3Z"
      },
      "source": [
        "Now it's time to use matplotlib to show our image! We already imported the library, so we can get right to it:"
      ]
    },
    {
      "cell_type": "code",
      "metadata": {
        "id": "JRk9rftx7C3a"
      },
      "source": [
        "plt.title(\"Global sea temperature in Celsius\")\n",
        "plt.imshow(grid)\n",
        "plt.axis('off')\n",
        "plt.savefig(\"Sea_temperature_2002.png\",dpi = 1000)\n",
        "plt.show()"
      ],
      "execution_count": null,
      "outputs": []
    },
    {
      "cell_type": "markdown",
      "metadata": {
        "id": "JkpTodE47C3a"
      },
      "source": [
        "### Coding Challenge:\n",
        "Change the code so that you create a map for the sea temperature in 2016."
      ]
    },
    {
      "cell_type": "code",
      "metadata": {
        "id": "iR68KLfE7C3b"
      },
      "source": [
        ""
      ],
      "execution_count": null,
      "outputs": []
    },
    {
      "cell_type": "code",
      "metadata": {
        "id": "WoE-IC0k7C3b"
      },
      "source": [
        ""
      ],
      "execution_count": null,
      "outputs": []
    },
    {
      "cell_type": "code",
      "metadata": {
        "id": "C7gHv8LZ7C3c"
      },
      "source": [
        ""
      ],
      "execution_count": null,
      "outputs": []
    },
    {
      "cell_type": "markdown",
      "metadata": {
        "id": "Lubx_Ut07C3c"
      },
      "source": [
        "## 🟢 Module 5: The Cultural-Societal Impact of Greenhouse Gas Emissions\n",
        "\n",
        "Pollution, mostly associated as a by-product of urban landscapes, is also linked with climate change. Both climate change and air pollution are exacerbated by the burning of fossil fuels, which increase CO2 emissions, the cause of global warming.\n",
        "\n",
        "In October 2018, the World Health Organization (WHO) said in a report that 93 per cent of the world’s children breathe toxic air every day. According to the report, 1.8 billion children breathe air that is so polluted it puts their health and development at serious risk. WHO estimates that in 2016, 600,000 children died from acute lower respiratory infections caused by polluted air. The report highlights that “More than 40% of the world’s population – which includes 1 billion children under 15 - is exposed to high levels of household air pollution from mainly cooking with polluting technologies and fuels.” In developing countries, women frequently rely on coal and biomass fuels for cooking and heating, putting them and their and their children at higher risk to the effects of home pollutants.\n",
        "\n",
        "WHO recommends and supports the implementation of policies to reduce air pollution, including better waste management, the use of clean technologies and fuels for household cooking, heating and lighting to improve the quality of air in homes.\n",
        "\n",
        "The effects of climate change are worse among poor and low-income communities, in part because many live on the margins of society, in unstable structures, and in areas more susceptible to flooding, landslides, earthquakes, but also because of inadequate capacities, inadequate resources and reduced access to emergency response systems. This is even more pronounced in developing countries.\n",
        "\n",
        "Source: https://www.un.org/en/climatechange/climate-solutions/cities-pollution\n",
        "\n",
        "\n",
        "\n",
        "GREENHOUSE GAS NYC DATA: https://data.cityofnewyork.us/Environment/Inventory-of-New-York-City-Greenhouse-Gas-Emission/k3e2-emsq\n",
        "<br>Explanation of data: https://www1.nyc.gov/assets/sustainability/downloads/pdf/publications/GHG%20Inventory%20Report%20Emission%20Year%202016.pdf\n",
        "\n",
        "\n",
        "**Instructions**: Use the csv data linked above to create a pie chart (search the matplotlib documentation for it online) comparing each of the 4 different transportation GHG (Greenhouse Gas) Emissions in NYC. Metric tons of carbon dioxide equivalent or MTCO2e is the unit of measurement in this tool. The unit \"CO2e\" represents an amount of a GHG whose atmospheric impact has been standardized to that of one unit mass of carbon dioxide (CO2), based on the global warming potential (GWP) of the gas.\n",
        "\n",
        "\n",
        "\n",
        "**Reminder: To run the code in a Jupyter Notebook cell, click inside the cell and press \"shift\" and \"return\" on your keyboard at the same time.**"
      ]
    },
    {
      "cell_type": "code",
      "metadata": {
        "id": "yBsBvtn4j0rH"
      },
      "source": [
        "#Create a list of emissions for each type of transportation\n",
        "on_road = [12417680, 402454, 1470944, 586830]\n",
        "railways = [554345, 13615]\n",
        "marine_nav = [91353, 0.1]\n",
        "aviation = [2533]"
      ],
      "execution_count": 1,
      "outputs": []
    },
    {
      "cell_type": "code",
      "metadata": {
        "id": "gTAaAsFK7C3d"
      },
      "source": [
        "#Find total emissions per transportation type\n",
        "on_road_total_emissions = sum(on_road)\n",
        "railways_total_emissions = sum(railways)\n",
        "marine_nav_total_emissions = sum(marine_nav)\n",
        "aviation_total_emissions = sum(aviation)\n",
        "\n",
        "total_emissions = on_road_total_emissions + railways_total_emissions + marine_nav_total_emissions + aviation_total_emissions"
      ],
      "execution_count": 2,
      "outputs": []
    },
    {
      "cell_type": "code",
      "metadata": {
        "id": "GGuNWAmp7C3e"
      },
      "source": [
        "#Convert each total into percentages.\n",
        "on_road_percent = (on_road_total_emissions/total_emissions * 100)\n",
        "railways_percent = (railways_total_emissions/total_emissions * 100)\n",
        "marine_nav_percent = (marine_nav_total_emissions/total_emissions * 100)\n",
        "aviation_percent = (aviation_total_emissions/total_emissions * 100)"
      ],
      "execution_count": 3,
      "outputs": []
    },
    {
      "cell_type": "code",
      "metadata": {
        "id": "V126pVQ87C3e",
        "colab": {
          "base_uri": "https://localhost:8080/",
          "height": 248
        },
        "outputId": "5e46f0d3-8bbb-4955-b0f5-732c968e7df1"
      },
      "source": [
        "#Find matplotlib documentation for a pie chart. (https://matplotlib.org/stable/api/_as_gen/matplotlib.pyplot.pie.html)\n",
        "#Example: https://matplotlib.org/stable/gallery/pie_and_polar_charts/pie_features.html\n",
        "import matplotlib.pyplot as plt\n",
        "\n",
        "# Pie chart, where the slices will be ordered and plotted counter-clockwise:\n",
        "labels = [\"On-road \" + str(round(on_road_percent, 1)) + \"%\" , \"Railways \" + str(round(railways_percent, 1)) + \"%\", \"Marine Navigation \" + str(round(marine_nav_percent, 1)) + \"%\", \"Aviation \" + str(round(aviation_percent, 1)) + \"%\"]\n",
        "sizes = [on_road_percent, railways_percent, marine_nav_percent, aviation_percent]\n",
        "#Create a list of colors\n",
        "colors = [\"red\", \"purple\", \"blue\", \"lightgray\"]\n",
        "\n",
        "\n",
        "fig1, ax1 = plt.subplots()\n",
        "patches, texts = ax1.pie(sizes, colors = colors, startangle=90)\n",
        "\n",
        "plt.legend(patches, labels, loc = \"lower left\")\n",
        "ax1.axis('equal')  # Equal aspect ratio ensures that pie is drawn as a circle.\n",
        "\n",
        "plt.show()"
      ],
      "execution_count": 4,
      "outputs": [
        {
          "output_type": "display_data",
          "data": {
            "image/png": "[encoded data removed]",
            "text/plain": [
              "<Figure size 432x288 with 1 Axes>"
            ]
          },
          "metadata": {
            "tags": []
          }
        }
      ]
    },
    {
      "cell_type": "markdown",
      "metadata": {
        "id": "Qe6Q5aZ87C3f"
      },
      "source": [
        "Edit this text cell to answer the following questions:\n",
        "\n",
        "1. What is global warming?\n",
        "\n",
        "\n",
        "2. Global warming and climate change impacts us through our oceans, our weather, our food sources, and our health. Describe the impact in each category.\n",
        "\n",
        "\n",
        "3. What must be done by society to combat global warming?\n",
        "    \n",
        "    \n",
        "   \n",
        "4. What can you do with computer science to help the cause?\n",
        "\n",
        "    \n",
        "    "
      ]
    },
    {
      "cell_type": "code",
      "metadata": {
        "id": "0VVZfcOY7C3f"
      },
      "source": [
        ""
      ],
      "execution_count": 4,
      "outputs": []
    }
  ]
}