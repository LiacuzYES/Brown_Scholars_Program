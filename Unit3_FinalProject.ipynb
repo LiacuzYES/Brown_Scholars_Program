{
  "nbformat": 4,
  "nbformat_minor": 0,
  "metadata": {
    "colab": {
      "name": "Unit3_FinalProject.ipynb",
      "provenance": [],
      "collapsed_sections": []
    },
    "kernelspec": {
      "display_name": "Python 3",
      "language": "python",
      "name": "python3"
    },
    "language_info": {
      "codemirror_mode": {
        "name": "ipython",
        "version": 3
      },
      "file_extension": ".py",
      "mimetype": "text/x-python",
      "name": "python",
      "nbconvert_exporter": "python",
      "pygments_lexer": "ipython3",
      "version": "3.8.3"
    }
  },
  "cells": [
    {
      "cell_type": "markdown",
      "metadata": {
        "id": "-aDkg8IYpfxS"
      },
      "source": [
        "# Making a CMD for your Star Cluster\n",
        "\n",
        "This notebook introduces a few commands that you'll need to make the Color Magnitude Diagram for your star cluster. You can also use the cells below to write code for your unit project."
      ]
    },
    {
      "cell_type": "code",
      "metadata": {
        "colab": {
          "base_uri": "https://localhost:8080/"
        },
        "id": "bhVzjD8d0PBe",
        "outputId": "36380b72-152b-44b3-e0ba-71064585d943"
      },
      "source": [
        "from google.colab import drive\n",
        "drive.mount('/content/drive')"
      ],
      "execution_count": null,
      "outputs": [
        {
          "output_type": "stream",
          "text": [
            "Mounted at /content/drive\n"
          ],
          "name": "stdout"
        }
      ]
    },
    {
      "cell_type": "markdown",
      "metadata": {
        "id": "cdlCFoIYpfxT"
      },
      "source": [
        "## .loc[ ] indexing"
      ]
    },
    {
      "cell_type": "code",
      "metadata": {
        "id": "CcUJ8BQFpfxU"
      },
      "source": [
        "import pandas as pd"
      ],
      "execution_count": null,
      "outputs": []
    },
    {
      "cell_type": "code",
      "metadata": {
        "colab": {
          "base_uri": "https://localhost:8080/",
          "height": 266
        },
        "id": "1Wo4VNL8pfxX",
        "outputId": "3669c727-8f5a-4686-869e-9a7c846141ce"
      },
      "source": [
        "# Here we create a sample dataframe\n",
        "sample_df = pd.DataFrame({\"Smartphone\": [\"iPhone 11\", \"Samsung Galaxy S20\", \"Google Pixel 4\", \"LG V60\", \"Nokia 9\", \"Sony Xperia 1\", \"iPhone SE\"], \"Price\": [700,1000,800,700,450,1000,399]})\n",
        "sample_df"
      ],
      "execution_count": null,
      "outputs": [
        {
          "output_type": "execute_result",
          "data": {
            "text/html": [
              "<div>\n",
              "<style scoped>\n",
              "    .dataframe tbody tr th:only-of-type {\n",
              "        vertical-align: middle;\n",
              "    }\n",
              "\n",
              "    .dataframe tbody tr th {\n",
              "        vertical-align: top;\n",
              "    }\n",
              "\n",
              "    .dataframe thead th {\n",
              "        text-align: right;\n",
              "    }\n",
              "</style>\n",
              "<table border=\"1\" class=\"dataframe\">\n",
              "  <thead>\n",
              "    <tr style=\"text-align: right;\">\n",
              "      <th></th>\n",
              "      <th>Smartphone</th>\n",
              "      <th>Price</th>\n",
              "    </tr>\n",
              "  </thead>\n",
              "  <tbody>\n",
              "    <tr>\n",
              "      <th>0</th>\n",
              "      <td>iPhone 11</td>\n",
              "      <td>700</td>\n",
              "    </tr>\n",
              "    <tr>\n",
              "      <th>1</th>\n",
              "      <td>Samsung Galaxy S20</td>\n",
              "      <td>1000</td>\n",
              "    </tr>\n",
              "    <tr>\n",
              "      <th>2</th>\n",
              "      <td>Google Pixel 4</td>\n",
              "      <td>800</td>\n",
              "    </tr>\n",
              "    <tr>\n",
              "      <th>3</th>\n",
              "      <td>LG V60</td>\n",
              "      <td>700</td>\n",
              "    </tr>\n",
              "    <tr>\n",
              "      <th>4</th>\n",
              "      <td>Nokia 9</td>\n",
              "      <td>450</td>\n",
              "    </tr>\n",
              "    <tr>\n",
              "      <th>5</th>\n",
              "      <td>Sony Xperia 1</td>\n",
              "      <td>1000</td>\n",
              "    </tr>\n",
              "    <tr>\n",
              "      <th>6</th>\n",
              "      <td>iPhone SE</td>\n",
              "      <td>399</td>\n",
              "    </tr>\n",
              "  </tbody>\n",
              "</table>\n",
              "</div>"
            ],
            "text/plain": [
              "           Smartphone  Price\n",
              "0           iPhone 11    700\n",
              "1  Samsung Galaxy S20   1000\n",
              "2      Google Pixel 4    800\n",
              "3              LG V60    700\n",
              "4             Nokia 9    450\n",
              "5       Sony Xperia 1   1000\n",
              "6           iPhone SE    399"
            ]
          },
          "metadata": {
            "tags": []
          },
          "execution_count": 2
        }
      ]
    },
    {
      "cell_type": "markdown",
      "metadata": {
        "id": "MPN4-t4upfxa"
      },
      "source": [
        "You can use the .loc index method to select all the items in one column which have a particular value in the second column. For example, we may want to select all items from the \"Smartphone\" column that have a value of 700 in the \"Price\" column.\n",
        "\n",
        "\n",
        "Follow along with the **live coding activity** to see how this works."
      ]
    },
    {
      "cell_type": "code",
      "metadata": {
        "colab": {
          "base_uri": "https://localhost:8080/"
        },
        "id": "fu9h0yPKpfxb",
        "outputId": "ae97ab74-fdbc-4a07-a6d0-b9db08873dd2"
      },
      "source": [
        "# This code selects all values from the first column, \"Smartphone\" where the value on that same row in the second column, \"Price\" is equal to 700\n",
        "sample_df[\"Smartphone\"].loc[sample_df[\"Price\"] == 700] #We are looking for the smart phone that are in the same rows as the values in the \"Price\" column that MATCH 700"
      ],
      "execution_count": null,
      "outputs": [
        {
          "output_type": "execute_result",
          "data": {
            "text/plain": [
              "0    iPhone 11\n",
              "3       LG V60\n",
              "Name: Smartphone, dtype: object"
            ]
          },
          "metadata": {
            "tags": []
          },
          "execution_count": 3
        }
      ]
    },
    {
      "cell_type": "markdown",
      "metadata": {
        "id": "CIYEkA3Wpfxd"
      },
      "source": [
        "Now you try! Let's say you want to view some more expensive phones. Select all the values from the \"Smartphone\" column where the value on that same row in the \"Price\" column is equal to 1000."
      ]
    },
    {
      "cell_type": "code",
      "metadata": {
        "colab": {
          "base_uri": "https://localhost:8080/"
        },
        "id": "O0PvGdTNpfxd",
        "outputId": "e8103e0d-43f0-4b8a-82b2-6bc34f6939bd"
      },
      "source": [
        "sample_df[\"Smartphone\"].loc[sample_df[\"Price\"] == 1000]"
      ],
      "execution_count": null,
      "outputs": [
        {
          "output_type": "execute_result",
          "data": {
            "text/plain": [
              "1    Samsung Galaxy S20\n",
              "5         Sony Xperia 1\n",
              "Name: Smartphone, dtype: object"
            ]
          },
          "metadata": {
            "tags": []
          },
          "execution_count": 4
        }
      ]
    },
    {
      "cell_type": "markdown",
      "metadata": {
        "id": "jzvDK1QEpfxg"
      },
      "source": [
        "Let's say you definitely want an iPhone of some sort, but you want to see just iPhone prices. Now select all the values from the \"Price\" column where the value on that same row in the \"Smartphone\" column contains the word \"iPhone\".\n",
        "\n",
        ".str.contain() returns as True if value exists within a string"
      ]
    },
    {
      "cell_type": "code",
      "metadata": {
        "colab": {
          "base_uri": "https://localhost:8080/"
        },
        "id": "bqiRqwcXpfxg",
        "outputId": "7be362c3-9f87-4d83-ceb5-25e5db2b0fdf"
      },
      "source": [
        "sample_df[\"Price\"].loc[sample_df[\"Smartphone\"].str.contains(\"iPhone\")]"
      ],
      "execution_count": null,
      "outputs": [
        {
          "output_type": "execute_result",
          "data": {
            "text/plain": [
              "0    700\n",
              "6    399\n",
              "Name: Price, dtype: int64"
            ]
          },
          "metadata": {
            "tags": []
          },
          "execution_count": 6
        }
      ]
    },
    {
      "cell_type": "markdown",
      "metadata": {
        "id": "uMfMtB_zpr3h"
      },
      "source": [
        "Let's say you're on a budget and don't want to spend more than $700 on a phone. Select all the values from the \"Smartphone\" column where the value on that same row in the \"Price\" column is less than or equal to 700."
      ]
    },
    {
      "cell_type": "code",
      "metadata": {
        "colab": {
          "base_uri": "https://localhost:8080/"
        },
        "id": "7TGx3Hxopq8Z",
        "outputId": "6d2b193c-e47d-4672-8aa0-2a6f19a29b10"
      },
      "source": [
        "sample_df[\"Smartphone\"].loc[sample_df[\"Price\"] <= 700]"
      ],
      "execution_count": null,
      "outputs": [
        {
          "output_type": "execute_result",
          "data": {
            "text/plain": [
              "0    iPhone 11\n",
              "3       LG V60\n",
              "4      Nokia 9\n",
              "6    iPhone SE\n",
              "Name: Smartphone, dtype: object"
            ]
          },
          "metadata": {
            "tags": []
          },
          "execution_count": 7
        }
      ]
    },
    {
      "cell_type": "markdown",
      "metadata": {
        "id": "utqMyj5_pfxj"
      },
      "source": [
        "#### Note: You can store these selected values in a variable, just like you've done with entire columns!"
      ]
    },
    {
      "cell_type": "markdown",
      "metadata": {
        "id": "GP9SqxKvpfxj"
      },
      "source": [
        "## Finding absolute magnitude"
      ]
    },
    {
      "cell_type": "markdown",
      "metadata": {
        "id": "JjPICJkepfxj"
      },
      "source": [
        "You will need to convert \"G\" to absolute magnitude for your CMD.\n",
        "\n",
        "Look in the dataset for distance. Using G and distance, you can calculate absolute magnitude using the following equation:\n",
        "\n",
        "absolute magnitude = G - 5 * log(distance) + 5"
      ]
    },
    {
      "cell_type": "code",
      "metadata": {
        "id": "7xrdzzqdpfxk"
      },
      "source": [
        "# You will need to import numpy\n",
        "import numpy as np"
      ],
      "execution_count": null,
      "outputs": []
    },
    {
      "cell_type": "code",
      "metadata": {
        "id": "_11KBn7Epfxn"
      },
      "source": [
        "# You can use this function in your code to find the log of distance:\n",
        "\n",
        "# np.log10()"
      ],
      "execution_count": null,
      "outputs": []
    },
    {
      "cell_type": "markdown",
      "metadata": {
        "id": "66bzd67ipfxp"
      },
      "source": [
        "### Your first task is to create a Color Magnitude Diagram for your star cluster\n",
        "You can use as many of the cells below as you need. You can add new cells with the \"+\" button."
      ]
    },
    {
      "cell_type": "code",
      "metadata": {
        "id": "Q5rXuczQpfxq"
      },
      "source": [
        "df = pd.read_csv('/content/drive/MyDrive/Colab Notebooks/Unit 3/oh_table.csv')"
      ],
      "execution_count": null,
      "outputs": []
    },
    {
      "cell_type": "code",
      "metadata": {
        "colab": {
          "base_uri": "https://localhost:8080/",
          "height": 419
        },
        "id": "NASmTxRTpfxu",
        "outputId": "49d6d838-e928-41ce-8fe5-753defc42bd3"
      },
      "source": [
        "df"
      ],
      "execution_count": null,
      "outputs": [
        {
          "output_type": "execute_result",
          "data": {
            "text/html": [
              "<div>\n",
              "<style scoped>\n",
              "    .dataframe tbody tr th:only-of-type {\n",
              "        vertical-align: middle;\n",
              "    }\n",
              "\n",
              "    .dataframe tbody tr th {\n",
              "        vertical-align: top;\n",
              "    }\n",
              "\n",
              "    .dataframe thead th {\n",
              "        text-align: right;\n",
              "    }\n",
              "</style>\n",
              "<table border=\"1\" class=\"dataframe\">\n",
              "  <thead>\n",
              "    <tr style=\"text-align: right;\">\n",
              "      <th></th>\n",
              "      <th>row_id</th>\n",
              "      <th>tgas_source_id</th>\n",
              "      <th>name</th>\n",
              "      <th>ra</th>\n",
              "      <th>dec</th>\n",
              "      <th>parallax</th>\n",
              "      <th>distance</th>\n",
              "      <th>G</th>\n",
              "      <th>J</th>\n",
              "      <th>rave_obs_id</th>\n",
              "      <th>rv</th>\n",
              "      <th>erv</th>\n",
              "      <th>group_id</th>\n",
              "      <th>group_size</th>\n",
              "    </tr>\n",
              "  </thead>\n",
              "  <tbody>\n",
              "    <tr>\n",
              "      <th>0</th>\n",
              "      <td>659</td>\n",
              "      <td>49809491645958528</td>\n",
              "      <td>TYC 1253-388-1</td>\n",
              "      <td>59.457281</td>\n",
              "      <td>18.562195</td>\n",
              "      <td>7.7395</td>\n",
              "      <td>129.949</td>\n",
              "      <td>11.160</td>\n",
              "      <td>9.984</td>\n",
              "      <td>NaN</td>\n",
              "      <td>NaN</td>\n",
              "      <td>NaN</td>\n",
              "      <td>0</td>\n",
              "      <td>151</td>\n",
              "    </tr>\n",
              "    <tr>\n",
              "      <th>1</th>\n",
              "      <td>1559</td>\n",
              "      <td>66939848447027584</td>\n",
              "      <td>TYC 1804-1924-1</td>\n",
              "      <td>57.070387</td>\n",
              "      <td>25.214932</td>\n",
              "      <td>7.6087</td>\n",
              "      <td>132.557</td>\n",
              "      <td>9.066</td>\n",
              "      <td>8.137</td>\n",
              "      <td>20120109_0346p23_140</td>\n",
              "      <td>2.95</td>\n",
              "      <td>1.60</td>\n",
              "      <td>0</td>\n",
              "      <td>151</td>\n",
              "    </tr>\n",
              "    <tr>\n",
              "      <th>2</th>\n",
              "      <td>1904</td>\n",
              "      <td>50905051903831680</td>\n",
              "      <td>HIP 18091</td>\n",
              "      <td>58.003444</td>\n",
              "      <td>19.596690</td>\n",
              "      <td>6.7611</td>\n",
              "      <td>148.752</td>\n",
              "      <td>10.265</td>\n",
              "      <td>9.267</td>\n",
              "      <td>NaN</td>\n",
              "      <td>NaN</td>\n",
              "      <td>NaN</td>\n",
              "      <td>0</td>\n",
              "      <td>151</td>\n",
              "    </tr>\n",
              "    <tr>\n",
              "      <th>3</th>\n",
              "      <td>1929</td>\n",
              "      <td>51452746133437696</td>\n",
              "      <td>HIP 18544</td>\n",
              "      <td>59.507154</td>\n",
              "      <td>20.676596</td>\n",
              "      <td>7.6989</td>\n",
              "      <td>131.839</td>\n",
              "      <td>9.249</td>\n",
              "      <td>8.436</td>\n",
              "      <td>NaN</td>\n",
              "      <td>NaN</td>\n",
              "      <td>NaN</td>\n",
              "      <td>0</td>\n",
              "      <td>151</td>\n",
              "    </tr>\n",
              "    <tr>\n",
              "      <th>4</th>\n",
              "      <td>1944</td>\n",
              "      <td>51619115986889472</td>\n",
              "      <td>TYC 1261-1630-1</td>\n",
              "      <td>58.370320</td>\n",
              "      <td>20.907178</td>\n",
              "      <td>7.4847</td>\n",
              "      <td>134.194</td>\n",
              "      <td>11.553</td>\n",
              "      <td>10.096</td>\n",
              "      <td>NaN</td>\n",
              "      <td>NaN</td>\n",
              "      <td>NaN</td>\n",
              "      <td>0</td>\n",
              "      <td>151</td>\n",
              "    </tr>\n",
              "    <tr>\n",
              "      <th>...</th>\n",
              "      <td>...</td>\n",
              "      <td>...</td>\n",
              "      <td>...</td>\n",
              "      <td>...</td>\n",
              "      <td>...</td>\n",
              "      <td>...</td>\n",
              "      <td>...</td>\n",
              "      <td>...</td>\n",
              "      <td>...</td>\n",
              "      <td>...</td>\n",
              "      <td>...</td>\n",
              "      <td>...</td>\n",
              "      <td>...</td>\n",
              "      <td>...</td>\n",
              "    </tr>\n",
              "    <tr>\n",
              "      <th>10601</th>\n",
              "      <td>10593</td>\n",
              "      <td>5303536805217274496</td>\n",
              "      <td>TYC 8590-295-1</td>\n",
              "      <td>134.972845</td>\n",
              "      <td>-57.791584</td>\n",
              "      <td>8.2914</td>\n",
              "      <td>121.164</td>\n",
              "      <td>9.227</td>\n",
              "      <td>8.411</td>\n",
              "      <td>NaN</td>\n",
              "      <td>NaN</td>\n",
              "      <td>NaN</td>\n",
              "      <td>4552</td>\n",
              "      <td>2</td>\n",
              "    </tr>\n",
              "    <tr>\n",
              "      <th>10602</th>\n",
              "      <td>10592</td>\n",
              "      <td>6222217287487746432</td>\n",
              "      <td>TYC 6757-132-1</td>\n",
              "      <td>219.058488</td>\n",
              "      <td>-28.156905</td>\n",
              "      <td>9.2928</td>\n",
              "      <td>107.850</td>\n",
              "      <td>10.580</td>\n",
              "      <td>9.428</td>\n",
              "      <td>20030807_1442m28_040</td>\n",
              "      <td>-35.48</td>\n",
              "      <td>4.58</td>\n",
              "      <td>4553</td>\n",
              "      <td>2</td>\n",
              "    </tr>\n",
              "    <tr>\n",
              "      <th>10603</th>\n",
              "      <td>10594</td>\n",
              "      <td>6222223437880906496</td>\n",
              "      <td>TYC 6753-233-1</td>\n",
              "      <td>218.954194</td>\n",
              "      <td>-28.045241</td>\n",
              "      <td>10.2215</td>\n",
              "      <td>98.435</td>\n",
              "      <td>10.506</td>\n",
              "      <td>9.274</td>\n",
              "      <td>NaN</td>\n",
              "      <td>NaN</td>\n",
              "      <td>NaN</td>\n",
              "      <td>4553</td>\n",
              "      <td>2</td>\n",
              "    </tr>\n",
              "    <tr>\n",
              "      <th>10604</th>\n",
              "      <td>10597</td>\n",
              "      <td>3194970268200573824</td>\n",
              "      <td>TYC 5305-675-1</td>\n",
              "      <td>59.289288</td>\n",
              "      <td>-8.483433</td>\n",
              "      <td>5.0950</td>\n",
              "      <td>197.926</td>\n",
              "      <td>10.346</td>\n",
              "      <td>9.438</td>\n",
              "      <td>NaN</td>\n",
              "      <td>NaN</td>\n",
              "      <td>NaN</td>\n",
              "      <td>4554</td>\n",
              "      <td>2</td>\n",
              "    </tr>\n",
              "    <tr>\n",
              "      <th>10605</th>\n",
              "      <td>10603</td>\n",
              "      <td>3195050223311275136</td>\n",
              "      <td>TYC 5304-553-1</td>\n",
              "      <td>58.290625</td>\n",
              "      <td>-8.624505</td>\n",
              "      <td>5.1377</td>\n",
              "      <td>196.432</td>\n",
              "      <td>9.737</td>\n",
              "      <td>8.755</td>\n",
              "      <td>NaN</td>\n",
              "      <td>NaN</td>\n",
              "      <td>NaN</td>\n",
              "      <td>4554</td>\n",
              "      <td>2</td>\n",
              "    </tr>\n",
              "  </tbody>\n",
              "</table>\n",
              "<p>10606 rows × 14 columns</p>\n",
              "</div>"
            ],
            "text/plain": [
              "       row_id       tgas_source_id             name  ...   erv  group_id  group_size\n",
              "0         659    49809491645958528   TYC 1253-388-1  ...   NaN         0         151\n",
              "1        1559    66939848447027584  TYC 1804-1924-1  ...  1.60         0         151\n",
              "2        1904    50905051903831680        HIP 18091  ...   NaN         0         151\n",
              "3        1929    51452746133437696        HIP 18544  ...   NaN         0         151\n",
              "4        1944    51619115986889472  TYC 1261-1630-1  ...   NaN         0         151\n",
              "...       ...                  ...              ...  ...   ...       ...         ...\n",
              "10601   10593  5303536805217274496   TYC 8590-295-1  ...   NaN      4552           2\n",
              "10602   10592  6222217287487746432   TYC 6757-132-1  ...  4.58      4553           2\n",
              "10603   10594  6222223437880906496   TYC 6753-233-1  ...   NaN      4553           2\n",
              "10604   10597  3194970268200573824   TYC 5305-675-1  ...   NaN      4554           2\n",
              "10605   10603  3195050223311275136   TYC 5304-553-1  ...   NaN      4554           2\n",
              "\n",
              "[10606 rows x 14 columns]"
            ]
          },
          "metadata": {
            "tags": []
          },
          "execution_count": 15
        }
      ]
    },
    {
      "cell_type": "code",
      "metadata": {
        "id": "WkL3pYhOpfxw"
      },
      "source": [
        "# variable =  samaple_df[\"column 1\"].loc[sample_df[column 2] == 0]\n",
        "G = df[\"G\"].loc[df[\"group_id\"] == 8]\n",
        "J = df[\"J\"].loc[df[\"group_id\"] == 8]\n",
        "distance = df[\"distance\"].loc[df[\"group_id\"] == 8]"
      ],
      "execution_count": null,
      "outputs": []
    },
    {
      "cell_type": "code",
      "metadata": {
        "id": "EWaGv109pfxy"
      },
      "source": [
        "absoulute_magnitude = G - 5 * np.log10(distance) + 5"
      ],
      "execution_count": null,
      "outputs": []
    },
    {
      "cell_type": "code",
      "metadata": {
        "id": "1DWQdC-42xRK"
      },
      "source": [
        "import matplotlib.pyplot as plt \n",
        "import matplotlib.colors as mpl"
      ],
      "execution_count": null,
      "outputs": []
    },
    {
      "cell_type": "code",
      "metadata": {
        "colab": {
          "base_uri": "https://localhost:8080/",
          "height": 295
        },
        "id": "F5I3F1Rnpfx2",
        "outputId": "2ff169f8-ae73-4900-d9a3-b43c6eb20391"
      },
      "source": [
        "cm = plt.cm.get_cmap(\"RdYlBu\")\n",
        "plt.scatter(G - J, absoulute_magnitude, c=G-J, s=35, cmap=cm, norm=mpl.LogNorm())\n",
        "# plt.scatter(J[24], G[24], c='magenta', s=200, marker='*') \n",
        "# plt.yscale('log')\n",
        "#plt.ylim([0.000001, 1000000])\n",
        "plt.xlabel('Temperature (K)')\n",
        "plt.ylabel('Brightness (Suns)')\n",
        "plt.title('Color Magnitude Diagram')\n",
        "plt.gca().invert_xaxis()\n",
        "plt.show()"
      ],
      "execution_count": null,
      "outputs": [
        {
          "output_type": "display_data",
          "data": {
            "image/png": "[encoded data removed]",
            "text/plain": [
              "<Figure size 432x288 with 1 Axes>"
            ]
          },
          "metadata": {
            "tags": [],
            "needs_background": "light"
          }
        }
      ]
    },
    {
      "cell_type": "markdown",
      "metadata": {
        "id": "BgLYth7Xpfx4"
      },
      "source": [
        "### Coding Challenge 1: Add the sun to your color magnitude diagram"
      ]
    },
    {
      "cell_type": "code",
      "metadata": {
        "id": "LlroU_R9pfx4"
      },
      "source": [
        ""
      ],
      "execution_count": null,
      "outputs": []
    },
    {
      "cell_type": "markdown",
      "metadata": {
        "id": "_tG61iyepfx6"
      },
      "source": [
        "### Coding Challenge 2: Add a colormap to your diagram"
      ]
    },
    {
      "cell_type": "code",
      "metadata": {
        "id": "M-_pH6SLpfx7"
      },
      "source": [
        ""
      ],
      "execution_count": null,
      "outputs": []
    },
    {
      "cell_type": "markdown",
      "metadata": {
        "id": "IuWfhZKKpfx9"
      },
      "source": [
        "### Coding Challenge 3: Create histograms for the absolute magnitude and color of your star cluster"
      ]
    },
    {
      "cell_type": "code",
      "metadata": {
        "id": "1uOX064Vpfx9"
      },
      "source": [
        ""
      ],
      "execution_count": null,
      "outputs": []
    },
    {
      "cell_type": "markdown",
      "metadata": {
        "id": "Zl8oC5j4jYwH"
      },
      "source": [
        "## 🟢Mini Project (Bonus): The Cultural-Societal Impact of the Lack of Access to Home Broadband\n",
        "\n",
        "Electromagnetic waves that have wavelengths that are larger than 1mm in length are typically called radio waves. These wavelengths are used for communication between mobile phones, radio stations, Bluetooth devices, and of course radio stations.\n",
        "\n",
        "Radio astronomers developed an understanding of radio waves, which provided huge advantage for the development of the high-speed WI-FI standard. In the early 1990’s, WI-FI speed was limited by errors created from the signal bouncing and echoing off walls and objects of a room. This problem was made worse when a lot of information was sent across a single pure tone (single frequency) sine-like radio waves, limiting the possible data WI-FI data rate. However, it was found that by spreading the load of information across the radio band, the echo was reduced. It was not until the mid 2000s that this standard had become main-stream in WI-FI technology.\n",
        "\n",
        "\n",
        "In modern times, Wi-Fi is crucial to everyday activities whether it be work, school, or retail. But, who has access to Wi-Fi and who doesn't? Create a dataframe using the following access-based-on-income vs. time data, and create a scatter plot that visualizes how they compare.\n",
        "\n",
        "Source: https://www.pewresearch.org/internet/fact-sheet/internet-broadband/?menuItem=2ab2b0be-6364-4d3a-8db7-ae134dbc05cd"
      ]
    },
    {
      "cell_type": "code",
      "metadata": {
        "id": "a5gvPz7EjYwJ"
      },
      "source": [
        "#Import necessary libraries"
      ],
      "execution_count": null,
      "outputs": []
    },
    {
      "cell_type": "code",
      "metadata": {
        "id": "bRYOFj9yjYwJ"
      },
      "source": [
        "#Read in data."
      ],
      "execution_count": null,
      "outputs": []
    },
    {
      "cell_type": "code",
      "metadata": {
        "id": "nc-eLlz7jYwK"
      },
      "source": [
        "#Store column data in variables."
      ],
      "execution_count": null,
      "outputs": []
    },
    {
      "cell_type": "code",
      "metadata": {
        "id": "sS_ku2IRjYwK"
      },
      "source": [
        "#Plot information\n"
      ],
      "execution_count": null,
      "outputs": []
    },
    {
      "cell_type": "markdown",
      "metadata": {
        "id": "dn1yXkyMjYwL"
      },
      "source": [
        "In your presentation, share your created visualizations above and your answers to the following questions along with any thoughts you have about the mini project.\n",
        "\n",
        "Answer the following questions:\n",
        "\n",
        "1. What income group of households has the greatest access to internet? The smallest?\n",
        "\n",
        "2. True or False: Equality exists because everyone has the opportunity to pay for internet access in their household. <br> Explain your thoughts.\n",
        "\n",
        "3. What are some ways that we can use our computer science skills to boost access of lower-income households to a stable high-speed internet connection?"
      ]
    },
    {
      "cell_type": "code",
      "metadata": {
        "id": "ICDd7g0AjYwM"
      },
      "source": [
        ""
      ],
      "execution_count": null,
      "outputs": []
    }
  ]
}