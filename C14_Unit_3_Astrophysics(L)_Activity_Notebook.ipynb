{
  "nbformat": 4,
  "nbformat_minor": 0,
  "metadata": {
    "kernelspec": {
      "display_name": "Python 3",
      "language": "python",
      "name": "python3"
    },
    "language_info": {
      "codemirror_mode": {
        "name": "ipython",
        "version": 3
      },
      "file_extension": ".py",
      "mimetype": "text/x-python",
      "name": "python",
      "nbconvert_exporter": "python",
      "pygments_lexer": "ipython3",
      "version": "3.8.3"
    },
    "colab": {
      "name": "C14 Unit 3 Astrophysics(L) - Activity Notebook.ipynb",
      "provenance": []
    }
  },
  "cells": [
    {
      "cell_type": "markdown",
      "metadata": {
        "id": "zUcyjJCYCivb"
      },
      "source": [
        "# 🟢Module 1: Analyzing lab data with pandas\n",
        "\n",
        "This module will walk you through the basics of **creating a pandas dataframe**. You'll use the data you collected in the distance vs brightness lab."
      ]
    },
    {
      "cell_type": "markdown",
      "metadata": {
        "id": "tXsaI1ycCivd"
      },
      "source": [
        "First, let's import the pandas and matplotlib libraries:"
      ]
    },
    {
      "cell_type": "code",
      "metadata": {
        "id": "tgqt_968Civf"
      },
      "source": [
        "import pandas as pd\n",
        "import matplotlib.pyplot as plt"
      ],
      "execution_count": null,
      "outputs": []
    },
    {
      "cell_type": "markdown",
      "metadata": {
        "id": "RihV0STDCivg"
      },
      "source": [
        "Next, create 4 lists: 1 that contains your distance measurements and 3 that contain your brightness measurements from each experimental run."
      ]
    },
    {
      "cell_type": "code",
      "metadata": {
        "id": "rCzQGBW1Civh"
      },
      "source": [
        "# Fill in the lists below\n",
        "dist = [ 0, 10, 20, 30, 40, 50, 60, 70, 80, 90, 100 ]\n",
        "brt1 = [ 18914, 1826, 624, 240, 144, 47, 47, 47, 3, 3, 47 ]\n",
        "brt2 = [ 17035, 3415, 818, 337, 144, 94, 47, 47, 3, 3, 47 ]\n",
        "brt3 = [ 16651, 16604, 3175, 818, 337, 144, 47, 3, 94, 3, 3 ]"
      ],
      "execution_count": null,
      "outputs": []
    },
    {
      "cell_type": "markdown",
      "metadata": {
        "id": "XTPCPjpICivj"
      },
      "source": [
        "Now we'll create a dataframe based on these lists using the pandas .DataFrame() function."
      ]
    },
    {
      "cell_type": "code",
      "metadata": {
        "id": "cSDGKPmxCivj"
      },
      "source": [
        "df = pd.DataFrame({\"distance\": dist, \"brightness 1\": brt1, \"brightness 2\": brt2, \"brightness 3\": brt3})\n",
        "\n",
        "# See those {curly brackets}? This means we're using a special data type called a dictionary!"
      ],
      "execution_count": null,
      "outputs": []
    },
    {
      "cell_type": "markdown",
      "metadata": {
        "id": "Vb7TiLIoCivk"
      },
      "source": [
        "Look at the first 5 lines of our dataframe using the .head() function"
      ]
    },
    {
      "cell_type": "code",
      "metadata": {
        "colab": {
          "base_uri": "https://localhost:8080/",
          "height": 204
        },
        "id": "tyUh_5YhCivm",
        "outputId": "630d911a-67bd-4d44-f27e-f011b10b0297"
      },
      "source": [
        "df.head(5)"
      ],
      "execution_count": null,
      "outputs": [
        {
          "output_type": "execute_result",
          "data": {
            "text/html": [
              "<div>\n",
              "<style scoped>\n",
              "    .dataframe tbody tr th:only-of-type {\n",
              "        vertical-align: middle;\n",
              "    }\n",
              "\n",
              "    .dataframe tbody tr th {\n",
              "        vertical-align: top;\n",
              "    }\n",
              "\n",
              "    .dataframe thead th {\n",
              "        text-align: right;\n",
              "    }\n",
              "</style>\n",
              "<table border=\"1\" class=\"dataframe\">\n",
              "  <thead>\n",
              "    <tr style=\"text-align: right;\">\n",
              "      <th></th>\n",
              "      <th>distance</th>\n",
              "      <th>brightness 1</th>\n",
              "      <th>brightness 2</th>\n",
              "      <th>brightness 3</th>\n",
              "    </tr>\n",
              "  </thead>\n",
              "  <tbody>\n",
              "    <tr>\n",
              "      <th>0</th>\n",
              "      <td>0</td>\n",
              "      <td>18914</td>\n",
              "      <td>17035</td>\n",
              "      <td>16651</td>\n",
              "    </tr>\n",
              "    <tr>\n",
              "      <th>1</th>\n",
              "      <td>10</td>\n",
              "      <td>1826</td>\n",
              "      <td>3415</td>\n",
              "      <td>16604</td>\n",
              "    </tr>\n",
              "    <tr>\n",
              "      <th>2</th>\n",
              "      <td>20</td>\n",
              "      <td>624</td>\n",
              "      <td>818</td>\n",
              "      <td>3175</td>\n",
              "    </tr>\n",
              "    <tr>\n",
              "      <th>3</th>\n",
              "      <td>30</td>\n",
              "      <td>240</td>\n",
              "      <td>337</td>\n",
              "      <td>818</td>\n",
              "    </tr>\n",
              "    <tr>\n",
              "      <th>4</th>\n",
              "      <td>40</td>\n",
              "      <td>144</td>\n",
              "      <td>144</td>\n",
              "      <td>337</td>\n",
              "    </tr>\n",
              "  </tbody>\n",
              "</table>\n",
              "</div>"
            ],
            "text/plain": [
              "   distance  brightness 1  brightness 2  brightness 3\n",
              "0         0         18914         17035         16651\n",
              "1        10          1826          3415         16604\n",
              "2        20           624           818          3175\n",
              "3        30           240           337           818\n",
              "4        40           144           144           337"
            ]
          },
          "metadata": {
            "tags": []
          },
          "execution_count": 4
        }
      ]
    },
    {
      "cell_type": "markdown",
      "metadata": {
        "id": "KYHpzkzuCivm"
      },
      "source": [
        "Notice that the strings we chose in the .DataFrame() function have become the column headers and the items from the lists are the column values. \n",
        "\n",
        "What order are the columns in?"
      ]
    },
    {
      "cell_type": "markdown",
      "metadata": {
        "id": "m2Yz9_G-Civn"
      },
      "source": [
        "## Working with data columns"
      ]
    },
    {
      "cell_type": "markdown",
      "metadata": {
        "id": "gDONsChPCivo"
      },
      "source": [
        "Select just the \"brightness 1\" column and assign it to a variable."
      ]
    },
    {
      "cell_type": "code",
      "metadata": {
        "id": "NWUn55fJCivp"
      },
      "source": [
        "brightness1 = df[\"brightness 1\"]"
      ],
      "execution_count": null,
      "outputs": []
    },
    {
      "cell_type": "markdown",
      "metadata": {
        "id": "ESr2pkFuCivq"
      },
      "source": [
        "Use the .head() function to look at the first 10 values in this column."
      ]
    },
    {
      "cell_type": "code",
      "metadata": {
        "colab": {
          "base_uri": "https://localhost:8080/"
        },
        "id": "PrMRhb58Civr",
        "outputId": "c09da4fc-b2b8-4998-c9e3-a0bbdeeddb94"
      },
      "source": [
        "brightness1.head(10)"
      ],
      "execution_count": null,
      "outputs": [
        {
          "output_type": "execute_result",
          "data": {
            "text/plain": [
              "0    18914\n",
              "1     1826\n",
              "2      624\n",
              "3      240\n",
              "4      144\n",
              "5       47\n",
              "6       47\n",
              "7       47\n",
              "8        3\n",
              "9        3\n",
              "Name: brightness 1, dtype: int64"
            ]
          },
          "metadata": {
            "tags": []
          },
          "execution_count": 6
        }
      ]
    },
    {
      "cell_type": "markdown",
      "metadata": {
        "id": "hkNXQ6P-Civr"
      },
      "source": [
        "Print out the min, max, and average value in this column:"
      ]
    },
    {
      "cell_type": "code",
      "metadata": {
        "colab": {
          "base_uri": "https://localhost:8080/"
        },
        "id": "frKsfc1HCivs",
        "outputId": "dca9c30e-b2da-4e7a-e591-99bc53d9662d"
      },
      "source": [
        "# You may have used numpy functions for these calculations in the past, but have you tried pandas methods?\n",
        "# Check your cheat sheet for details\n",
        "\n",
        "print(brightness1.min())\n",
        "print(brightness1.max())\n",
        "print(brightness1.mean())"
      ],
      "execution_count": null,
      "outputs": [
        {
          "output_type": "stream",
          "text": [
            "3\n",
            "18914\n",
            "1994.7272727272727\n"
          ],
          "name": "stdout"
        }
      ]
    },
    {
      "cell_type": "markdown",
      "metadata": {
        "id": "fjOg6eTFCivt"
      },
      "source": [
        "Use the .count() method to find out how many values are in the first brightness column:"
      ]
    },
    {
      "cell_type": "code",
      "metadata": {
        "colab": {
          "base_uri": "https://localhost:8080/"
        },
        "id": "_gtkBhrACivt",
        "outputId": "25ae2710-cb8c-4cc1-b1c1-84572b51d3c2"
      },
      "source": [
        "brightness1.count()"
      ],
      "execution_count": null,
      "outputs": [
        {
          "output_type": "execute_result",
          "data": {
            "text/plain": [
              "11"
            ]
          },
          "metadata": {
            "tags": []
          },
          "execution_count": 8
        }
      ]
    },
    {
      "cell_type": "markdown",
      "metadata": {
        "id": "HJtRkTScCivu"
      },
      "source": [
        "Now use the .sum() method to find the sum of all the values in this column:"
      ]
    },
    {
      "cell_type": "code",
      "metadata": {
        "colab": {
          "base_uri": "https://localhost:8080/"
        },
        "id": "scSF7qc-Civv",
        "outputId": "cad29e87-9397-4b6b-ee16-160d385c7207"
      },
      "source": [
        "brightness1.sum()"
      ],
      "execution_count": null,
      "outputs": [
        {
          "output_type": "execute_result",
          "data": {
            "text/plain": [
              "21942"
            ]
          },
          "metadata": {
            "tags": []
          },
          "execution_count": 9
        }
      ]
    },
    {
      "cell_type": "markdown",
      "metadata": {
        "id": "pj2TThwHCivw"
      },
      "source": [
        "## Adding new data to your dataframe"
      ]
    },
    {
      "cell_type": "markdown",
      "metadata": {
        "id": "GkRb27cMCivw"
      },
      "source": [
        "You have three columns for brightness, but we're interested in calculating the average.\n",
        "\n",
        "Let's add a new column to our dataframe that contains the average brightness value:"
      ]
    },
    {
      "cell_type": "code",
      "metadata": {
        "id": "IbhS4T6kCivx"
      },
      "source": [
        "#Sample: df[\"new column\"] = df[[\"col1\", \"col2\"]].mean(axis=1)\n",
        "\n",
        "# Notes:\n",
        "# \"new column\" is the name of the new column we are creating\n",
        "# We are specifying which columns to average together using an index\n",
        "# We're using the pandas .mean() method again!\n",
        "# axis=1 specifies that pandas should find the mean across columns. \n",
        "# (axis=0 would tell pandas to find the mean across rows)\n",
        "\n",
        "# write code to add an average brightness column below:\n",
        "\n",
        "df[\"avg brightness\"] = df[[\"brightness 1\", \"brightness 2\", \"brightness 3\"]].mean(axis=1)"
      ],
      "execution_count": null,
      "outputs": []
    },
    {
      "cell_type": "markdown",
      "metadata": {
        "id": "rAeFmUTJCivx"
      },
      "source": [
        "Use the .head() method to check that you've successfully added the new column:"
      ]
    },
    {
      "cell_type": "code",
      "metadata": {
        "colab": {
          "base_uri": "https://localhost:8080/",
          "height": 204
        },
        "id": "f5SpCRpZCivy",
        "outputId": "a8911bc6-734f-4ac9-d427-9a5da4fd157a"
      },
      "source": [
        "df.head()"
      ],
      "execution_count": null,
      "outputs": [
        {
          "output_type": "execute_result",
          "data": {
            "text/html": [
              "<div>\n",
              "<style scoped>\n",
              "    .dataframe tbody tr th:only-of-type {\n",
              "        vertical-align: middle;\n",
              "    }\n",
              "\n",
              "    .dataframe tbody tr th {\n",
              "        vertical-align: top;\n",
              "    }\n",
              "\n",
              "    .dataframe thead th {\n",
              "        text-align: right;\n",
              "    }\n",
              "</style>\n",
              "<table border=\"1\" class=\"dataframe\">\n",
              "  <thead>\n",
              "    <tr style=\"text-align: right;\">\n",
              "      <th></th>\n",
              "      <th>distance</th>\n",
              "      <th>brightness 1</th>\n",
              "      <th>brightness 2</th>\n",
              "      <th>brightness 3</th>\n",
              "    </tr>\n",
              "  </thead>\n",
              "  <tbody>\n",
              "    <tr>\n",
              "      <th>0</th>\n",
              "      <td>0</td>\n",
              "      <td>18914</td>\n",
              "      <td>17035</td>\n",
              "      <td>16651</td>\n",
              "    </tr>\n",
              "    <tr>\n",
              "      <th>1</th>\n",
              "      <td>10</td>\n",
              "      <td>1826</td>\n",
              "      <td>3415</td>\n",
              "      <td>16604</td>\n",
              "    </tr>\n",
              "    <tr>\n",
              "      <th>2</th>\n",
              "      <td>20</td>\n",
              "      <td>624</td>\n",
              "      <td>818</td>\n",
              "      <td>3175</td>\n",
              "    </tr>\n",
              "    <tr>\n",
              "      <th>3</th>\n",
              "      <td>30</td>\n",
              "      <td>240</td>\n",
              "      <td>337</td>\n",
              "      <td>818</td>\n",
              "    </tr>\n",
              "    <tr>\n",
              "      <th>4</th>\n",
              "      <td>40</td>\n",
              "      <td>144</td>\n",
              "      <td>144</td>\n",
              "      <td>337</td>\n",
              "    </tr>\n",
              "  </tbody>\n",
              "</table>\n",
              "</div>"
            ],
            "text/plain": [
              "   distance  brightness 1  brightness 2  brightness 3\n",
              "0         0         18914         17035         16651\n",
              "1        10          1826          3415         16604\n",
              "2        20           624           818          3175\n",
              "3        30           240           337           818\n",
              "4        40           144           144           337"
            ]
          },
          "metadata": {
            "tags": []
          },
          "execution_count": 10
        }
      ]
    },
    {
      "cell_type": "markdown",
      "metadata": {
        "id": "qIjY_9JGCivy"
      },
      "source": [
        "Assign the \"avg brightness\" column to a new variable:"
      ]
    },
    {
      "cell_type": "code",
      "metadata": {
        "id": "bZv52uE0Civz"
      },
      "source": [
        "avgB = df[ \"avg brightness\" ] #syntax: variable_name = name_of_data_frame[ \"name of the column\" ]"
      ],
      "execution_count": null,
      "outputs": []
    },
    {
      "cell_type": "markdown",
      "metadata": {
        "id": "Ch_dDIjJCiv0"
      },
      "source": [
        "What is the data type of the \"avg brightness\" column? (Hint: use the .dtypes method)"
      ]
    },
    {
      "cell_type": "code",
      "metadata": {
        "colab": {
          "base_uri": "https://localhost:8080/"
        },
        "id": "H1lMvYPxCiv0",
        "outputId": "7894fe84-92d0-47c1-d282-7f4d8b97aedf"
      },
      "source": [
        "# Note that the .dtypes method doesn't use parentheses\n",
        "avgB.dtypes"
      ],
      "execution_count": null,
      "outputs": [
        {
          "output_type": "execute_result",
          "data": {
            "text/plain": [
              "dtype('float64')"
            ]
          },
          "metadata": {
            "tags": []
          },
          "execution_count": 16
        }
      ]
    },
    {
      "cell_type": "markdown",
      "metadata": {
        "id": "ozP0QtT3Civ1"
      },
      "source": [
        "Let's compare this to the rest of the columns. (Hint: try running the .dtypes attribute on the whole dataframe)"
      ]
    },
    {
      "cell_type": "code",
      "metadata": {
        "colab": {
          "base_uri": "https://localhost:8080/"
        },
        "id": "bDr8S4i2Civ1",
        "outputId": "4a9c3c20-f831-4b65-8e40-148092909f4c"
      },
      "source": [
        "df.dtypes"
      ],
      "execution_count": null,
      "outputs": [
        {
          "output_type": "execute_result",
          "data": {
            "text/plain": [
              "distance            int64\n",
              "brightness 1        int64\n",
              "brightness 2        int64\n",
              "brightness 3        int64\n",
              "avg brightness    float64\n",
              "dtype: object"
            ]
          },
          "metadata": {
            "tags": []
          },
          "execution_count": 17
        }
      ]
    },
    {
      "cell_type": "markdown",
      "metadata": {
        "id": "j33exvLBCiv1"
      },
      "source": [
        "## Sorting your data"
      ]
    },
    {
      "cell_type": "markdown",
      "metadata": {
        "id": "W-tDe4dRCiv2"
      },
      "source": [
        "Now let's do some more data analysis using pandas. We can use the .sort_values() function to sort our data by average brightness."
      ]
    },
    {
      "cell_type": "code",
      "metadata": {
        "colab": {
          "base_uri": "https://localhost:8080/",
          "height": 359
        },
        "id": "lYYV3NUHCiv2",
        "outputId": "d8973415-e900-4618-a3f9-57a4b95926a1"
      },
      "source": [
        "df_sorted = df.sort_values([\"avg brightness\"]) # specify the column that you want to use for the sort using an index\n",
        "# Note that we need to assign the sorted dataframe to a new variable\n",
        "\n",
        "df_sorted.head(10) # Look at the first 10 lines of the sorted file"
      ],
      "execution_count": null,
      "outputs": [
        {
          "output_type": "execute_result",
          "data": {
            "text/html": [
              "<div>\n",
              "<style scoped>\n",
              "    .dataframe tbody tr th:only-of-type {\n",
              "        vertical-align: middle;\n",
              "    }\n",
              "\n",
              "    .dataframe tbody tr th {\n",
              "        vertical-align: top;\n",
              "    }\n",
              "\n",
              "    .dataframe thead th {\n",
              "        text-align: right;\n",
              "    }\n",
              "</style>\n",
              "<table border=\"1\" class=\"dataframe\">\n",
              "  <thead>\n",
              "    <tr style=\"text-align: right;\">\n",
              "      <th></th>\n",
              "      <th>distance</th>\n",
              "      <th>brightness 1</th>\n",
              "      <th>brightness 2</th>\n",
              "      <th>brightness 3</th>\n",
              "      <th>avg brightness</th>\n",
              "    </tr>\n",
              "  </thead>\n",
              "  <tbody>\n",
              "    <tr>\n",
              "      <th>9</th>\n",
              "      <td>90</td>\n",
              "      <td>3</td>\n",
              "      <td>3</td>\n",
              "      <td>3</td>\n",
              "      <td>3.000000</td>\n",
              "    </tr>\n",
              "    <tr>\n",
              "      <th>7</th>\n",
              "      <td>70</td>\n",
              "      <td>47</td>\n",
              "      <td>47</td>\n",
              "      <td>3</td>\n",
              "      <td>32.333333</td>\n",
              "    </tr>\n",
              "    <tr>\n",
              "      <th>10</th>\n",
              "      <td>100</td>\n",
              "      <td>47</td>\n",
              "      <td>47</td>\n",
              "      <td>3</td>\n",
              "      <td>32.333333</td>\n",
              "    </tr>\n",
              "    <tr>\n",
              "      <th>8</th>\n",
              "      <td>80</td>\n",
              "      <td>3</td>\n",
              "      <td>3</td>\n",
              "      <td>94</td>\n",
              "      <td>33.333333</td>\n",
              "    </tr>\n",
              "    <tr>\n",
              "      <th>6</th>\n",
              "      <td>60</td>\n",
              "      <td>47</td>\n",
              "      <td>47</td>\n",
              "      <td>47</td>\n",
              "      <td>47.000000</td>\n",
              "    </tr>\n",
              "    <tr>\n",
              "      <th>5</th>\n",
              "      <td>50</td>\n",
              "      <td>47</td>\n",
              "      <td>94</td>\n",
              "      <td>144</td>\n",
              "      <td>95.000000</td>\n",
              "    </tr>\n",
              "    <tr>\n",
              "      <th>4</th>\n",
              "      <td>40</td>\n",
              "      <td>144</td>\n",
              "      <td>144</td>\n",
              "      <td>337</td>\n",
              "      <td>208.333333</td>\n",
              "    </tr>\n",
              "    <tr>\n",
              "      <th>3</th>\n",
              "      <td>30</td>\n",
              "      <td>240</td>\n",
              "      <td>337</td>\n",
              "      <td>818</td>\n",
              "      <td>465.000000</td>\n",
              "    </tr>\n",
              "    <tr>\n",
              "      <th>2</th>\n",
              "      <td>20</td>\n",
              "      <td>624</td>\n",
              "      <td>818</td>\n",
              "      <td>3175</td>\n",
              "      <td>1539.000000</td>\n",
              "    </tr>\n",
              "    <tr>\n",
              "      <th>1</th>\n",
              "      <td>10</td>\n",
              "      <td>1826</td>\n",
              "      <td>3415</td>\n",
              "      <td>16604</td>\n",
              "      <td>7281.666667</td>\n",
              "    </tr>\n",
              "  </tbody>\n",
              "</table>\n",
              "</div>"
            ],
            "text/plain": [
              "    distance  brightness 1  brightness 2  brightness 3  avg brightness\n",
              "9         90             3             3             3        3.000000\n",
              "7         70            47            47             3       32.333333\n",
              "10       100            47            47             3       32.333333\n",
              "8         80             3             3            94       33.333333\n",
              "6         60            47            47            47       47.000000\n",
              "5         50            47            94           144       95.000000\n",
              "4         40           144           144           337      208.333333\n",
              "3         30           240           337           818      465.000000\n",
              "2         20           624           818          3175     1539.000000\n",
              "1         10          1826          3415         16604     7281.666667"
            ]
          },
          "metadata": {
            "tags": []
          },
          "execution_count": 18
        }
      ]
    },
    {
      "cell_type": "markdown",
      "metadata": {
        "id": "hJN-WtBrCiv3"
      },
      "source": [
        "Look at the distances in this sorted dataframe. Do the lowest brightness values occur at large or small distances?\n",
        "\n",
        "What if we want to look at the highest brightness values? We can sort the data in reverse by adding another argument to the sort_values() function."
      ]
    },
    {
      "cell_type": "code",
      "metadata": {
        "colab": {
          "base_uri": "https://localhost:8080/",
          "height": 359
        },
        "id": "e6xilaRFCiv3",
        "outputId": "190494ad-0c63-426a-bcad-2d47f2415deb"
      },
      "source": [
        "# set the ascending argument to False to sort values from highest to lowest\n",
        "df_sorted = df.sort_values([\"avg brightness\"], ascending = False)\n",
        "# We will overwrite our original variable, but you could use a different variable here if you wanted\n",
        "# to store multiple sorted dataframes\n",
        "\n",
        "df_sorted.head(10)"
      ],
      "execution_count": null,
      "outputs": [
        {
          "output_type": "execute_result",
          "data": {
            "text/html": [
              "<div>\n",
              "<style scoped>\n",
              "    .dataframe tbody tr th:only-of-type {\n",
              "        vertical-align: middle;\n",
              "    }\n",
              "\n",
              "    .dataframe tbody tr th {\n",
              "        vertical-align: top;\n",
              "    }\n",
              "\n",
              "    .dataframe thead th {\n",
              "        text-align: right;\n",
              "    }\n",
              "</style>\n",
              "<table border=\"1\" class=\"dataframe\">\n",
              "  <thead>\n",
              "    <tr style=\"text-align: right;\">\n",
              "      <th></th>\n",
              "      <th>distance</th>\n",
              "      <th>brightness 1</th>\n",
              "      <th>brightness 2</th>\n",
              "      <th>brightness 3</th>\n",
              "      <th>avg brightness</th>\n",
              "    </tr>\n",
              "  </thead>\n",
              "  <tbody>\n",
              "    <tr>\n",
              "      <th>0</th>\n",
              "      <td>0</td>\n",
              "      <td>18914</td>\n",
              "      <td>17035</td>\n",
              "      <td>16651</td>\n",
              "      <td>17533.333333</td>\n",
              "    </tr>\n",
              "    <tr>\n",
              "      <th>1</th>\n",
              "      <td>10</td>\n",
              "      <td>1826</td>\n",
              "      <td>3415</td>\n",
              "      <td>16604</td>\n",
              "      <td>7281.666667</td>\n",
              "    </tr>\n",
              "    <tr>\n",
              "      <th>2</th>\n",
              "      <td>20</td>\n",
              "      <td>624</td>\n",
              "      <td>818</td>\n",
              "      <td>3175</td>\n",
              "      <td>1539.000000</td>\n",
              "    </tr>\n",
              "    <tr>\n",
              "      <th>3</th>\n",
              "      <td>30</td>\n",
              "      <td>240</td>\n",
              "      <td>337</td>\n",
              "      <td>818</td>\n",
              "      <td>465.000000</td>\n",
              "    </tr>\n",
              "    <tr>\n",
              "      <th>4</th>\n",
              "      <td>40</td>\n",
              "      <td>144</td>\n",
              "      <td>144</td>\n",
              "      <td>337</td>\n",
              "      <td>208.333333</td>\n",
              "    </tr>\n",
              "    <tr>\n",
              "      <th>5</th>\n",
              "      <td>50</td>\n",
              "      <td>47</td>\n",
              "      <td>94</td>\n",
              "      <td>144</td>\n",
              "      <td>95.000000</td>\n",
              "    </tr>\n",
              "    <tr>\n",
              "      <th>6</th>\n",
              "      <td>60</td>\n",
              "      <td>47</td>\n",
              "      <td>47</td>\n",
              "      <td>47</td>\n",
              "      <td>47.000000</td>\n",
              "    </tr>\n",
              "    <tr>\n",
              "      <th>8</th>\n",
              "      <td>80</td>\n",
              "      <td>3</td>\n",
              "      <td>3</td>\n",
              "      <td>94</td>\n",
              "      <td>33.333333</td>\n",
              "    </tr>\n",
              "    <tr>\n",
              "      <th>7</th>\n",
              "      <td>70</td>\n",
              "      <td>47</td>\n",
              "      <td>47</td>\n",
              "      <td>3</td>\n",
              "      <td>32.333333</td>\n",
              "    </tr>\n",
              "    <tr>\n",
              "      <th>10</th>\n",
              "      <td>100</td>\n",
              "      <td>47</td>\n",
              "      <td>47</td>\n",
              "      <td>3</td>\n",
              "      <td>32.333333</td>\n",
              "    </tr>\n",
              "  </tbody>\n",
              "</table>\n",
              "</div>"
            ],
            "text/plain": [
              "    distance  brightness 1  brightness 2  brightness 3  avg brightness\n",
              "0          0         18914         17035         16651    17533.333333\n",
              "1         10          1826          3415         16604     7281.666667\n",
              "2         20           624           818          3175     1539.000000\n",
              "3         30           240           337           818      465.000000\n",
              "4         40           144           144           337      208.333333\n",
              "5         50            47            94           144       95.000000\n",
              "6         60            47            47            47       47.000000\n",
              "8         80             3             3            94       33.333333\n",
              "7         70            47            47             3       32.333333\n",
              "10       100            47            47             3       32.333333"
            ]
          },
          "metadata": {
            "tags": []
          },
          "execution_count": 19
        }
      ]
    },
    {
      "cell_type": "markdown",
      "metadata": {
        "id": "WksED4oFCiv4"
      },
      "source": [
        "Are the distances associated with the largest brightness values large or small?"
      ]
    },
    {
      "cell_type": "markdown",
      "metadata": {
        "id": "-P9JxmrmCiv4"
      },
      "source": [
        "Try it yourself! Sort the dataframe by distance (high to low) and look at the first 10 rows:"
      ]
    },
    {
      "cell_type": "code",
      "metadata": {
        "colab": {
          "base_uri": "https://localhost:8080/",
          "height": 359
        },
        "id": "4gUnf2f9Civ5",
        "outputId": "78cbf238-6303-448d-ba7a-a5e12343bb50"
      },
      "source": [
        "df_sorted = df.sort_values([\"distance\"], ascending = False)\n",
        "\n",
        "df_sorted.head(10)"
      ],
      "execution_count": null,
      "outputs": [
        {
          "output_type": "execute_result",
          "data": {
            "text/html": [
              "<div>\n",
              "<style scoped>\n",
              "    .dataframe tbody tr th:only-of-type {\n",
              "        vertical-align: middle;\n",
              "    }\n",
              "\n",
              "    .dataframe tbody tr th {\n",
              "        vertical-align: top;\n",
              "    }\n",
              "\n",
              "    .dataframe thead th {\n",
              "        text-align: right;\n",
              "    }\n",
              "</style>\n",
              "<table border=\"1\" class=\"dataframe\">\n",
              "  <thead>\n",
              "    <tr style=\"text-align: right;\">\n",
              "      <th></th>\n",
              "      <th>distance</th>\n",
              "      <th>brightness 1</th>\n",
              "      <th>brightness 2</th>\n",
              "      <th>brightness 3</th>\n",
              "      <th>avg brightness</th>\n",
              "    </tr>\n",
              "  </thead>\n",
              "  <tbody>\n",
              "    <tr>\n",
              "      <th>10</th>\n",
              "      <td>100</td>\n",
              "      <td>47</td>\n",
              "      <td>47</td>\n",
              "      <td>3</td>\n",
              "      <td>32.333333</td>\n",
              "    </tr>\n",
              "    <tr>\n",
              "      <th>9</th>\n",
              "      <td>90</td>\n",
              "      <td>3</td>\n",
              "      <td>3</td>\n",
              "      <td>3</td>\n",
              "      <td>3.000000</td>\n",
              "    </tr>\n",
              "    <tr>\n",
              "      <th>8</th>\n",
              "      <td>80</td>\n",
              "      <td>3</td>\n",
              "      <td>3</td>\n",
              "      <td>94</td>\n",
              "      <td>33.333333</td>\n",
              "    </tr>\n",
              "    <tr>\n",
              "      <th>7</th>\n",
              "      <td>70</td>\n",
              "      <td>47</td>\n",
              "      <td>47</td>\n",
              "      <td>3</td>\n",
              "      <td>32.333333</td>\n",
              "    </tr>\n",
              "    <tr>\n",
              "      <th>6</th>\n",
              "      <td>60</td>\n",
              "      <td>47</td>\n",
              "      <td>47</td>\n",
              "      <td>47</td>\n",
              "      <td>47.000000</td>\n",
              "    </tr>\n",
              "    <tr>\n",
              "      <th>5</th>\n",
              "      <td>50</td>\n",
              "      <td>47</td>\n",
              "      <td>94</td>\n",
              "      <td>144</td>\n",
              "      <td>95.000000</td>\n",
              "    </tr>\n",
              "    <tr>\n",
              "      <th>4</th>\n",
              "      <td>40</td>\n",
              "      <td>144</td>\n",
              "      <td>144</td>\n",
              "      <td>337</td>\n",
              "      <td>208.333333</td>\n",
              "    </tr>\n",
              "    <tr>\n",
              "      <th>3</th>\n",
              "      <td>30</td>\n",
              "      <td>240</td>\n",
              "      <td>337</td>\n",
              "      <td>818</td>\n",
              "      <td>465.000000</td>\n",
              "    </tr>\n",
              "    <tr>\n",
              "      <th>2</th>\n",
              "      <td>20</td>\n",
              "      <td>624</td>\n",
              "      <td>818</td>\n",
              "      <td>3175</td>\n",
              "      <td>1539.000000</td>\n",
              "    </tr>\n",
              "    <tr>\n",
              "      <th>1</th>\n",
              "      <td>10</td>\n",
              "      <td>1826</td>\n",
              "      <td>3415</td>\n",
              "      <td>16604</td>\n",
              "      <td>7281.666667</td>\n",
              "    </tr>\n",
              "  </tbody>\n",
              "</table>\n",
              "</div>"
            ],
            "text/plain": [
              "    distance  brightness 1  brightness 2  brightness 3  avg brightness\n",
              "10       100            47            47             3       32.333333\n",
              "9         90             3             3             3        3.000000\n",
              "8         80             3             3            94       33.333333\n",
              "7         70            47            47             3       32.333333\n",
              "6         60            47            47            47       47.000000\n",
              "5         50            47            94           144       95.000000\n",
              "4         40           144           144           337      208.333333\n",
              "3         30           240           337           818      465.000000\n",
              "2         20           624           818          3175     1539.000000\n",
              "1         10          1826          3415         16604     7281.666667"
            ]
          },
          "metadata": {
            "tags": []
          },
          "execution_count": 20
        }
      ]
    },
    {
      "cell_type": "markdown",
      "metadata": {
        "id": "1D_XA1nxCiv5"
      },
      "source": [
        "## Exporting your processed data"
      ]
    },
    {
      "cell_type": "code",
      "metadata": {
        "colab": {
          "base_uri": "https://localhost:8080/"
        },
        "id": "IM1Ef_RJVPtt",
        "outputId": "32e2c575-a7f9-4cb9-b7e6-fe4c6460b420"
      },
      "source": [
        "from google.colab import drive\n",
        "drive.mount('/content/drive')"
      ],
      "execution_count": null,
      "outputs": [
        {
          "output_type": "stream",
          "text": [
            "Mounted at /content/drive\n"
          ],
          "name": "stdout"
        }
      ]
    },
    {
      "cell_type": "markdown",
      "metadata": {
        "id": "Cio1MUH5Civ6"
      },
      "source": [
        "You can export your dataframe to your computer as a csv using the .to_csv() function."
      ]
    },
    {
      "cell_type": "code",
      "metadata": {
        "id": "Et9p4X3RCiv6"
      },
      "source": [
        "df.to_csv(\"./lab_averages.csv\", index=False) # index=False removes the index column (1, 2, 3...) from our dataset"
      ],
      "execution_count": null,
      "outputs": []
    },
    {
      "cell_type": "markdown",
      "metadata": {
        "id": "WPAGu7RfCiwE"
      },
      "source": [
        "## Graphing our results"
      ]
    },
    {
      "cell_type": "markdown",
      "metadata": {
        "id": "aWagZQsCCiwE"
      },
      "source": [
        "Use matplotlib to graph your results. Try plt.scatter() and plt.plot(). What are the strengths and weaknesses of each type of graph?"
      ]
    },
    {
      "cell_type": "code",
      "metadata": {
        "colab": {
          "base_uri": "https://localhost:8080/",
          "height": 627
        },
        "id": "EzsnZFs2CiwF",
        "outputId": "e9ac923c-fdd0-4d27-a2f9-4c59929c85a9"
      },
      "source": [
        "# Note: try experimenting with the marker argument for your graphs\n",
        "\n",
        "plt.scatter(\"Distance\", avgB)\n",
        "plt.xlabel(\"Distance, mm\")\n",
        "plt.ylabel(\"Brightness\")"
      ],
      "execution_count": null,
      "outputs": [
        {
          "output_type": "error",
          "ename": "ValueError",
          "evalue": "ignored",
          "traceback": [
            "\u001b[0;31m---------------------------------------------------------------------------\u001b[0m",
            "\u001b[0;31mValueError\u001b[0m                                Traceback (most recent call last)",
            "\u001b[0;32m<ipython-input-23-5185c56b8813>\u001b[0m in \u001b[0;36m<module>\u001b[0;34m()\u001b[0m\n\u001b[1;32m      1\u001b[0m \u001b[0;31m# Note: try experimenting with the marker argument for your graphs\u001b[0m\u001b[0;34m\u001b[0m\u001b[0;34m\u001b[0m\u001b[0;34m\u001b[0m\u001b[0m\n\u001b[1;32m      2\u001b[0m \u001b[0;34m\u001b[0m\u001b[0m\n\u001b[0;32m----> 3\u001b[0;31m \u001b[0mplt\u001b[0m\u001b[0;34m.\u001b[0m\u001b[0mscatter\u001b[0m\u001b[0;34m(\u001b[0m\u001b[0;34m\"Distance\"\u001b[0m\u001b[0;34m,\u001b[0m \u001b[0mavgB\u001b[0m\u001b[0;34m)\u001b[0m\u001b[0;34m\u001b[0m\u001b[0;34m\u001b[0m\u001b[0m\n\u001b[0m\u001b[1;32m      4\u001b[0m \u001b[0mplt\u001b[0m\u001b[0;34m.\u001b[0m\u001b[0mxlabel\u001b[0m\u001b[0;34m(\u001b[0m\u001b[0;34m\"Distance, mm\"\u001b[0m\u001b[0;34m)\u001b[0m\u001b[0;34m\u001b[0m\u001b[0;34m\u001b[0m\u001b[0m\n\u001b[1;32m      5\u001b[0m \u001b[0mplt\u001b[0m\u001b[0;34m.\u001b[0m\u001b[0mylabel\u001b[0m\u001b[0;34m(\u001b[0m\u001b[0;34m\"Brightness\"\u001b[0m\u001b[0;34m)\u001b[0m\u001b[0;34m\u001b[0m\u001b[0;34m\u001b[0m\u001b[0m\n",
            "\u001b[0;32m/usr/local/lib/python3.7/dist-packages/matplotlib/pyplot.py\u001b[0m in \u001b[0;36mscatter\u001b[0;34m(x, y, s, c, marker, cmap, norm, vmin, vmax, alpha, linewidths, verts, edgecolors, plotnonfinite, data, **kwargs)\u001b[0m\n\u001b[1;32m   2814\u001b[0m         \u001b[0mverts\u001b[0m\u001b[0;34m=\u001b[0m\u001b[0mverts\u001b[0m\u001b[0;34m,\u001b[0m \u001b[0medgecolors\u001b[0m\u001b[0;34m=\u001b[0m\u001b[0medgecolors\u001b[0m\u001b[0;34m,\u001b[0m\u001b[0;34m\u001b[0m\u001b[0;34m\u001b[0m\u001b[0m\n\u001b[1;32m   2815\u001b[0m         plotnonfinite=plotnonfinite, **({\"data\": data} if data is not\n\u001b[0;32m-> 2816\u001b[0;31m         None else {}), **kwargs)\n\u001b[0m\u001b[1;32m   2817\u001b[0m     \u001b[0msci\u001b[0m\u001b[0;34m(\u001b[0m\u001b[0m__ret\u001b[0m\u001b[0;34m)\u001b[0m\u001b[0;34m\u001b[0m\u001b[0;34m\u001b[0m\u001b[0m\n\u001b[1;32m   2818\u001b[0m     \u001b[0;32mreturn\u001b[0m \u001b[0m__ret\u001b[0m\u001b[0;34m\u001b[0m\u001b[0;34m\u001b[0m\u001b[0m\n",
            "\u001b[0;32m/usr/local/lib/python3.7/dist-packages/matplotlib/__init__.py\u001b[0m in \u001b[0;36minner\u001b[0;34m(ax, data, *args, **kwargs)\u001b[0m\n\u001b[1;32m   1563\u001b[0m     \u001b[0;32mdef\u001b[0m \u001b[0minner\u001b[0m\u001b[0;34m(\u001b[0m\u001b[0max\u001b[0m\u001b[0;34m,\u001b[0m \u001b[0;34m*\u001b[0m\u001b[0margs\u001b[0m\u001b[0;34m,\u001b[0m \u001b[0mdata\u001b[0m\u001b[0;34m=\u001b[0m\u001b[0;32mNone\u001b[0m\u001b[0;34m,\u001b[0m \u001b[0;34m**\u001b[0m\u001b[0mkwargs\u001b[0m\u001b[0;34m)\u001b[0m\u001b[0;34m:\u001b[0m\u001b[0;34m\u001b[0m\u001b[0;34m\u001b[0m\u001b[0m\n\u001b[1;32m   1564\u001b[0m         \u001b[0;32mif\u001b[0m \u001b[0mdata\u001b[0m \u001b[0;32mis\u001b[0m \u001b[0;32mNone\u001b[0m\u001b[0;34m:\u001b[0m\u001b[0;34m\u001b[0m\u001b[0;34m\u001b[0m\u001b[0m\n\u001b[0;32m-> 1565\u001b[0;31m             \u001b[0;32mreturn\u001b[0m \u001b[0mfunc\u001b[0m\u001b[0;34m(\u001b[0m\u001b[0max\u001b[0m\u001b[0;34m,\u001b[0m \u001b[0;34m*\u001b[0m\u001b[0mmap\u001b[0m\u001b[0;34m(\u001b[0m\u001b[0msanitize_sequence\u001b[0m\u001b[0;34m,\u001b[0m \u001b[0margs\u001b[0m\u001b[0;34m)\u001b[0m\u001b[0;34m,\u001b[0m \u001b[0;34m**\u001b[0m\u001b[0mkwargs\u001b[0m\u001b[0;34m)\u001b[0m\u001b[0;34m\u001b[0m\u001b[0;34m\u001b[0m\u001b[0m\n\u001b[0m\u001b[1;32m   1566\u001b[0m \u001b[0;34m\u001b[0m\u001b[0m\n\u001b[1;32m   1567\u001b[0m         \u001b[0mbound\u001b[0m \u001b[0;34m=\u001b[0m \u001b[0mnew_sig\u001b[0m\u001b[0;34m.\u001b[0m\u001b[0mbind\u001b[0m\u001b[0;34m(\u001b[0m\u001b[0max\u001b[0m\u001b[0;34m,\u001b[0m \u001b[0;34m*\u001b[0m\u001b[0margs\u001b[0m\u001b[0;34m,\u001b[0m \u001b[0;34m**\u001b[0m\u001b[0mkwargs\u001b[0m\u001b[0;34m)\u001b[0m\u001b[0;34m\u001b[0m\u001b[0;34m\u001b[0m\u001b[0m\n",
            "\u001b[0;32m/usr/local/lib/python3.7/dist-packages/matplotlib/cbook/deprecation.py\u001b[0m in \u001b[0;36mwrapper\u001b[0;34m(*args, **kwargs)\u001b[0m\n\u001b[1;32m    356\u001b[0m                 \u001b[0;34mf\"%(removal)s.  If any parameter follows {name!r}, they \"\u001b[0m\u001b[0;34m\u001b[0m\u001b[0;34m\u001b[0m\u001b[0m\n\u001b[1;32m    357\u001b[0m                 f\"should be pass as keyword, not positionally.\")\n\u001b[0;32m--> 358\u001b[0;31m         \u001b[0;32mreturn\u001b[0m \u001b[0mfunc\u001b[0m\u001b[0;34m(\u001b[0m\u001b[0;34m*\u001b[0m\u001b[0margs\u001b[0m\u001b[0;34m,\u001b[0m \u001b[0;34m**\u001b[0m\u001b[0mkwargs\u001b[0m\u001b[0;34m)\u001b[0m\u001b[0;34m\u001b[0m\u001b[0;34m\u001b[0m\u001b[0m\n\u001b[0m\u001b[1;32m    359\u001b[0m \u001b[0;34m\u001b[0m\u001b[0m\n\u001b[1;32m    360\u001b[0m     \u001b[0;32mreturn\u001b[0m \u001b[0mwrapper\u001b[0m\u001b[0;34m\u001b[0m\u001b[0;34m\u001b[0m\u001b[0m\n",
            "\u001b[0;32m/usr/local/lib/python3.7/dist-packages/matplotlib/axes/_axes.py\u001b[0m in \u001b[0;36mscatter\u001b[0;34m(self, x, y, s, c, marker, cmap, norm, vmin, vmax, alpha, linewidths, verts, edgecolors, plotnonfinite, **kwargs)\u001b[0m\n\u001b[1;32m   4389\u001b[0m         \u001b[0my\u001b[0m \u001b[0;34m=\u001b[0m \u001b[0mnp\u001b[0m\u001b[0;34m.\u001b[0m\u001b[0mma\u001b[0m\u001b[0;34m.\u001b[0m\u001b[0mravel\u001b[0m\u001b[0;34m(\u001b[0m\u001b[0my\u001b[0m\u001b[0;34m)\u001b[0m\u001b[0;34m\u001b[0m\u001b[0;34m\u001b[0m\u001b[0m\n\u001b[1;32m   4390\u001b[0m         \u001b[0;32mif\u001b[0m \u001b[0mx\u001b[0m\u001b[0;34m.\u001b[0m\u001b[0msize\u001b[0m \u001b[0;34m!=\u001b[0m \u001b[0my\u001b[0m\u001b[0;34m.\u001b[0m\u001b[0msize\u001b[0m\u001b[0;34m:\u001b[0m\u001b[0;34m\u001b[0m\u001b[0;34m\u001b[0m\u001b[0m\n\u001b[0;32m-> 4391\u001b[0;31m             \u001b[0;32mraise\u001b[0m \u001b[0mValueError\u001b[0m\u001b[0;34m(\u001b[0m\u001b[0;34m\"x and y must be the same size\"\u001b[0m\u001b[0;34m)\u001b[0m\u001b[0;34m\u001b[0m\u001b[0;34m\u001b[0m\u001b[0m\n\u001b[0m\u001b[1;32m   4392\u001b[0m \u001b[0;34m\u001b[0m\u001b[0m\n\u001b[1;32m   4393\u001b[0m         \u001b[0;32mif\u001b[0m \u001b[0ms\u001b[0m \u001b[0;32mis\u001b[0m \u001b[0;32mNone\u001b[0m\u001b[0;34m:\u001b[0m\u001b[0;34m\u001b[0m\u001b[0;34m\u001b[0m\u001b[0m\n",
            "\u001b[0;31mValueError\u001b[0m: x and y must be the same size"
          ]
        },
        {
          "output_type": "display_data",
          "data": {
            "image/png": "[encoded data removed]",
            "text/plain": [
              "<Figure size 432x288 with 1 Axes>"
            ]
          },
          "metadata": {
            "tags": [],
            "needs_background": "light"
          }
        }
      ]
    },
    {
      "cell_type": "markdown",
      "metadata": {
        "id": "2UePn6iHCiwF"
      },
      "source": [
        "# 🟢Module 2: Clinometer activity Pt 1: Calculating the height of the planetarium\n",
        "\n",
        "Use this notebook to calculate the height of the Hayden Planetarium based on your measurements of distance and clinometer angle. "
      ]
    },
    {
      "cell_type": "markdown",
      "metadata": {
        "id": "xX20vY8fCiwG"
      },
      "source": [
        "We will use the numpy library for this activity. It includes lots of functions that make mathematical calculations easier. Import the library below:"
      ]
    },
    {
      "cell_type": "code",
      "metadata": {
        "id": "4zAIrZ2OCiwH"
      },
      "source": [
        "# Remember that numpy has the alias np\n",
        "import numpy as np"
      ],
      "execution_count": null,
      "outputs": []
    },
    {
      "cell_type": "markdown",
      "metadata": {
        "id": "SDuiZAtPCiwJ"
      },
      "source": [
        "Next, assign the clinometer angle you measured to a variable:"
      ]
    },
    {
      "cell_type": "code",
      "metadata": {
        "id": "wvYfeXK_CiwJ"
      },
      "source": [
        "# remember to think carefully about the datatype of your value\n",
        "degrees = 30"
      ],
      "execution_count": null,
      "outputs": []
    },
    {
      "cell_type": "markdown",
      "metadata": {
        "id": "OTayyFkTCiwK"
      },
      "source": [
        "We can use the numpy function np.deg2rad() to convert our angle from degrees to radians, which we will need for our calculations later on. \n",
        "\n",
        "The np.deg2rad() function takes an angle in degrees as an argument and returns that angle in radians.\n",
        "\n",
        "Calculate your angle in radians and assign it to a new variable. Then print out the value:"
      ]
    },
    {
      "cell_type": "code",
      "metadata": {
        "id": "D56F_4ElCiwL",
        "colab": {
          "base_uri": "https://localhost:8080/"
        },
        "outputId": "9c07be3b-aa3f-4c50-8b3f-12375106235a"
      },
      "source": [
        "# Remember to use the variable you created above.\n",
        "angle_radians = np.deg2rad(degrees) #Converts degree measurement into another unit (radians)\n",
        "print(angle_radians)"
      ],
      "execution_count": null,
      "outputs": [
        {
          "output_type": "stream",
          "text": [
            "0.5235987755982988\n"
          ],
          "name": "stdout"
        }
      ]
    },
    {
      "cell_type": "markdown",
      "metadata": {
        "id": "oL933avrCiwL"
      },
      "source": [
        "#### Now it's time to find the height of the planetarium!\n",
        "\n",
        "First, fill in the distance from the observer to the planetarium base (adjacent side):"
      ]
    },
    {
      "cell_type": "code",
      "metadata": {
        "id": "1w3NtFasCiwM"
      },
      "source": [
        "# Assign the distance in meters to this variable\n",
        "adj = 52.35987756"
      ],
      "execution_count": null,
      "outputs": []
    },
    {
      "cell_type": "markdown",
      "metadata": {
        "id": "b5E4sLX2CiwN"
      },
      "source": [
        "Since we know theta and the length of the adjacent side of our triangle, we can use trigonometry to calculate the opposite side.\n",
        "\n",
        "Remember that tan(theta) = opposite/adjacent\n",
        "\n",
        "Use the numpy function np.tan() to calculate the length of \"opposite\" side of the triangle:"
      ]
    },
    {
      "cell_type": "code",
      "metadata": {
        "id": "mJYGGxm4CiwN",
        "colab": {
          "base_uri": "https://localhost:8080/"
        },
        "outputId": "51c86743-d7bd-4852-cc83-6240bb38484a"
      },
      "source": [
        "opp = np.tan(angle_radians) * adj\n",
        "print(opp)"
      ],
      "execution_count": null,
      "outputs": [
        {
          "output_type": "stream",
          "text": [
            "30.229989404001845\n"
          ],
          "name": "stdout"
        }
      ]
    },
    {
      "cell_type": "markdown",
      "metadata": {
        "id": "Uv_WTgX8CiwN"
      },
      "source": [
        "But there's something missing! You need to add your own height to the length of the opposite side to get the height of the planetarium. \n",
        "\n",
        "Add your height in meters to the opposite side and store this value in a new variable:"
      ]
    },
    {
      "cell_type": "code",
      "metadata": {
        "id": "EwYKlKkgCiwO"
      },
      "source": [
        "building_height = 1.549399163 + opp"
      ],
      "execution_count": null,
      "outputs": []
    },
    {
      "cell_type": "markdown",
      "metadata": {
        "id": "kd8vgul7CiwO"
      },
      "source": [
        "Now print out a sentence that says \"The Hayden Planetarium is X meters tall!\" using the variable you just created:"
      ]
    },
    {
      "cell_type": "code",
      "metadata": {
        "id": "t-4QC2JTCiwP",
        "colab": {
          "base_uri": "https://localhost:8080/"
        },
        "outputId": "541223c6-16ee-4119-a259-aceb061a451d"
      },
      "source": [
        "print(\"The Hayden Planetarium is\", round(building_height, 2), \"meters tall!\")"
      ],
      "execution_count": null,
      "outputs": [
        {
          "output_type": "stream",
          "text": [
            "The Hayden Planetarium is 31.78 meters tall!\n"
          ],
          "name": "stdout"
        }
      ]
    },
    {
      "cell_type": "markdown",
      "metadata": {
        "id": "q7ruHJ4LCiwP"
      },
      "source": [
        "### Congratulations! \n",
        "\n",
        "Now what if you wanted to repeat these calculations for the entire class and find the average building height? How would you do that?\n",
        "\n",
        "If you were thinking pandas... you're right! Let's move on to part two of the activity."
      ]
    },
    {
      "cell_type": "markdown",
      "metadata": {
        "id": "ukwSZzekCiwP"
      },
      "source": [
        "# 🟢Module 3: Clinometer activity Pt 2: Calculating the class average\n",
        "\n",
        "In this notebook you'll create a pandas dataframe with data from the entire class. You will practice using pandas functions and learn how to convert a CSV file to a pandas dataframe."
      ]
    },
    {
      "cell_type": "markdown",
      "metadata": {
        "id": "rU8a3XjUCiwQ"
      },
      "source": [
        "Start by importing pandas and numpy"
      ]
    },
    {
      "cell_type": "code",
      "metadata": {
        "id": "MltnSiXoCiwQ"
      },
      "source": [
        "import pandas as pd\n",
        "import numpy as np"
      ],
      "execution_count": null,
      "outputs": []
    },
    {
      "cell_type": "markdown",
      "metadata": {
        "id": "uEGllsB8CiwQ"
      },
      "source": [
        "Next, let's open our data file and convert it to a pandas dataframe. \n",
        "\n",
        "This time our dataset is in a CSV file so we can use the pd.read_csv() function:"
      ]
    },
    {
      "cell_type": "code",
      "metadata": {
        "id": "SnrBZnfBCiwR"
      },
      "source": [
        "df = pd.read_csv(\"/content/drive/MyDrive/Colab Notebooks/Unit 3/sample_clinometer_data.csv\")"
      ],
      "execution_count": null,
      "outputs": []
    },
    {
      "cell_type": "markdown",
      "metadata": {
        "id": "9_rL6O7zCiwR"
      },
      "source": [
        "Let's take a look at the data! Find the first 5 rows of data:"
      ]
    },
    {
      "cell_type": "code",
      "metadata": {
        "id": "hG9A9HB7CiwS",
        "colab": {
          "base_uri": "https://localhost:8080/",
          "height": 204
        },
        "outputId": "6047291d-47be-4a93-987b-7faf8a742cbd"
      },
      "source": [
        "df.head(5)"
      ],
      "execution_count": null,
      "outputs": [
        {
          "output_type": "execute_result",
          "data": {
            "text/html": [
              "<div>\n",
              "<style scoped>\n",
              "    .dataframe tbody tr th:only-of-type {\n",
              "        vertical-align: middle;\n",
              "    }\n",
              "\n",
              "    .dataframe tbody tr th {\n",
              "        vertical-align: top;\n",
              "    }\n",
              "\n",
              "    .dataframe thead th {\n",
              "        text-align: right;\n",
              "    }\n",
              "</style>\n",
              "<table border=\"1\" class=\"dataframe\">\n",
              "  <thead>\n",
              "    <tr style=\"text-align: right;\">\n",
              "      <th></th>\n",
              "      <th>student height</th>\n",
              "      <th>distance to bldg</th>\n",
              "      <th>clinometer angle</th>\n",
              "    </tr>\n",
              "  </thead>\n",
              "  <tbody>\n",
              "    <tr>\n",
              "      <th>0</th>\n",
              "      <td>1.549399</td>\n",
              "      <td>52.120772</td>\n",
              "      <td>35.0</td>\n",
              "    </tr>\n",
              "    <tr>\n",
              "      <th>1</th>\n",
              "      <td>1.625599</td>\n",
              "      <td>52.120772</td>\n",
              "      <td>35.0</td>\n",
              "    </tr>\n",
              "    <tr>\n",
              "      <th>2</th>\n",
              "      <td>1.650991</td>\n",
              "      <td>52.120772</td>\n",
              "      <td>20.0</td>\n",
              "    </tr>\n",
              "    <tr>\n",
              "      <th>3</th>\n",
              "      <td>1.729720</td>\n",
              "      <td>52.578483</td>\n",
              "      <td>20.0</td>\n",
              "    </tr>\n",
              "    <tr>\n",
              "      <th>4</th>\n",
              "      <td>1.549400</td>\n",
              "      <td>52.120772</td>\n",
              "      <td>20.0</td>\n",
              "    </tr>\n",
              "  </tbody>\n",
              "</table>\n",
              "</div>"
            ],
            "text/plain": [
              "   student height  distance to bldg  clinometer angle\n",
              "0        1.549399         52.120772              35.0\n",
              "1        1.625599         52.120772              35.0\n",
              "2        1.650991         52.120772              20.0\n",
              "3        1.729720         52.578483              20.0\n",
              "4        1.549400         52.120772              20.0"
            ]
          },
          "metadata": {
            "tags": []
          },
          "execution_count": 49
        }
      ]
    },
    {
      "cell_type": "markdown",
      "metadata": {
        "id": "VJ6Z908CCiwS"
      },
      "source": [
        "Now check the data type of all the columns in the dataframe:"
      ]
    },
    {
      "cell_type": "code",
      "metadata": {
        "id": "QZbKsniECiwS",
        "colab": {
          "base_uri": "https://localhost:8080/"
        },
        "outputId": "133ce8e0-50da-4a4d-d34a-a86e471d54e1"
      },
      "source": [
        "df.dtypes"
      ],
      "execution_count": null,
      "outputs": [
        {
          "output_type": "execute_result",
          "data": {
            "text/plain": [
              "student height      float64\n",
              "distance to bldg    float64\n",
              "clinometer angle    float64\n",
              "dtype: object"
            ]
          },
          "metadata": {
            "tags": []
          },
          "execution_count": 50
        }
      ]
    },
    {
      "cell_type": "markdown",
      "metadata": {
        "id": "1unAbm7wCiwT"
      },
      "source": [
        "The first column contains the height of everyone in the class.\n",
        "\n",
        "Isolate this column using an index and assign it to a variable. Hint: You'll need to include the column name in the index."
      ]
    },
    {
      "cell_type": "code",
      "metadata": {
        "id": "deQAcWqFCiwT"
      },
      "source": [
        "student_height = df[\"student height\"]"
      ],
      "execution_count": null,
      "outputs": []
    },
    {
      "cell_type": "markdown",
      "metadata": {
        "id": "dvCNj9NyCiwT"
      },
      "source": [
        "Now, print out the average class height:"
      ]
    },
    {
      "cell_type": "code",
      "metadata": {
        "id": "zBfwjrMACiwU",
        "colab": {
          "base_uri": "https://localhost:8080/"
        },
        "outputId": "e4c7002a-3201-4850-b32f-e1090c8c0941"
      },
      "source": [
        "student_height.mean()"
      ],
      "execution_count": null,
      "outputs": [
        {
          "output_type": "execute_result",
          "data": {
            "text/plain": [
              "1.59537533525"
            ]
          },
          "metadata": {
            "tags": []
          },
          "execution_count": 52
        }
      ]
    },
    {
      "cell_type": "markdown",
      "metadata": {
        "id": "RTuA7La8CiwV"
      },
      "source": [
        "## Adding columns: calculating theta\n",
        "To make our data useful, we need to add some more columns. Let's create a column for theta first.\n",
        "\n",
        "Recall that theta = np.deg2rad(degrees)."
      ]
    },
    {
      "cell_type": "code",
      "metadata": {
        "id": "ILyz-YQqCiwW"
      },
      "source": [
        "# Create a new column called \"theta\" \n",
        "# Hint: You will need to use a dataframe index as the argument for the np.deg2rad() function.\n",
        "df[\"theta\"] = np.deg2rad(df[\"clinometer angle\"])"
      ],
      "execution_count": null,
      "outputs": []
    },
    {
      "cell_type": "markdown",
      "metadata": {
        "id": "N0xeYJxpCiwW"
      },
      "source": [
        "Check to make sure that you've added your new column correctly:"
      ]
    },
    {
      "cell_type": "code",
      "metadata": {
        "id": "RfaCRqWGCiwX",
        "colab": {
          "base_uri": "https://localhost:8080/",
          "height": 204
        },
        "outputId": "44bbc912-6d72-4075-a423-d4395e96a6f6"
      },
      "source": [
        "df.head()"
      ],
      "execution_count": null,
      "outputs": [
        {
          "output_type": "execute_result",
          "data": {
            "text/html": [
              "<div>\n",
              "<style scoped>\n",
              "    .dataframe tbody tr th:only-of-type {\n",
              "        vertical-align: middle;\n",
              "    }\n",
              "\n",
              "    .dataframe tbody tr th {\n",
              "        vertical-align: top;\n",
              "    }\n",
              "\n",
              "    .dataframe thead th {\n",
              "        text-align: right;\n",
              "    }\n",
              "</style>\n",
              "<table border=\"1\" class=\"dataframe\">\n",
              "  <thead>\n",
              "    <tr style=\"text-align: right;\">\n",
              "      <th></th>\n",
              "      <th>student height</th>\n",
              "      <th>distance to bldg</th>\n",
              "      <th>clinometer angle</th>\n",
              "      <th>theta</th>\n",
              "    </tr>\n",
              "  </thead>\n",
              "  <tbody>\n",
              "    <tr>\n",
              "      <th>0</th>\n",
              "      <td>1.549399</td>\n",
              "      <td>52.120772</td>\n",
              "      <td>35.0</td>\n",
              "      <td>0.610865</td>\n",
              "    </tr>\n",
              "    <tr>\n",
              "      <th>1</th>\n",
              "      <td>1.625599</td>\n",
              "      <td>52.120772</td>\n",
              "      <td>35.0</td>\n",
              "      <td>0.610865</td>\n",
              "    </tr>\n",
              "    <tr>\n",
              "      <th>2</th>\n",
              "      <td>1.650991</td>\n",
              "      <td>52.120772</td>\n",
              "      <td>20.0</td>\n",
              "      <td>0.349066</td>\n",
              "    </tr>\n",
              "    <tr>\n",
              "      <th>3</th>\n",
              "      <td>1.729720</td>\n",
              "      <td>52.578483</td>\n",
              "      <td>20.0</td>\n",
              "      <td>0.349066</td>\n",
              "    </tr>\n",
              "    <tr>\n",
              "      <th>4</th>\n",
              "      <td>1.549400</td>\n",
              "      <td>52.120772</td>\n",
              "      <td>20.0</td>\n",
              "      <td>0.349066</td>\n",
              "    </tr>\n",
              "  </tbody>\n",
              "</table>\n",
              "</div>"
            ],
            "text/plain": [
              "   student height  distance to bldg  clinometer angle     theta\n",
              "0        1.549399         52.120772              35.0  0.610865\n",
              "1        1.625599         52.120772              35.0  0.610865\n",
              "2        1.650991         52.120772              20.0  0.349066\n",
              "3        1.729720         52.578483              20.0  0.349066\n",
              "4        1.549400         52.120772              20.0  0.349066"
            ]
          },
          "metadata": {
            "tags": []
          },
          "execution_count": 54
        }
      ]
    },
    {
      "cell_type": "markdown",
      "metadata": {
        "id": "Zz5lmXFtCiwX"
      },
      "source": [
        "Next, let's add a \"building height\" column. \n",
        "\n",
        "Remember that opposite = adjacent * np.tan(theta) and that the building height is opposite + student height."
      ]
    },
    {
      "cell_type": "code",
      "metadata": {
        "id": "F27llw2zCiwX"
      },
      "source": [
        "# Create a new column called \"building height\"\n",
        "# Hint: You will need to use THREE dataframe indexes to define this column\n",
        "df[\"building height\"] = df[\"distance to bldg\"] *np.tan (df[\"theta\"]) + df[\"student height\"]"
      ],
      "execution_count": null,
      "outputs": []
    },
    {
      "cell_type": "markdown",
      "metadata": {
        "id": "N2l2eoMICiwY"
      },
      "source": [
        "Check to make sure that you've added your new column correctly:"
      ]
    },
    {
      "cell_type": "code",
      "metadata": {
        "id": "2rKvinMKCiwY",
        "colab": {
          "base_uri": "https://localhost:8080/",
          "height": 204
        },
        "outputId": "de2b62c9-1cff-4c91-fd4c-4b5313d9fd79"
      },
      "source": [
        "df.head()"
      ],
      "execution_count": null,
      "outputs": [
        {
          "output_type": "execute_result",
          "data": {
            "text/html": [
              "<div>\n",
              "<style scoped>\n",
              "    .dataframe tbody tr th:only-of-type {\n",
              "        vertical-align: middle;\n",
              "    }\n",
              "\n",
              "    .dataframe tbody tr th {\n",
              "        vertical-align: top;\n",
              "    }\n",
              "\n",
              "    .dataframe thead th {\n",
              "        text-align: right;\n",
              "    }\n",
              "</style>\n",
              "<table border=\"1\" class=\"dataframe\">\n",
              "  <thead>\n",
              "    <tr style=\"text-align: right;\">\n",
              "      <th></th>\n",
              "      <th>student height</th>\n",
              "      <th>distance to bldg</th>\n",
              "      <th>clinometer angle</th>\n",
              "      <th>theta</th>\n",
              "      <th>building height</th>\n",
              "    </tr>\n",
              "  </thead>\n",
              "  <tbody>\n",
              "    <tr>\n",
              "      <th>0</th>\n",
              "      <td>1.549399</td>\n",
              "      <td>52.120772</td>\n",
              "      <td>35.0</td>\n",
              "      <td>0.610865</td>\n",
              "      <td>38.044757</td>\n",
              "    </tr>\n",
              "    <tr>\n",
              "      <th>1</th>\n",
              "      <td>1.625599</td>\n",
              "      <td>52.120772</td>\n",
              "      <td>35.0</td>\n",
              "      <td>0.610865</td>\n",
              "      <td>38.120956</td>\n",
              "    </tr>\n",
              "    <tr>\n",
              "      <th>2</th>\n",
              "      <td>1.650991</td>\n",
              "      <td>52.120772</td>\n",
              "      <td>20.0</td>\n",
              "      <td>0.349066</td>\n",
              "      <td>20.621401</td>\n",
              "    </tr>\n",
              "    <tr>\n",
              "      <th>3</th>\n",
              "      <td>1.729720</td>\n",
              "      <td>52.578483</td>\n",
              "      <td>20.0</td>\n",
              "      <td>0.349066</td>\n",
              "      <td>20.866723</td>\n",
              "    </tr>\n",
              "    <tr>\n",
              "      <th>4</th>\n",
              "      <td>1.549400</td>\n",
              "      <td>52.120772</td>\n",
              "      <td>20.0</td>\n",
              "      <td>0.349066</td>\n",
              "      <td>20.519810</td>\n",
              "    </tr>\n",
              "  </tbody>\n",
              "</table>\n",
              "</div>"
            ],
            "text/plain": [
              "   student height  distance to bldg  ...     theta  building height\n",
              "0        1.549399         52.120772  ...  0.610865        38.044757\n",
              "1        1.625599         52.120772  ...  0.610865        38.120956\n",
              "2        1.650991         52.120772  ...  0.349066        20.621401\n",
              "3        1.729720         52.578483  ...  0.349066        20.866723\n",
              "4        1.549400         52.120772  ...  0.349066        20.519810\n",
              "\n",
              "[5 rows x 5 columns]"
            ]
          },
          "metadata": {
            "tags": []
          },
          "execution_count": 57
        }
      ]
    },
    {
      "cell_type": "markdown",
      "metadata": {
        "id": "pSmyBmY6CiwY"
      },
      "source": [
        "Now, find the average planetarium height for the entire class:"
      ]
    },
    {
      "cell_type": "code",
      "metadata": {
        "id": "GXMsAXAXCiwZ",
        "colab": {
          "base_uri": "https://localhost:8080/"
        },
        "outputId": "aef117e5-3d87-41e3-b407-e48b40fe5054"
      },
      "source": [
        "plantetarium_height = df[\"building height\"].mean()\n",
        "print(plantetarium_height)"
      ],
      "execution_count": null,
      "outputs": [
        {
          "output_type": "stream",
          "text": [
            "29.675378724413974\n"
          ],
          "name": "stdout"
        }
      ]
    },
    {
      "cell_type": "code",
      "metadata": {
        "id": "5f_jvhjoCiwZ"
      },
      "source": [
        ""
      ],
      "execution_count": null,
      "outputs": []
    },
    {
      "cell_type": "code",
      "metadata": {
        "id": "76NlNzTZCiwZ"
      },
      "source": [
        ""
      ],
      "execution_count": null,
      "outputs": []
    },
    {
      "cell_type": "markdown",
      "metadata": {
        "id": "8yEyztYeCiwa"
      },
      "source": [
        "# 🟢Module 4: Studying the stars with Gaia and pandas\n",
        "\n",
        "The Tycho-Gaia Astrometric Solution (TGAS) is a collection of 2.5 million stars identified by the Gaia astronomical observatory, a spacecraft launched in 2013. In this notebook, you will practice your pandas skills with a fraction of that dataset."
      ]
    },
    {
      "cell_type": "markdown",
      "metadata": {
        "id": "7rggBdgfCiwa"
      },
      "source": [
        "First, import pandas and matplotlib.pyplot:"
      ]
    },
    {
      "cell_type": "code",
      "metadata": {
        "id": "zmOLTxhrCiwb"
      },
      "source": [
        "import pandas as pd\n",
        "import matplotlib.pyplot as plt"
      ],
      "execution_count": null,
      "outputs": []
    },
    {
      "cell_type": "markdown",
      "metadata": {
        "id": "yJM4mobLCiwb"
      },
      "source": [
        "Now, open the \"TGAS_data.csv\" file:"
      ]
    },
    {
      "cell_type": "code",
      "metadata": {
        "id": "u5yYGlJ-Ciwb"
      },
      "source": [
        "df = pd.read_csv(\"/content/drive/MyDrive/Colab Notebooks/Unit 3/TGAS_data.csv\")"
      ],
      "execution_count": null,
      "outputs": []
    },
    {
      "cell_type": "markdown",
      "metadata": {
        "id": "BmBeqoUCCiwb"
      },
      "source": [
        "Look at the first five rows of the dataframe:"
      ]
    },
    {
      "cell_type": "code",
      "metadata": {
        "id": "Os3JfM4cCiwd",
        "colab": {
          "base_uri": "https://localhost:8080/",
          "height": 204
        },
        "outputId": "9047890c-f30f-41ed-f5e4-9a3887754790"
      },
      "source": [
        "df.head(5)"
      ],
      "execution_count": null,
      "outputs": [
        {
          "output_type": "execute_result",
          "data": {
            "text/html": [
              "<div>\n",
              "<style scoped>\n",
              "    .dataframe tbody tr th:only-of-type {\n",
              "        vertical-align: middle;\n",
              "    }\n",
              "\n",
              "    .dataframe tbody tr th {\n",
              "        vertical-align: top;\n",
              "    }\n",
              "\n",
              "    .dataframe thead th {\n",
              "        text-align: right;\n",
              "    }\n",
              "</style>\n",
              "<table border=\"1\" class=\"dataframe\">\n",
              "  <thead>\n",
              "    <tr style=\"text-align: right;\">\n",
              "      <th></th>\n",
              "      <th>TYC2 ID</th>\n",
              "      <th>Epoch</th>\n",
              "      <th>RA (deg)</th>\n",
              "      <th>RA err (mas)</th>\n",
              "      <th>Dec (deg)</th>\n",
              "      <th>Dec err (mas)</th>\n",
              "      <th>Parallax (mas)</th>\n",
              "      <th>Parallax err (mas)</th>\n",
              "    </tr>\n",
              "  </thead>\n",
              "  <tbody>\n",
              "    <tr>\n",
              "      <th>0</th>\n",
              "      <td>1-1001-1</td>\n",
              "      <td>2015</td>\n",
              "      <td>1.414659</td>\n",
              "      <td>0.483</td>\n",
              "      <td>2.448821</td>\n",
              "      <td>0.249</td>\n",
              "      <td>2.96</td>\n",
              "      <td>0.59</td>\n",
              "    </tr>\n",
              "    <tr>\n",
              "      <th>1</th>\n",
              "      <td>1-1009-1</td>\n",
              "      <td>2015</td>\n",
              "      <td>0.137272</td>\n",
              "      <td>0.453</td>\n",
              "      <td>0.721016</td>\n",
              "      <td>0.195</td>\n",
              "      <td>5.77</td>\n",
              "      <td>0.73</td>\n",
              "    </tr>\n",
              "    <tr>\n",
              "      <th>2</th>\n",
              "      <td>1-1016-1</td>\n",
              "      <td>2015</td>\n",
              "      <td>0.426679</td>\n",
              "      <td>0.456</td>\n",
              "      <td>1.786809</td>\n",
              "      <td>0.169</td>\n",
              "      <td>2.66</td>\n",
              "      <td>0.59</td>\n",
              "    </tr>\n",
              "    <tr>\n",
              "      <th>3</th>\n",
              "      <td>1-1021-1</td>\n",
              "      <td>2015</td>\n",
              "      <td>0.484126</td>\n",
              "      <td>0.388</td>\n",
              "      <td>0.434794</td>\n",
              "      <td>0.151</td>\n",
              "      <td>3.16</td>\n",
              "      <td>0.52</td>\n",
              "    </tr>\n",
              "    <tr>\n",
              "      <th>4</th>\n",
              "      <td>1-1024-1</td>\n",
              "      <td>2015</td>\n",
              "      <td>1.080285</td>\n",
              "      <td>0.347</td>\n",
              "      <td>0.875576</td>\n",
              "      <td>0.124</td>\n",
              "      <td>2.63</td>\n",
              "      <td>0.46</td>\n",
              "    </tr>\n",
              "  </tbody>\n",
              "</table>\n",
              "</div>"
            ],
            "text/plain": [
              "        TYC2 ID  Epoch  ...  Parallax (mas)  Parallax err (mas)\n",
              "0  1-1001-1       2015  ...            2.96                0.59\n",
              "1  1-1009-1       2015  ...            5.77                0.73\n",
              "2  1-1016-1       2015  ...            2.66                0.59\n",
              "3  1-1021-1       2015  ...            3.16                0.52\n",
              "4  1-1024-1       2015  ...            2.63                0.46\n",
              "\n",
              "[5 rows x 8 columns]"
            ]
          },
          "metadata": {
            "tags": []
          },
          "execution_count": 61
        }
      ]
    },
    {
      "cell_type": "markdown",
      "metadata": {
        "id": "1Xfqmfa7Ciwd"
      },
      "source": [
        "How many rows are there in this dataframe?"
      ]
    },
    {
      "cell_type": "code",
      "metadata": {
        "id": "NPsjfkj6Ciwh",
        "colab": {
          "base_uri": "https://localhost:8080/"
        },
        "outputId": "7fdcf5ae-499b-45ad-c1ff-4945a66e914a"
      },
      "source": [
        "len(df)"
      ],
      "execution_count": null,
      "outputs": [
        {
          "output_type": "execute_result",
          "data": {
            "text/plain": [
              "993037"
            ]
          },
          "metadata": {
            "tags": []
          },
          "execution_count": 85
        }
      ]
    },
    {
      "cell_type": "markdown",
      "metadata": {
        "id": "NzMp_o0aCiwi"
      },
      "source": [
        "You might notice that one of the columns contains the parallax angle for each star (remember: nearby objects have a larger parallax angle than far away objects).\n",
        "\n",
        "Store the \"parallax\" column in a variable."
      ]
    },
    {
      "cell_type": "code",
      "metadata": {
        "id": "PnSZzQF4Ciwi"
      },
      "source": [
        "parallax = df[\"Parallax (mas)\"]"
      ],
      "execution_count": null,
      "outputs": []
    },
    {
      "cell_type": "markdown",
      "metadata": {
        "id": "Dmrwq_40l9Gc"
      },
      "source": [
        ""
      ]
    },
    {
      "cell_type": "markdown",
      "metadata": {
        "id": "ccPNyclhCiwj"
      },
      "source": [
        "Find the min, max, and mean parallax angle for this dataset:"
      ]
    },
    {
      "cell_type": "code",
      "metadata": {
        "id": "aNQbbDwUCiwj",
        "colab": {
          "base_uri": "https://localhost:8080/"
        },
        "outputId": "89824839-0086-49a5-ed1d-7cfe47946cda"
      },
      "source": [
        "print(parallax.min())\n",
        "print(parallax.max())\n",
        "print(parallax.mean())"
      ],
      "execution_count": null,
      "outputs": [
        {
          "output_type": "stream",
          "text": [
            "-24.82\n",
            "120.59\n",
            "2.4250942311313683\n"
          ],
          "name": "stdout"
        }
      ]
    },
    {
      "cell_type": "markdown",
      "metadata": {
        "id": "VRMn7GaBCiwj"
      },
      "source": [
        "Sort the entire dataframe by parallax angle from largest to smallest and print out the first 10 rows of the sorted dataframe."
      ]
    },
    {
      "cell_type": "code",
      "metadata": {
        "id": "WksovGVLCiwk"
      },
      "source": [
        "# Remember to assign your sorted dataframe to a new variable\n",
        "df_sorted = df.sort_values([\"Parallax (mas)\"], ascending = False)"
      ],
      "execution_count": null,
      "outputs": []
    },
    {
      "cell_type": "markdown",
      "metadata": {
        "id": "HM5XprPbCiwk"
      },
      "source": [
        "## Selecting a particular value in a dataframe\n",
        "You can index a single item from a row of the dataframe by specifying the column and then the row index as follows:"
      ]
    },
    {
      "cell_type": "code",
      "metadata": {
        "id": "0Kt3cMzfCiwl",
        "colab": {
          "base_uri": "https://localhost:8080/"
        },
        "outputId": "f26ffc1c-2d6b-4be7-9193-76f56ab98029"
      },
      "source": [
        "# This code will select the Parallax from the star in row ID 600536\n",
        "df[\"Parallax (mas)\"][600536] "
      ],
      "execution_count": null,
      "outputs": [
        {
          "output_type": "execute_result",
          "data": {
            "text/plain": [
              "120.59"
            ]
          },
          "metadata": {
            "tags": []
          },
          "execution_count": 74
        }
      ]
    },
    {
      "cell_type": "markdown",
      "metadata": {
        "id": "ro6hjP0KCiwm"
      },
      "source": [
        "Try it yourself! Find the Parallax angle for the star in row index 1."
      ]
    },
    {
      "cell_type": "code",
      "metadata": {
        "id": "Oz6y3e0RCiwn",
        "colab": {
          "base_uri": "https://localhost:8080/"
        },
        "outputId": "9cff4376-4b9c-4abd-bb78-a8ae30a1f3bb"
      },
      "source": [
        "# Use the following format: df[column name/variable][row index]\n",
        "df[\"Parallax (mas)\"][1] "
      ],
      "execution_count": null,
      "outputs": [
        {
          "output_type": "execute_result",
          "data": {
            "text/plain": [
              "5.77"
            ]
          },
          "metadata": {
            "tags": []
          },
          "execution_count": 75
        }
      ]
    },
    {
      "cell_type": "markdown",
      "metadata": {
        "id": "w7TFgCx6Ciwn"
      },
      "source": [
        "Now find the TYC2 ID for this star\""
      ]
    },
    {
      "cell_type": "code",
      "metadata": {
        "id": "x__0zmObCiwo"
      },
      "source": [
        ""
      ],
      "execution_count": null,
      "outputs": []
    },
    {
      "cell_type": "markdown",
      "metadata": {
        "id": "DXk20Nd7Ciwo"
      },
      "source": [
        "## Let's calculate the distance to these stars based on their parallax angle\n",
        "The parallax angle in this database is measured in milliarcseconds (mas). Add a column called \"Distance (par)\" using the following formula to calculate distance in parsecs: \n",
        "\n",
        "distance (par) = 1 / (parallax/1000)"
      ]
    },
    {
      "cell_type": "code",
      "metadata": {
        "id": "bhFCTqq2Ciwp"
      },
      "source": [
        "df[\"distance (par)\"] = 1 / (parallax/1000)"
      ],
      "execution_count": null,
      "outputs": []
    },
    {
      "cell_type": "markdown",
      "metadata": {
        "id": "NIPX83qICiwq"
      },
      "source": [
        "Check your dataframe using the .head() method:"
      ]
    },
    {
      "cell_type": "code",
      "metadata": {
        "id": "kCWftWY2Ciwq",
        "colab": {
          "base_uri": "https://localhost:8080/",
          "height": 204
        },
        "outputId": "a8c3ef1a-1273-47eb-8bcd-a5e223f0c600"
      },
      "source": [
        "df.head()"
      ],
      "execution_count": null,
      "outputs": [
        {
          "output_type": "execute_result",
          "data": {
            "text/html": [
              "<div>\n",
              "<style scoped>\n",
              "    .dataframe tbody tr th:only-of-type {\n",
              "        vertical-align: middle;\n",
              "    }\n",
              "\n",
              "    .dataframe tbody tr th {\n",
              "        vertical-align: top;\n",
              "    }\n",
              "\n",
              "    .dataframe thead th {\n",
              "        text-align: right;\n",
              "    }\n",
              "</style>\n",
              "<table border=\"1\" class=\"dataframe\">\n",
              "  <thead>\n",
              "    <tr style=\"text-align: right;\">\n",
              "      <th></th>\n",
              "      <th>TYC2 ID</th>\n",
              "      <th>Epoch</th>\n",
              "      <th>RA (deg)</th>\n",
              "      <th>RA err (mas)</th>\n",
              "      <th>Dec (deg)</th>\n",
              "      <th>Dec err (mas)</th>\n",
              "      <th>Parallax (mas)</th>\n",
              "      <th>Parallax err (mas)</th>\n",
              "      <th>distance (par)</th>\n",
              "    </tr>\n",
              "  </thead>\n",
              "  <tbody>\n",
              "    <tr>\n",
              "      <th>0</th>\n",
              "      <td>1-1001-1</td>\n",
              "      <td>2015</td>\n",
              "      <td>1.414659</td>\n",
              "      <td>0.483</td>\n",
              "      <td>2.448821</td>\n",
              "      <td>0.249</td>\n",
              "      <td>2.96</td>\n",
              "      <td>0.59</td>\n",
              "      <td>337.837838</td>\n",
              "    </tr>\n",
              "    <tr>\n",
              "      <th>1</th>\n",
              "      <td>1-1009-1</td>\n",
              "      <td>2015</td>\n",
              "      <td>0.137272</td>\n",
              "      <td>0.453</td>\n",
              "      <td>0.721016</td>\n",
              "      <td>0.195</td>\n",
              "      <td>5.77</td>\n",
              "      <td>0.73</td>\n",
              "      <td>173.310225</td>\n",
              "    </tr>\n",
              "    <tr>\n",
              "      <th>2</th>\n",
              "      <td>1-1016-1</td>\n",
              "      <td>2015</td>\n",
              "      <td>0.426679</td>\n",
              "      <td>0.456</td>\n",
              "      <td>1.786809</td>\n",
              "      <td>0.169</td>\n",
              "      <td>2.66</td>\n",
              "      <td>0.59</td>\n",
              "      <td>375.939850</td>\n",
              "    </tr>\n",
              "    <tr>\n",
              "      <th>3</th>\n",
              "      <td>1-1021-1</td>\n",
              "      <td>2015</td>\n",
              "      <td>0.484126</td>\n",
              "      <td>0.388</td>\n",
              "      <td>0.434794</td>\n",
              "      <td>0.151</td>\n",
              "      <td>3.16</td>\n",
              "      <td>0.52</td>\n",
              "      <td>316.455696</td>\n",
              "    </tr>\n",
              "    <tr>\n",
              "      <th>4</th>\n",
              "      <td>1-1024-1</td>\n",
              "      <td>2015</td>\n",
              "      <td>1.080285</td>\n",
              "      <td>0.347</td>\n",
              "      <td>0.875576</td>\n",
              "      <td>0.124</td>\n",
              "      <td>2.63</td>\n",
              "      <td>0.46</td>\n",
              "      <td>380.228137</td>\n",
              "    </tr>\n",
              "  </tbody>\n",
              "</table>\n",
              "</div>"
            ],
            "text/plain": [
              "        TYC2 ID  Epoch  ...  Parallax err (mas)  distance (par)\n",
              "0  1-1001-1       2015  ...                0.59      337.837838\n",
              "1  1-1009-1       2015  ...                0.73      173.310225\n",
              "2  1-1016-1       2015  ...                0.59      375.939850\n",
              "3  1-1021-1       2015  ...                0.52      316.455696\n",
              "4  1-1024-1       2015  ...                0.46      380.228137\n",
              "\n",
              "[5 rows x 9 columns]"
            ]
          },
          "metadata": {
            "tags": []
          },
          "execution_count": 78
        }
      ]
    },
    {
      "cell_type": "markdown",
      "metadata": {
        "id": "GIbBeDLPCiwr"
      },
      "source": [
        "Find the min, max, and average distance:"
      ]
    },
    {
      "cell_type": "code",
      "metadata": {
        "id": "yuhx1XQkqD4O"
      },
      "source": [
        "dis_par = df[\"distance (par)\"]"
      ],
      "execution_count": null,
      "outputs": []
    },
    {
      "cell_type": "code",
      "metadata": {
        "id": "rEJM7hxZCiwr",
        "colab": {
          "base_uri": "https://localhost:8080/"
        },
        "outputId": "001a8eed-ce00-4296-a550-de41c2acb898"
      },
      "source": [
        "print(dis_par.min())\n",
        "print(dis_par.max())\n",
        "print(dis_par.mean())"
      ],
      "execution_count": null,
      "outputs": [
        {
          "output_type": "stream",
          "text": [
            "-99999.99999999999\n",
            "99999.99999999999\n",
            "747.2266340679466\n"
          ],
          "name": "stdout"
        }
      ]
    },
    {
      "cell_type": "markdown",
      "metadata": {
        "id": "ZYQ6emapCiwr"
      },
      "source": [
        "Why are there negative distances? Can you find anything in the data that could explain this?"
      ]
    },
    {
      "cell_type": "markdown",
      "metadata": {
        "id": "A6T3TAIaCiws"
      },
      "source": [
        "## Looking at the distribution of distances\n",
        "The mean is helpful when it comes to learning about the average distance in parsecs to the stars we can measure with Gaia, but it doesn't give us the whole picture. Let's create a graph called a \"histogram\" that shows us how many stars have distances in each range.\n",
        "\n",
        "There's a simple matplotlib.pyplot function for this called plt.hist()\n",
        "\n",
        "The plt.hist() function takes three arguments: \n",
        "- The dataframe index (or variable) that you want to look at\n",
        "- *optional* The number of ranges\n",
        "- *optional* (x min, x max)"
      ]
    },
    {
      "cell_type": "code",
      "metadata": {
        "id": "A2a5aGHgCiws",
        "colab": {
          "base_uri": "https://localhost:8080/",
          "height": 307
        },
        "outputId": "c181a5ac-c31b-4f59-efb2-43cf29f95362"
      },
      "source": [
        "# First let's try the simplest version. Just use the dataframe index or variable for the distance column:\n",
        "# Don't use the other two arguments for now:\n",
        "plt.hist(dis_par)\n",
        "plt.xlabel(\"Distance (par)\")\n",
        "plt.ylabel(\"Number of Stars\")\n",
        "\n",
        "plt.show"
      ],
      "execution_count": null,
      "outputs": [
        {
          "output_type": "execute_result",
          "data": {
            "text/plain": [
              "<function matplotlib.pyplot.show>"
            ]
          },
          "metadata": {
            "tags": []
          },
          "execution_count": 90
        },
        {
          "output_type": "display_data",
          "data": {
            "image/png": "[encoded data removed]",
            "text/plain": [
              "<Figure size 432x288 with 1 Axes>"
            ]
          },
          "metadata": {
            "tags": [],
            "needs_background": "light"
          }
        }
      ]
    },
    {
      "cell_type": "code",
      "metadata": {
        "id": "JWsZX5P2Ciwt",
        "colab": {
          "base_uri": "https://localhost:8080/",
          "height": 307
        },
        "outputId": "8d5785fb-1913-41f7-d27a-8aa9d5b1d412"
      },
      "source": [
        "# We can split the data up into more ranges if we specify a number. Try adding 20 as the second argument:\n",
        "plt.hist(dis_par, 20)\n",
        "plt.xlabel(\"Distance (par)\")\n",
        "plt.ylabel(\"Number of Stars\")\n",
        "\n",
        "plt.show"
      ],
      "execution_count": null,
      "outputs": [
        {
          "output_type": "execute_result",
          "data": {
            "text/plain": [
              "<function matplotlib.pyplot.show>"
            ]
          },
          "metadata": {
            "tags": []
          },
          "execution_count": 92
        },
        {
          "output_type": "display_data",
          "data": {
            "image/png": "[encoded data removed]",
            "text/plain": [
              "<Figure size 432x288 with 1 Axes>"
            ]
          },
          "metadata": {
            "tags": [],
            "needs_background": "light"
          }
        }
      ]
    },
    {
      "cell_type": "code",
      "metadata": {
        "id": "QXsyGiGACiwt"
      },
      "source": [
        "# There are so few stars in the very negative and very positive distances that it's skewing our results.\n",
        "# Let's try specifying a min and max range of (-100, 4000)\n"
      ],
      "execution_count": null,
      "outputs": []
    },
    {
      "cell_type": "markdown",
      "metadata": {
        "id": "VVCv3LYACiwu"
      },
      "source": [
        "# 🟢Module 5: Making an HR Diagram\n",
        "\n",
        "In this Notebook, we'll use pandas and matplotlib to create a Hertzsprung–Russell (HR) diagram with the information we collected about stars.\n",
        "\n"
      ]
    },
    {
      "cell_type": "markdown",
      "metadata": {
        "id": "YhfWpEQvCiwu"
      },
      "source": [
        "First, import pandas and matplotlib.pyplot"
      ]
    },
    {
      "cell_type": "code",
      "metadata": {
        "id": "3T_xsgWmCiwv"
      },
      "source": [
        "import pandas as pd #Read in the csv file create/manipulate\n",
        "import matplotlib.pyplot as plt #Create the HR Diagram visualization using matplotlib's .scatter() method"
      ],
      "execution_count": null,
      "outputs": []
    },
    {
      "cell_type": "markdown",
      "metadata": {
        "id": "KN0t7B32Ciwv"
      },
      "source": [
        "Next, run the following cell to import another matplotlib library and modify the way Jupyter displays graphs:"
      ]
    },
    {
      "cell_type": "code",
      "metadata": {
        "id": "9ancNlg8Ciwv"
      },
      "source": [
        "import matplotlib.colors as mpl # We'll use the matplotlib.colors library to color our data points\n",
        "%matplotlib inline \n",
        "# This command changes the matplotlib viewer that Jupyter notebook uses and allows us to make fancier graphs"
      ],
      "execution_count": null,
      "outputs": []
    },
    {
      "cell_type": "markdown",
      "metadata": {
        "id": "K4LTlCjrCiww"
      },
      "source": [
        "Now, open the \"sample_class_star_data.csv\" file:"
      ]
    },
    {
      "cell_type": "code",
      "metadata": {
        "id": "uhaSh4EbCiww"
      },
      "source": [
        "df = pd.read_csv('/content/drive/MyDrive/Colab Notebooks/Unit 3/sample_class_star_data.csv')"
      ],
      "execution_count": null,
      "outputs": []
    },
    {
      "cell_type": "markdown",
      "metadata": {
        "id": "bGJB4YxahBT4"
      },
      "source": [
        ""
      ]
    },
    {
      "cell_type": "markdown",
      "metadata": {
        "id": "tVBeQPK7Ciww"
      },
      "source": [
        "Look at the first five rows of the dataframe:"
      ]
    },
    {
      "cell_type": "code",
      "metadata": {
        "id": "M-dRrzf9Ciwx",
        "colab": {
          "base_uri": "https://localhost:8080/",
          "height": 204
        },
        "outputId": "15ee823d-63e0-4667-fd68-f8a0d522636a"
      },
      "source": [
        "df.head(5)"
      ],
      "execution_count": null,
      "outputs": [
        {
          "output_type": "execute_result",
          "data": {
            "text/html": [
              "<div>\n",
              "<style scoped>\n",
              "    .dataframe tbody tr th:only-of-type {\n",
              "        vertical-align: middle;\n",
              "    }\n",
              "\n",
              "    .dataframe tbody tr th {\n",
              "        vertical-align: top;\n",
              "    }\n",
              "\n",
              "    .dataframe thead th {\n",
              "        text-align: right;\n",
              "    }\n",
              "</style>\n",
              "<table border=\"1\" class=\"dataframe\">\n",
              "  <thead>\n",
              "    <tr style=\"text-align: right;\">\n",
              "      <th></th>\n",
              "      <th>star ID</th>\n",
              "      <th>Brightness (suns)</th>\n",
              "      <th>Temperature (K)</th>\n",
              "    </tr>\n",
              "  </thead>\n",
              "  <tbody>\n",
              "    <tr>\n",
              "      <th>0</th>\n",
              "      <td>1</td>\n",
              "      <td>132.0</td>\n",
              "      <td>22000.0</td>\n",
              "    </tr>\n",
              "    <tr>\n",
              "      <th>1</th>\n",
              "      <td>2</td>\n",
              "      <td>9000.0</td>\n",
              "      <td>3000.0</td>\n",
              "    </tr>\n",
              "    <tr>\n",
              "      <th>2</th>\n",
              "      <td>3</td>\n",
              "      <td>0.5</td>\n",
              "      <td>5200.0</td>\n",
              "    </tr>\n",
              "    <tr>\n",
              "      <th>3</th>\n",
              "      <td>4</td>\n",
              "      <td>70.0</td>\n",
              "      <td>15000.0</td>\n",
              "    </tr>\n",
              "    <tr>\n",
              "      <th>4</th>\n",
              "      <td>5</td>\n",
              "      <td>60000.0</td>\n",
              "      <td>6000.0</td>\n",
              "    </tr>\n",
              "  </tbody>\n",
              "</table>\n",
              "</div>"
            ],
            "text/plain": [
              "   star ID  Brightness (suns)  Temperature (K)\n",
              "0        1              132.0          22000.0\n",
              "1        2             9000.0           3000.0\n",
              "2        3                0.5           5200.0\n",
              "3        4               70.0          15000.0\n",
              "4        5            60000.0           6000.0"
            ]
          },
          "metadata": {
            "tags": []
          },
          "execution_count": 5
        }
      ]
    },
    {
      "cell_type": "markdown",
      "metadata": {
        "id": "n8qNa6qaCiwx"
      },
      "source": [
        "How many stars are in our dataset?"
      ]
    },
    {
      "cell_type": "code",
      "metadata": {
        "id": "E7loAtchCiwx",
        "colab": {
          "base_uri": "https://localhost:8080/"
        },
        "outputId": "780b1490-d281-4f9b-97dc-7e68763b79d9"
      },
      "source": [
        "len(df)"
      ],
      "execution_count": null,
      "outputs": [
        {
          "output_type": "execute_result",
          "data": {
            "text/plain": [
              "96"
            ]
          },
          "metadata": {
            "tags": []
          },
          "execution_count": 6
        }
      ]
    },
    {
      "cell_type": "markdown",
      "metadata": {
        "id": "cc1_b6XkCiwy"
      },
      "source": [
        "### Let's explore the data a bit.\n",
        "\n",
        "\n",
        "Store the \"Brightness (suns)\" column and the \"Temperature (K)\" columns in variables."
      ]
    },
    {
      "cell_type": "code",
      "metadata": {
        "id": "X76oQBkWCiwy"
      },
      "source": [
        "B = df[\"Brightness (suns)\"]\n",
        "T = df[\"Temperature (K)\"]"
      ],
      "execution_count": null,
      "outputs": []
    },
    {
      "cell_type": "markdown",
      "metadata": {
        "id": "Q5zTlTIcCiwz"
      },
      "source": [
        "Print out the mean brightness and temperature."
      ]
    },
    {
      "cell_type": "code",
      "metadata": {
        "id": "9tC_I8HjCiw7",
        "colab": {
          "base_uri": "https://localhost:8080/"
        },
        "outputId": "911da041-becd-465f-e1fb-8fc05dd98ea2"
      },
      "source": [
        "print(B.mean()) #finds mean of data stored in the B variable\n",
        "print(T.mean()) #finds mean of data stored in the T variable"
      ],
      "execution_count": null,
      "outputs": [
        {
          "output_type": "stream",
          "text": [
            "965.2636905208336\n",
            "7238.541667395834\n"
          ],
          "name": "stdout"
        }
      ]
    },
    {
      "cell_type": "markdown",
      "metadata": {
        "id": "Q9sX2_71Ciw8"
      },
      "source": [
        "How do these values compare to the brightness and temperature of the sun?\n",
        "\n",
        "Print out the brightness and temperature of the sun. \n",
        "\n",
        "Hint: Use an index! The sun's star ID is 25, making its dataframe index 24. "
      ]
    },
    {
      "cell_type": "code",
      "metadata": {
        "id": "KY9pcZbcCiw8"
      },
      "source": [
        "# df.head(30) #Displays the first 30 rows"
      ],
      "execution_count": null,
      "outputs": []
    },
    {
      "cell_type": "code",
      "metadata": {
        "colab": {
          "base_uri": "https://localhost:8080/"
        },
        "id": "tLrYJooOiQp1",
        "outputId": "c2201ce0-3e98-4a1e-8442-6757c46120c9"
      },
      "source": [
        "print(B[24])\n",
        "print(T[24])"
      ],
      "execution_count": null,
      "outputs": [
        {
          "output_type": "stream",
          "text": [
            "1.0\n",
            "4800.0\n"
          ],
          "name": "stdout"
        }
      ]
    },
    {
      "cell_type": "markdown",
      "metadata": {
        "id": "cWoXqAnECiw8"
      },
      "source": [
        "### Now let's make an HR diagram!\n",
        "\n",
        "Run the code below and look at it together. As a group, write comments that explain what each line does. If you have any questions, jot them down and we'll discuss them as a class."
      ]
    },
    {
      "cell_type": "code",
      "metadata": {
        "id": "IAsH5XD7Ciw9",
        "colab": {
          "base_uri": "https://localhost:8080/",
          "height": 295
        },
        "outputId": "1025bb78-15b3-4576-d129-150276c40491"
      },
      "source": [
        "cm = plt.cm.get_cmap(\"RdYlBu\")\n",
        "plt.scatter(T, B, c=B, s=35, cmap=cm, norm=mpl.LogNorm())\n",
        "plt.scatter(T[24], B[24], c='magenta', s=200, marker='*') \n",
        "plt.yscale('log')\n",
        "plt.ylim([0.000001, 1000000])\n",
        "plt.xlabel('Temperature (K)')\n",
        "plt.ylabel('Brightness (Suns)')\n",
        "plt.title('HR Diagram')\n",
        "plt.gca().invert_xaxis()\n",
        "plt.show()"
      ],
      "execution_count": null,
      "outputs": [
        {
          "output_type": "display_data",
          "data": {
            "image/png": "[encoded data removed]",
            "text/plain": [
              "<Figure size 432x288 with 1 Axes>"
            ]
          },
          "metadata": {
            "tags": [],
            "needs_background": "light"
          }
        }
      ]
    },
    {
      "cell_type": "markdown",
      "metadata": {
        "id": "2ihOpiAaCiw9"
      },
      "source": [
        "## 🟢Module 6: The Cultural-Societal Impact of the Lack of Access to Home Broadband\n",
        "\n",
        "Electromagnetic waves that have wavelengths that are larger than 1mm in length are typically called radio waves. These wavelengths are used for communication between mobile phones, radio stations, Bluetooth devices, and of course radio stations.\n",
        "\n",
        "Radio astronomers developed an understanding of radio waves, which provided huge advantage for the development of the high-speed WI-FI standard. In the early 1990’s, WI-FI speed was limited by errors created from the signal bouncing and echoing off walls and objects of a room. This problem was made worse when a lot of information was sent across a single pure tone (single frequency) sine-like radio waves, limiting the possible data WI-FI data rate. However, it was found that by spreading the load of information across the radio band, the echo was reduced. It was not until the mid 2000s that this standard had become main-stream in WI-FI technology.\n",
        "\n",
        "\n",
        "In modern times, Wi-Fi is crucial to everyday activities whether it be work, school, or retail. But, who has access to Wi-Fi and who doesn't? Create a dataframe using the following access-based-on-income vs. time data, and create a scatter plot that visualizes how they compare.\n",
        "\n",
        "Source: https://www.pewresearch.org/internet/fact-sheet/internet-broadband/?menuItem=2ab2b0be-6364-4d3a-8db7-ae134dbc05cd\n",
        "\n"
      ]
    },
    {
      "cell_type": "code",
      "metadata": {
        "id": "bl2-m-Y_Ciw-"
      },
      "source": [
        "#Import necessary libraries\n"
      ],
      "execution_count": null,
      "outputs": []
    },
    {
      "cell_type": "code",
      "metadata": {
        "id": "ILtJP7fQCiw-"
      },
      "source": [
        "#Read in data.\n"
      ],
      "execution_count": null,
      "outputs": []
    },
    {
      "cell_type": "code",
      "metadata": {
        "id": "C2ZxVQxpCiw_"
      },
      "source": [
        "#Store column data in variables.\n"
      ],
      "execution_count": null,
      "outputs": []
    },
    {
      "cell_type": "code",
      "metadata": {
        "id": "m-Y9ToPdCixA"
      },
      "source": [
        "#Plot information\n"
      ],
      "execution_count": null,
      "outputs": []
    },
    {
      "cell_type": "markdown",
      "metadata": {
        "id": "FvOWzeuwCixD"
      },
      "source": [
        "Answer the following questions:\n",
        "\n",
        "1. What income group of households has the greatest access to internet? The smallest?\n",
        "\n",
        "2. True or False: Equality exists because everyone has the opportunity to pay for internet access in their household. <br> Explain your thoughts.\n",
        "\n",
        "3. What are some ways that we can use our computer science skills to boost access of lower-income households to a stable high-speed internet connection?"
      ]
    },
    {
      "cell_type": "code",
      "metadata": {
        "id": "LKfNrT8iCixE"
      },
      "source": [
        ""
      ],
      "execution_count": null,
      "outputs": []
    }
  ]
}