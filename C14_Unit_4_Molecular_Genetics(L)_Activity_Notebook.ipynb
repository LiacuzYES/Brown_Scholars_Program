{
  "nbformat": 4,
  "nbformat_minor": 0,
  "metadata": {
    "kernelspec": {
      "display_name": "Python 3",
      "language": "python",
      "name": "python3"
    },
    "language_info": {
      "codemirror_mode": {
        "name": "ipython",
        "version": 3
      },
      "file_extension": ".py",
      "mimetype": "text/x-python",
      "name": "python",
      "nbconvert_exporter": "python",
      "pygments_lexer": "ipython3",
      "version": "3.8.3"
    },
    "colab": {
      "name": "C14 Unit 4 Molecular Genetics(L) - Activity Notebook.ipynb",
      "provenance": []
    }
  },
  "cells": [
    {
      "cell_type": "markdown",
      "metadata": {
        "id": "lrbW_OQHKOnC"
      },
      "source": [
        "# 🟢 Module 1: Making a Lab Material Dictionary\n",
        "\n",
        "Dictionaries are a convenient way of storing data in Python.  A dictionary in Python is like a dictionary in the real world.  \n",
        "\n",
        "In the real world, a dictionary consists of **words** and their **definitions**. In Python, a dictionary consists of **keys** and their **values**.\n",
        "\n",
        "In this Jupyter notebook you will use this new data type to organize all the materials from our strawberry DNA extraction lab."
      ]
    },
    {
      "cell_type": "markdown",
      "metadata": {
        "id": "ASE6CNWsKOnK"
      },
      "source": [
        "### Use this cell for the live code session:"
      ]
    },
    {
      "cell_type": "code",
      "metadata": {
        "colab": {
          "base_uri": "https://localhost:8080/"
        },
        "id": "zquSgoK-KOnM",
        "outputId": "695d1d26-7fee-4053-a7b6-6204c1fb14f3"
      },
      "source": [
        "analogyDict = { \"DNA\" : \"cookbook\", \"RNA\" : \"recipe\", \"protein\" : \"food\"}\n",
        "print(analogyDict[\"RNA\"])\n",
        "\n",
        "subunitDict = {\"DNA\":\"nucleotides\", \"RNA\":\"nucleotides\", \"protein\":\"amino acids\"}\n",
        "print(subunitDict[\"DNA\"])\n",
        "print(subunitDict[\"RNA\"])"
      ],
      "execution_count": null,
      "outputs": [
        {
          "output_type": "stream",
          "text": [
            "recipe\n",
            "nucleotides\n",
            "nucleotides\n"
          ],
          "name": "stdout"
        }
      ]
    },
    {
      "cell_type": "markdown",
      "metadata": {
        "id": "8vg48dliKOnQ"
      },
      "source": [
        "### Run the following cells to learn more about dictionaries:"
      ]
    },
    {
      "cell_type": "code",
      "metadata": {
        "id": "yGNESXhLKOnR"
      },
      "source": [
        "# We will create a new dictionary\n",
        "switchDict = {0:\"off\", 1:\"on\"} # Notice that you can use integers as keys and strings as values if you want"
      ],
      "execution_count": null,
      "outputs": []
    },
    {
      "cell_type": "code",
      "metadata": {
        "colab": {
          "base_uri": "https://localhost:8080/"
        },
        "id": "9_adMcrtKOnS",
        "outputId": "a47cf43c-2319-4932-805c-92bf49cd0310"
      },
      "source": [
        "# print out the value for the 0 key\n",
        "print(switchDict[0])"
      ],
      "execution_count": null,
      "outputs": [
        {
          "output_type": "stream",
          "text": [
            "off\n"
          ],
          "name": "stdout"
        }
      ]
    },
    {
      "cell_type": "code",
      "metadata": {
        "colab": {
          "base_uri": "https://localhost:8080/"
        },
        "id": "Da2TehzJKOnT",
        "outputId": "8b325bc8-6506-4efc-a674-85dc1db83bab"
      },
      "source": [
        "# Here's another dictionary\n",
        "countDict = {\"dozen\":12, \"baker's dozen\": 13, \"score\":20, \"one gross\":144}\n",
        "print(countDict)"
      ],
      "execution_count": null,
      "outputs": [
        {
          "output_type": "stream",
          "text": [
            "{'dozen': 12, \"baker's dozen\": 13, 'score': 20, 'one gross': 144}\n"
          ],
          "name": "stdout"
        }
      ]
    },
    {
      "cell_type": "code",
      "metadata": {
        "colab": {
          "base_uri": "https://localhost:8080/"
        },
        "id": "6_Th_GyZKOnU",
        "outputId": "56f78e6a-a646-4566-d7a3-3df09eaa777d"
      },
      "source": [
        "# Let's print out the value for the \"Score\" key:\n",
        "print(countDict[\"score\"])"
      ],
      "execution_count": null,
      "outputs": [
        {
          "output_type": "stream",
          "text": [
            "20\n"
          ],
          "name": "stdout"
        }
      ]
    },
    {
      "cell_type": "markdown",
      "metadata": {
        "id": "g5sTtflFKOnW"
      },
      "source": [
        "You can add a new key/value pair to a dictionary:"
      ]
    },
    {
      "cell_type": "code",
      "metadata": {
        "colab": {
          "base_uri": "https://localhost:8080/"
        },
        "id": "nOgRuUU-KOnX",
        "outputId": "a96c935f-8375-4036-fed2-8a79cbef048a"
      },
      "source": [
        "countDict[\"half dozen\"] = 6\n",
        "print(countDict)"
      ],
      "execution_count": null,
      "outputs": [
        {
          "output_type": "stream",
          "text": [
            "{'dozen': 12, \"baker's dozen\": 13, 'score': 20, 'one gross': 144, 'half dozen': 6}\n"
          ],
          "name": "stdout"
        }
      ]
    },
    {
      "cell_type": "markdown",
      "metadata": {
        "id": "cfMiluE7KOna"
      },
      "source": [
        "You can also delete a key/value pair from a dictionary:"
      ]
    },
    {
      "cell_type": "code",
      "metadata": {
        "colab": {
          "base_uri": "https://localhost:8080/"
        },
        "id": "WBbkkZtLKOnb",
        "outputId": "87d15a99-4d82-472d-effa-cad0d237d80a"
      },
      "source": [
        "del countDict[\"dozen\"]\n",
        "print(countDict)"
      ],
      "execution_count": null,
      "outputs": [
        {
          "output_type": "stream",
          "text": [
            "{\"baker's dozen\": 13, 'score': 20, 'one gross': 144, 'half dozen': 6}\n"
          ],
          "name": "stdout"
        }
      ]
    },
    {
      "cell_type": "markdown",
      "metadata": {
        "id": "7oF4HjuXKOnc"
      },
      "source": [
        "You can use dictionaries with other commands like conditionals:"
      ]
    },
    {
      "cell_type": "code",
      "metadata": {
        "colab": {
          "base_uri": "https://localhost:8080/"
        },
        "id": "6Ic3oAx3KOnd",
        "outputId": "f83473f6-7867-4766-f039-d0277c4b80f2"
      },
      "source": [
        "if countDict[\"score\"] > 19:\n",
        "    print(\"A score is greater than 19\")"
      ],
      "execution_count": null,
      "outputs": [
        {
          "output_type": "stream",
          "text": [
            "A score is greater than 19\n"
          ],
          "name": "stdout"
        }
      ]
    },
    {
      "cell_type": "markdown",
      "metadata": {
        "id": "9E2HZMXzKOne"
      },
      "source": [
        "### Making the lab material dictionary\n",
        "Create a dictionary with a key for the first three materials on the list (strawberries - dish soap). The values should be the reason we use that material:\n",
        "\n",
        "**Note: to make it easier to use your dictionary, keep all words lower case**"
      ]
    },
    {
      "cell_type": "code",
      "metadata": {
        "id": "a54MTcKnKOnf"
      },
      "source": [
        "labMaterials = {\"strawberries\":\"source of DNA\", \"water\":\"basis of extraction liquid\", \"dish soap\":\"breaks the cell open\"}"
      ],
      "execution_count": null,
      "outputs": []
    },
    {
      "cell_type": "markdown",
      "metadata": {
        "id": "GLPOryq8KOng"
      },
      "source": [
        "Print out the use of dish soap using your dictionary:"
      ]
    },
    {
      "cell_type": "code",
      "metadata": {
        "colab": {
          "base_uri": "https://localhost:8080/"
        },
        "id": "BHn5LfvdKOng",
        "outputId": "7ebdbbee-59eb-46e0-8398-3ed1b735a8e9"
      },
      "source": [
        "print(labMaterials[\"dish soap\"])"
      ],
      "execution_count": null,
      "outputs": [
        {
          "output_type": "stream",
          "text": [
            "breaks the cell open\n"
          ],
          "name": "stdout"
        }
      ]
    },
    {
      "cell_type": "markdown",
      "metadata": {
        "id": "UG11y2eoKOnh"
      },
      "source": [
        "Add the next three lab materials to your dictionary:"
      ]
    },
    {
      "cell_type": "code",
      "metadata": {
        "id": "v6VoHSWeKOnh"
      },
      "source": [
        "labMaterials.update({\"meat tenderizer\": \"enzymes that cut up proteins\"})\n",
        "labMaterials[\"salt\"] = \"separates the DNA\"\n",
        "labMaterials[\"rubbing alcohol\"] = \"removes the DNA\""
      ],
      "execution_count": null,
      "outputs": []
    },
    {
      "cell_type": "markdown",
      "metadata": {
        "id": "FU35kkV7KOnh"
      },
      "source": [
        "print out your dictionary to check that you've added the new materials correctly:"
      ]
    },
    {
      "cell_type": "code",
      "metadata": {
        "colab": {
          "base_uri": "https://localhost:8080/"
        },
        "id": "KIkgDJBpKOni",
        "outputId": "6a148469-df8b-45c7-d337-90a8718940fc"
      },
      "source": [
        "print(labMaterials)"
      ],
      "execution_count": null,
      "outputs": [
        {
          "output_type": "stream",
          "text": [
            "{'strawberries': 'source of DNA', 'water': 'basis of extraction liquid', 'dish soap': 'breaks the cell open', 'meat tenderizer': 'enzymes that cut up proteins', 'salt': 'separates the DNA', 'rubbing alcohol': 'removes the DNA'}\n"
          ],
          "name": "stdout"
        }
      ]
    },
    {
      "cell_type": "markdown",
      "metadata": {
        "id": "uXGXJgDWKOnj"
      },
      "source": [
        "Now write a \"for loop\" that loops through the following list and prints out \"<item> is needed for the experiment\" if that item is in your dictionary and then prints out the use of that item."
      ]
    },
    {
      "cell_type": "code",
      "metadata": {
        "id": "3Oj1pB0oKOnj"
      },
      "source": [
        "items = [\"apples\", \"water\", \"lemon juice\", \"vinegar\", \"salt\", \"dish soap\"]"
      ],
      "execution_count": null,
      "outputs": []
    },
    {
      "cell_type": "code",
      "metadata": {
        "colab": {
          "base_uri": "https://localhost:8080/"
        },
        "id": "C7pOHiv7KOnk",
        "outputId": "b255e473-412c-4588-90ab-39c41a796673"
      },
      "source": [
        "# Hint: you can use \"if x in my_dictionary\" to check if something is in a dictionary\n",
        "\n",
        "for i in items:\n",
        "  if i in labMaterials:\n",
        "    print(i, \"is needed for the experiment because:\", labMaterials[i])"
      ],
      "execution_count": null,
      "outputs": [
        {
          "output_type": "stream",
          "text": [
            "water is needed for the experiment because: basis of extraction liquid\n",
            "salt is needed for the experiment because: separates the DNA\n",
            "dish soap is needed for the experiment because: breaks the cell open\n"
          ],
          "name": "stdout"
        }
      ]
    },
    {
      "cell_type": "markdown",
      "metadata": {
        "id": "oLibDJgeKOnl"
      },
      "source": [
        "# 🟢 Module 2: Transcribe and translate genetic information with Python!\n",
        "\n",
        "In this notebook you will learn how to write code that takes a DNA sequence and outputs the corresponding RNA sequence (transcription) and code that takes an RNA sequence and outputs the corresponding peptide sequence (translation)."
      ]
    },
    {
      "cell_type": "markdown",
      "metadata": {
        "id": "YZ30WlHwKOnl"
      },
      "source": [
        "In the \"Central Dogma\" game you only transcribed and translated the first 10 codons of each protein. For this coding exercise you will use the entire DNA sequences (400-1,000 base pairs!). \n",
        "<br>\n",
        "<br>\n",
        "The sequences are saved as text files so you will need to create a variable for each gene and use the open() function to assign each sequence to a variable. "
      ]
    },
    {
      "cell_type": "code",
      "metadata": {
        "collapsed": true,
        "id": "ey7Q9ahJKOnn"
      },
      "source": [
        "# Create a variable for each gene and read that file into the variable as a string\n",
        "# You will need the open() function and the .read() method\n",
        "\n",
        "HisDNA = open(\"/content/drive/MyDrive/Colab Notebooks/Unit 4/Histamine_receptor_DNA.txt\").read()\n",
        "\n",
        "# Now open and read the sequence files for keratin and collagen:\n",
        "KerDNA = open(\"/content/drive/MyDrive/Colab Notebooks/Unit 4/Keratin_DNA.txt\").read()\n",
        "ColDNA = open(\"/content/drive/MyDrive/Colab Notebooks/Unit 4/Collagen_DNA.txt\").read()"
      ],
      "execution_count": null,
      "outputs": []
    },
    {
      "cell_type": "code",
      "metadata": {
        "colab": {
          "base_uri": "https://localhost:8080/"
        },
        "id": "14dXT9FVcLTD",
        "outputId": "3bba3545-6a41-4d6d-e53a-7fdc67c909aa"
      },
      "source": [
        "from google.colab import drive\n",
        "drive.mount('/content/drive')"
      ],
      "execution_count": null,
      "outputs": [
        {
          "output_type": "stream",
          "text": [
            "Mounted at /content/drive\n"
          ],
          "name": "stdout"
        }
      ]
    },
    {
      "cell_type": "markdown",
      "metadata": {
        "id": "V_MhaAQ3KOno"
      },
      "source": [
        "Print out the data stored in the HisDNA variable:"
      ]
    },
    {
      "cell_type": "code",
      "metadata": {
        "colab": {
          "base_uri": "https://localhost:8080/"
        },
        "id": "Ury80AjKKOno",
        "outputId": "3cfffe39-bc74-4b84-95fd-9f7a09a0aa3d"
      },
      "source": [
        "print(HisDNA)"
      ],
      "execution_count": null,
      "outputs": [
        {
          "output_type": "stream",
          "text": [
            "TACCGTGGGTTACCGTGTCGGAGAAGGAAAACGGACCTGAGATGGCGTACGTTCTAGTGGTAGTGGCACCAGGAACGCCAGGAGTAGGAGTAGTGGCAACGACCGTTACACCAGCAGACAGACCGGCACCCGAACTTGGCGGCCGAGGCGTTGGACTGGTTAACAAAGTAGCACAGGAACCGATAGTGACTGGACGAGGAGCCGGAGGACCACGACGGGAAGAGACGGTAGATGGTCGACAGGACGTTCACCTCGAAACCGTTCCAGAAGACGTTATAGATGTGGTCGGACCTACACTACGAGACGTGTCGGAGGTAAGAATTGGAGAAGTACTAGTCGGAGCTGGCCATGACGCGACAGTACCTGGGTGACGCCATGGGACACGACCAGTGGGGTCAAGCCCAGCGGTAGAGAGACCAGAATTAAACCCAGTAGAGGTAATGGGACAGGAAAGACAGATAGGTGGACCCCACCTTGTCGTCCTTGCTCTGGTCGTTCCCGTTAGTATGGTGGAGATTCACGTTTCAGGTCCAGTTACTTCACATGCCCGACCACCTACCCGACCAGTGGAAGATGGAGGGCGATGACTAGTACACGTAGTGGATGATGGCGTAGAAGTTCCAGCGGGCCCTAGTCCGGTTCTCCTAGTTAGTGTAATCGAGGACCTTCCGTCGGTGGTAGTCCCTCGTGTTTCGGTGTCACTGTGACCGGCGGCAGTACCCCCGGAAGTAGTAGACGACCAAAGGGATGAAGTGGCGCAAACACATGGCACCCGACTCTCCCCTACTACGGTAGTTACTCCACAATCTTCGGTAGCAAGACACCGACCCGATACGGTTGAGTCGGGACTTGGGGTAGGACATACGACGCGACTTGTCTCTGAAGGCGTGGCCCATGGTTGTCGAGAAGACGACGTCCGACCGGTTGGCGTTGAGGGTGTTTTGAAGAGACTCCAGGTTGCGGAGAGTCGACAGGTCCTGGGTTTCGGCTCTTGGGTCCGTTGTCCTTCTCTTTGGGGACTTCGAGGTCCACACCTCACCCTGTCTTCAGTGCCGGGGGGTCCCTCGGTGTCTGTCCATT\n"
          ],
          "name": "stdout"
        }
      ]
    },
    {
      "cell_type": "markdown",
      "metadata": {
        "id": "boTsqLrUKOnp"
      },
      "source": [
        "Print out the datatype of this variable:"
      ]
    },
    {
      "cell_type": "code",
      "metadata": {
        "colab": {
          "base_uri": "https://localhost:8080/"
        },
        "id": "y36SozkvKOnp",
        "outputId": "109ed6d2-7c4f-4e44-edaf-d9820bec4708"
      },
      "source": [
        "print(type(HisDNA))"
      ],
      "execution_count": null,
      "outputs": [
        {
          "output_type": "stream",
          "text": [
            "<class 'str'>\n"
          ],
          "name": "stdout"
        }
      ]
    },
    {
      "cell_type": "markdown",
      "metadata": {
        "id": "o1McttvrKOnp"
      },
      "source": [
        "Now that we've assigned our sequences to variables, we can get started on the code to transcribe that DNA sequence into an RNA sequence. \n",
        "\n",
        "**Store the histamine receptor RNA sequence in its own variable and print it out to check your results**\n",
        "\n",
        "Remember, A -> U, T -> A, G -> C, and C -> G"
      ]
    },
    {
      "cell_type": "code",
      "metadata": {
        "id": "gFPGLrDBKOnq",
        "colab": {
          "base_uri": "https://localhost:8080/"
        },
        "outputId": "cea492a7-de55-4f61-cb71-d744509eb2fc"
      },
      "source": [
        "# Hint: You will need a \"for loop\" and conditionals. \n",
        "# You will also need an empty string\n",
        "\n",
        "#Step 1: Create an empty string to add onto and store the RNA in.\n",
        "HisRNA = \"\"\n",
        "\n",
        "rna_dict = {\"A\":\"U\", \"T\":\"A\", \"G\":\"C\", \"C\":\"G\"} #reference\n",
        "\n",
        "#Step 2: HisDNA is holding the entire sequence that must be transcribed.\n",
        "for i in HisDNA: #For loop helps me iterate through the DNA sequence and gain access to each individual character (a nucleotide)\n",
        "  #Transcribe each character using the dictionary.\n",
        "  # HisRNA = HisRNA + rna_dict[i] #Long way\n",
        "  HisRNA += rna_dict[i] #Shortcut\n",
        "  \n",
        "print(HisRNA)"
      ],
      "execution_count": null,
      "outputs": [
        {
          "output_type": "stream",
          "text": [
            "AUGGCACCCAAUGGCACAGCCUCUUCCUUUUGCCUGGACUCUACCGCAUGCAAGAUCACCAUCACCGUGGUCCUUGCGGUCCUCAUCCUCAUCACCGUUGCUGGCAAUGUGGUCGUCUGUCUGGCCGUGGGCUUGAACCGCCGGCUCCGCAACCUGACCAAUUGUUUCAUCGUGUCCUUGGCUAUCACUGACCUGCUCCUCGGCCUCCUGGUGCUGCCCUUCUCUGCCAUCUACCAGCUGUCCUGCAAGUGGAGCUUUGGCAAGGUCUUCUGCAAUAUCUACACCAGCCUGGAUGUGAUGCUCUGCACAGCCUCCAUUCUUAACCUCUUCAUGAUCAGCCUCGACCGGUACUGCGCUGUCAUGGACCCACUGCGGUACCCUGUGCUGGUCACCCCAGUUCGGGUCGCCAUCUCUCUGGUCUUAAUUUGGGUCAUCUCCAUUACCCUGUCCUUUCUGUCUAUCCACCUGGGGUGGAACAGCAGGAACGAGACCAGCAAGGGCAAUCAUACCACCUCUAAGUGCAAAGUCCAGGUCAAUGAAGUGUACGGGCUGGUGGAUGGGCUGGUCACCUUCUACCUCCCGCUACUGAUCAUGUGCAUCACCUACUACCGCAUCUUCAAGGUCGCCCGGGAUCAGGCCAAGAGGAUCAAUCACAUUAGCUCCUGGAAGGCAGCCACCAUCAGGGAGCACAAAGCCACAGUGACACUGGCCGCCGUCAUGGGGGCCUUCAUCAUCUGCUGGUUUCCCUACUUCACCGCGUUUGUGUACCGUGGGCUGAGAGGGGAUGAUGCCAUCAAUGAGGUGUUAGAAGCCAUCGUUCUGUGGCUGGGCUAUGCCAACUCAGCCCUGAACCCCAUCCUGUAUGCUGCGCUGAACAGAGACUUCCGCACCGGGUACCAACAGCUCUUCUGCUGCAGGCUGGCCAACCGCAACUCCCACAAAACUUCUCUGAGGUCCAACGCCUCUCAGCUGUCCAGGACCCAAAGCCGAGAACCCAGGCAACAGGAAGAGAAACCCCUGAAGCUCCAGGUGUGGAGUGGGACAGAAGUCACGGCCCCCCAGGGAGCCACAGACAGGUAA\n"
          ],
          "name": "stdout"
        }
      ]
    },
    {
      "cell_type": "code",
      "metadata": {
        "id": "oDzq8oQLKOnr"
      },
      "source": [
        ""
      ],
      "execution_count": null,
      "outputs": []
    },
    {
      "cell_type": "markdown",
      "metadata": {
        "id": "g-kaNsgZKOnr"
      },
      "source": [
        "Congratulations! You've transcribed DNA sequences and created mRNA. Now it's time to translate that message and find the amino acid sequence of the protein.\n",
        "<br>\n",
        "<br>\n",
        "Here's a chart to help you out:"
      ]
    },
    {
      "cell_type": "markdown",
      "metadata": {
        "id": "drKqGZPkKOns"
      },
      "source": [
        "<img src=\"https://archive.manylabs.org/file/lessonMedia/69/geneticCode.png\" width=\"500px\" height=\"500px\" align=\"left\" />"
      ]
    },
    {
      "cell_type": "markdown",
      "metadata": {
        "id": "UOJbePT0KOns"
      },
      "source": [
        "**Goal:** You need to write code that takes an RNA sequence and returns the correct amino acid sequence. (Use the one letter code for amino acids (ex. L for Leucine). Stop codons can be represented as \"STOP\")\n",
        "\n",
        "**You may find it helpful to write some pseudocode to help you solve this challenge**\n",
        "\n",
        "Here are some hints:\n",
        "- you will need a dictionary, a for loop, and a conditional"
      ]
    },
    {
      "cell_type": "markdown",
      "metadata": {
        "id": "4TBf6PdaKOnt"
      },
      "source": [
        "Create your dictionary first:"
      ]
    },
    {
      "cell_type": "code",
      "metadata": {
        "id": "E_rEVoQ2KOnu"
      },
      "source": [
        "codonDict = {\"UUU\":\"F\",\"UUC\":\"F\",\"UUA\":\"L\",\"UUG\":\"L\", \"CUU\":\"L\",\"CUC\":\"L\", \n",
        "             \"CUA\":\"L\",\"CUG\":\"L\",\"AUU\":\"I\",\"AUC\":\"I\",\"AUA\":\"I\",\"AUG\":\"M\",\n",
        "             \"GUU\":\"V\",\"GUC\":\"V\",\"GUA\":\"V\",\"GUG\":\"V\",\"UCU\":\"S\",\"UCC\":\"S\",\n",
        "             \"UCA\":\"S\",\"UCG\":\"S\",\"CCU\":\"P\",\"CCC\":\"P\",\"CCA\":\"P\",\"CCG\":\"P\",\n",
        "             \"ACU\":\"T\",\"ACC\":\"T\",\"ACA\":\"T\",\"ACG\":\"T\",\"GCU\":\"A\",\"GCC\":\"A\",\n",
        "             \"GCA\":\"A\",\"GCG\":\"A\",\"UAU\":\"Y\",\"UAC\":\"Y\",\"UAA\":\"STOP\",\"UAG\":\"STOP\",\n",
        "             \"UGA\":\"STOP\",\"CAU\":\"H\",\"CAC\":\"H\",\"CAA\":\"Q\",\"CAG\":\"Q\",\"AAU\":\"N\",\n",
        "             \"AAC\":\"N\",\"AAA\":\"K\",\"AAG\":\"K\",\"GAU\":\"D\",\"GAC\":\"D\",\"GAA\":\"E\",\n",
        "             \"GAG\":\"E\",\"UGU\":\"C\",\"UGC\":\"C\",\"UGG\":\"W\",\"CGU\":\"R\",\"CGC\":\"R\",\n",
        "             \"CGA\":\"R\",\"CGG\":\"R\",\"AGU\":\"S\",\"AGC\":\"S\",\"AGA\":\"R\",\"AGG\":\"R\",\n",
        "             \"GGU\":\"G\",\"GGC\":\"G\",\"GGA\":\"G\",\"GGG\":\"G\"}"
      ],
      "execution_count": null,
      "outputs": []
    },
    {
      "cell_type": "markdown",
      "metadata": {
        "id": "7_xVRH5fKOnu"
      },
      "source": [
        "Now write the rest of your code:"
      ]
    },
    {
      "cell_type": "code",
      "metadata": {
        "id": "EIT2FKSHKOnv",
        "colab": {
          "base_uri": "https://localhost:8080/"
        },
        "outputId": "52f1da9b-d6e2-44e6-eb4f-c4d01b8027a4"
      },
      "source": [
        "#Challenge: Keep track of 3 characters at a time. \n",
        "#Solution: Create an empty string to hold protein\n",
        "#Solution: Create another empty string to hold each codon.\n",
        "#Create for-loop with a range and a counter to keep track of every 3 characters.\n",
        "protein = \"\" #endgoal, should store the overall protein containing the amino acids.\n",
        "codon = \"\" #3 characters, temporary place to store codons\n",
        "\n",
        "for i in HisRNA:\n",
        "  if len(codon) == 3:\n",
        "    protein += codonDict[codon]\n",
        "    codon = \"\"\n",
        "    codon += i #Don't forget the current iteration!\n",
        "  else:\n",
        "    codon += i\n",
        "\n",
        "print(protein)"
      ],
      "execution_count": null,
      "outputs": [
        {
          "output_type": "stream",
          "text": [
            "MAPNGTASSFCLDSTACKITITVVLAVLILITVAGNVVVCLAVGLNRRLRNLTNCFIVSLAITDLLLGLLVLPFSAIYQLSCKWSFGKVFCNIYTSLDVMLCTASILNLFMISLDRYCAVMDPLRYPVLVTPVRVAISLVLIWVISITLSFLSIHLGWNSRNETSKGNHTTSKCKVQVNEVYGLVDGLVTFYLPLLIMCITYYRIFKVARDQAKRINHISSWKAATIREHKATVTLAAVMGAFIICWFPYFTAFVYRGLRGDDAINEVLEAIVLWLGYANSALNPILYAALNRDFRTGYQQLFCCRLANRNSHKTSLRSNASQLSRTQSREPRQQEEKPLKLQVWSGTEVTAPQGATDR\n"
          ],
          "name": "stdout"
        }
      ]
    },
    {
      "cell_type": "markdown",
      "metadata": {
        "id": "9KGJYJVYKOnv"
      },
      "source": [
        "# 🟢 Module 3: Dictionaries review\n",
        "\n",
        "These exercises will help you review the new data type of dictionaries. Try to complete these on your own first before looking at a cheat sheet."
      ]
    },
    {
      "cell_type": "markdown",
      "metadata": {
        "id": "FP-TOsWWKOnz"
      },
      "source": [
        "### 1. Creating a dictionary\n",
        "\n",
        "Here is a sample sequence of DNA:\n",
        "ACCCTGTAGCAGA\n",
        "\n",
        "Create a dictionary that contains each nucleotide as the key and the number of those nucleotides in the sequence as the value (you can just count by hand):"
      ]
    },
    {
      "cell_type": "code",
      "metadata": {
        "collapsed": true,
        "id": "bRNwSGItKOn0"
      },
      "source": [
        ""
      ],
      "execution_count": null,
      "outputs": []
    },
    {
      "cell_type": "markdown",
      "metadata": {
        "id": "kYjG4917KOn0"
      },
      "source": [
        "Print out the value associated with the key \"G\":"
      ]
    },
    {
      "cell_type": "code",
      "metadata": {
        "collapsed": true,
        "id": "U-JrOAhUKOn1"
      },
      "source": [
        ""
      ],
      "execution_count": null,
      "outputs": []
    },
    {
      "cell_type": "markdown",
      "metadata": {
        "id": "oSOMO5LhKOn1"
      },
      "source": [
        "### 2. Adding keys and values\n",
        "\n",
        "Add a key/value pair to your dictionary for the number of \"U\"s in the DNA sequence above:"
      ]
    },
    {
      "cell_type": "code",
      "metadata": {
        "collapsed": true,
        "id": "emwhGuvgKOn2"
      },
      "source": [
        ""
      ],
      "execution_count": null,
      "outputs": []
    },
    {
      "cell_type": "markdown",
      "metadata": {
        "id": "qE39cetkKOn2"
      },
      "source": [
        "Print out your dictionary:"
      ]
    },
    {
      "cell_type": "code",
      "metadata": {
        "collapsed": true,
        "id": "h_L1EJuqKOn2"
      },
      "source": [
        ""
      ],
      "execution_count": null,
      "outputs": []
    },
    {
      "cell_type": "markdown",
      "metadata": {
        "id": "UCURtstzKOn3"
      },
      "source": [
        "### 3. Conditionals and dictionaries\n",
        "\n",
        "Write a conditional that checks whether there are more \"A\"s or \"T\"s in your sequence and prints out:\n",
        "- \"There are more As\" or \"There are more Ts\"\n",
        "- The difference (ie. how many more As or Ts there are)"
      ]
    },
    {
      "cell_type": "code",
      "metadata": {
        "collapsed": true,
        "id": "yScsjCzVKOn4"
      },
      "source": [
        ""
      ],
      "execution_count": null,
      "outputs": []
    },
    {
      "cell_type": "markdown",
      "metadata": {
        "id": "6okhbpQRKOn4"
      },
      "source": [
        "### 3. Loops and dictionaries\n",
        "\n",
        "Loop through all the keys in your dictionary and print out its value:"
      ]
    },
    {
      "cell_type": "code",
      "metadata": {
        "collapsed": true,
        "id": "RZgZOxduKOn5"
      },
      "source": [
        ""
      ],
      "execution_count": null,
      "outputs": []
    },
    {
      "cell_type": "markdown",
      "metadata": {
        "id": "RpO4MoBNKOn5"
      },
      "source": [
        "Now write a loop that only prints out the value if there are more than 0 nucleotides of that type in your sequence:"
      ]
    },
    {
      "cell_type": "code",
      "metadata": {
        "collapsed": true,
        "id": "bVbKXvcaKOn5"
      },
      "source": [
        ""
      ],
      "execution_count": null,
      "outputs": []
    },
    {
      "cell_type": "markdown",
      "metadata": {
        "id": "Kbwq4fEgKOn6"
      },
      "source": [
        "# 🟢 Module 4: Exploring the hominid timeline\n",
        "\n",
        "In this notebook you'll get to practice creating and using dictionaries while discovering which hominin species lived at the same time."
      ]
    },
    {
      "cell_type": "markdown",
      "metadata": {
        "id": "-uylCfRsKOn6"
      },
      "source": [
        "Here is a list of hominid species and the time range when they are beleived to have lived (in millions of years ago):\n",
        "- A. anamensis (4.2 to 3.9 mya)\n",
        "- A. afarensis (3.6 to 2.9 mya)\n",
        "- K. platyops (3.5 to 3.3 mya)\n",
        "- A. africanus (3 to 2 mya)\n",
        "- A. aethiopicus (2.7 to 2.3 mya)\n",
        "- A. boisei (2.3 to 1.4 mya)\n",
        "- H. habilis (2.3 to 1.6 mya)\n",
        "- H. erectus (1.8 to 0.3 mya)\n",
        "- A. robustus (1.8 to 1.5 mya)\n",
        "- H. heidelbergensis (0.6 to 0.1 mya)\n",
        "- H. neanderthalensis (0.25 to 0.03 mya)\n",
        "- H. sapiens (0.1 to 0 mya)\n",
        "\n",
        "Create a dictionary with species as keys and lists containing the beginning and end of the range as the values:\n",
        "\n",
        "*Note: If your dictionary gets too long to fit on one line, you can hit the \"return\" key after a comma to make a new line*"
      ]
    },
    {
      "cell_type": "code",
      "metadata": {
        "id": "tP7f6XahKOn7"
      },
      "source": [
        "homi_speciesDict = { \"A. anamensis\": [4.2, 3.9], \"A. afareansis\": [3.6, 2.9], \"K. platyops\": [3.5, 3.3], \"A. africanus\": [3, 2],\n",
        "                       \"A. aethiopicus\": [2.7, 2.3], \"A. boisei\": [2.3, 1.4], \"H. habilis\": [2.3, 1.6], \"H. erectus\": [1.8, 0.3],\n",
        "                       \"A. robustus\": [1.8, 1.5], \"H. heidelbergensis\": [0.6, 0.1], \"H. neanderthalensis\": [0.25, 0.03], \"H. sapiens\": [0.1, 0] }"
      ],
      "execution_count": null,
      "outputs": []
    },
    {
      "cell_type": "markdown",
      "metadata": {
        "id": "rA1V3z87KOn8"
      },
      "source": [
        "Test out your dictionary by printing out the time range when A. boisei lived:"
      ]
    },
    {
      "cell_type": "code",
      "metadata": {
        "id": "Xx1n8DewKOn8",
        "colab": {
          "base_uri": "https://localhost:8080/"
        },
        "outputId": "4a8303b9-dc8b-48de-8e50-a9ab54e94224"
      },
      "source": [
        "homi_speciesDict[\"A. boisei\"]"
      ],
      "execution_count": null,
      "outputs": [
        {
          "output_type": "execute_result",
          "data": {
            "text/plain": [
              "[2.3, 1.4]"
            ]
          },
          "metadata": {
            "tags": []
          },
          "execution_count": 27
        }
      ]
    },
    {
      "cell_type": "markdown",
      "metadata": {
        "id": "7ee9HgiIKOn9"
      },
      "source": [
        "Now write code that sets a variable equal to a certain number of millions of years ago and prints out a **list** of all the hominid species that lived at that time:\n",
        "\n",
        "Hints: \n",
        "- You will need to create a new list\n",
        "- You will need to use a list index after a dictionary index\n",
        "- Remember that the time ranges go from more mya to fewer mya"
      ]
    },
    {
      "cell_type": "code",
      "metadata": {
        "id": "rOF2PHfNKOn9",
        "colab": {
          "base_uri": "https://localhost:8080/"
        },
        "outputId": "60953b2e-de55-44af-e0f0-7f17951d9dcb"
      },
      "source": [
        "mya = 0.1 #What species lived during this time?\n",
        "livingList = [] #Store the hominid species that existed during the time^ above\n",
        "\n",
        "#Create a for-loop to test the mya to see what species were living during that time.\n",
        "for i in homi_speciesDict:\n",
        "  # yearList = homi_speciesDictt[i] #This line allows us to access the values (lists of timeranges in million years ago)\n",
        "  # print(yearList)\n",
        "  if homi_speciesDict[i][0] >= mya >= homi_speciesDict[i][1]:\n",
        "    livingList.append(i) #Adds the species that exists during that time to the empty list\n",
        "\n",
        "print(livingList)"
      ],
      "execution_count": null,
      "outputs": [
        {
          "output_type": "stream",
          "text": [
            "['H. heidelbergensis', 'H. neanderthalensis', 'H. sapiens']\n"
          ],
          "name": "stdout"
        }
      ]
    },
    {
      "cell_type": "markdown",
      "metadata": {
        "id": "0WYzK_2CKOn9"
      },
      "source": [
        "Try re-running your code for the following numbers of millions of years:\n",
        "- 3 mya\n",
        "- 1.5 mya\n",
        "- 0.1 mya (100 years ago)"
      ]
    },
    {
      "cell_type": "markdown",
      "metadata": {
        "id": "_wKsd4rfKOn-"
      },
      "source": [
        "# 🟢 Module 5: Identifying Butterfly Species\n",
        "\n",
        "In this notebook you will get to use your transcription and translation code to analyze the optix gene from four butterflies and find out which pairs are the same species!"
      ]
    },
    {
      "cell_type": "code",
      "metadata": {
        "colab": {
          "base_uri": "https://localhost:8080/"
        },
        "id": "lNn9eYKJrsDz",
        "outputId": "f7ad111f-f036-4cb0-82d3-c5fe1c0ac89f"
      },
      "source": [
        "#Live code \n",
        "\n",
        "#Goal of enumerate is to repeat actions using a for-loop ONLY NOW we'll be keeping track of two different variables. \n",
        "\n",
        "#regular for-loop\n",
        "# for i in aList:\n",
        "#   print(i)\n",
        "\n",
        "\n",
        "#Two lists examples\n",
        "\n",
        "students = [\"Claire\", \"Bre\", \"Astrid\", \"Dalia\", \"Rashini\", \"Alicia\",\"Olivia\", \"Grace\"]\n",
        "students_grades = [9, 10, 10, 10, 10, 11, 11, 11]\n",
        "\n",
        "#for-loop that uses enumerate\n",
        "for c, i in enumerate(students):\n",
        "  print(i, \"is in\", students_grades[c], \"th grade.\")"
      ],
      "execution_count": null,
      "outputs": [
        {
          "output_type": "stream",
          "text": [
            "Claire is in 9 th grade.\n",
            "Bre is in 10 th grade.\n",
            "Astrid is in 10 th grade.\n",
            "Dalia is in 10 th grade.\n",
            "Rashini is in 10 th grade.\n",
            "Alicia is in 11 th grade.\n",
            "Olivia is in 11 th grade.\n",
            "Grace is in 11 th grade.\n"
          ],
          "name": "stdout"
        }
      ]
    },
    {
      "cell_type": "markdown",
      "metadata": {
        "id": "_hzIa6SzKOn-"
      },
      "source": [
        "### Step 1\n",
        "Open the DNA sequence files for the two butterflies that you picked. Read them in as strings, and assign them to variables:"
      ]
    },
    {
      "cell_type": "code",
      "metadata": {
        "id": "axPSnsfSKOn_"
      },
      "source": [
        "# You will need the open() function and the .read() method\n",
        "Butterfly_B = open(\"/content/drive/MyDrive/Colab Notebooks/Unit 4/Butterfly_B_DNA.txt\").read()\n",
        "Butterfly_D = open(\"/content/drive/MyDrive/Colab Notebooks/Unit 4/Butterfly_D_DNA.txt\").read()"
      ],
      "execution_count": null,
      "outputs": []
    },
    {
      "cell_type": "markdown",
      "metadata": {
        "id": "OWy6A1bdKOn_"
      },
      "source": [
        "Next, transcribe these sequences into RNA and assign each RNA sequence to a variable."
      ]
    },
    {
      "cell_type": "code",
      "metadata": {
        "id": "VZ0mdaE1KOoA",
        "colab": {
          "base_uri": "https://localhost:8080/"
        },
        "outputId": "8e1ccf86-5b69-4a7e-9e78-78c2bc7a2cf4"
      },
      "source": [
        "# Hint: You can copy and paste your transcription code\n",
        "B_RNA = \"\"\n",
        "\n",
        "rna_dict = {\"A\":\"U\", \"T\":\"A\", \"G\":\"C\", \"C\":\"G\"} #reference\n",
        "\n",
        "# Butterfly_B is holding the entire sequence that must be transcribed.\n",
        "for i in Butterfly_B: #For loop helps me iterate through the DNA sequence and gain access to each individual character (a nucleotide)\n",
        "  #Transcribe each character using the dictionary.\n",
        "  # HisRNA = HisRNA + rna_dict[i] #Long way\n",
        "  B_RNA += rna_dict[i] #Shortcut\n",
        "  \n",
        "print(B_RNA)"
      ],
      "execution_count": null,
      "outputs": [
        {
          "output_type": "stream",
          "text": [
            "CGGUUCCAGAGGUCCAGUCAUGCGAAACUACAAGCCUUGUGGCUGGAGGCGCACUAUCAGGAGGCCGAGCGCCUCCGCGGCCGCCCUCUCGGUCCGGUCGACAAAUAUCGUGUGCGGAAGAAGUUUCCCCUGCCGCGAACAAUCUGGGACGGCGAACAAAAGACACACUGUUUCAAGGAGAGGACGAGGUCGCUCCUGAGGGAAUGGUACCUACAAGACCCUUACCCGAACCCGACGAAGAAGCGGGAAUUGGCCGCGGCGACGGGUCUGACGCCGACGCAGGUCGGCAACUGGUUCAAAAACCGGCGGCAGCGGGACAGAGCAGCCGCCGCUAAGAACCGCUCCGCCGUGCUCGGCCGAGGGUUCGCCUCCUCCUCCACCUAUGACGAGGACUCCGCCGACUCAGAGAUCAACGUGGACGAGGAG\n"
          ],
          "name": "stdout"
        }
      ]
    },
    {
      "cell_type": "code",
      "metadata": {
        "id": "UbFZS60Vuq3j",
        "colab": {
          "base_uri": "https://localhost:8080/"
        },
        "outputId": "7bb3d2a5-cef7-4e83-a3b2-442720fea411"
      },
      "source": [
        "D_RNA = \"\"\n",
        "\n",
        "rna_dict = {\"A\":\"U\", \"T\":\"A\", \"G\":\"C\", \"C\":\"G\"} #reference\n",
        "\n",
        "# Butterfly_D is holding the entire sequence that must be transcribed.\n",
        "for i in Butterfly_D: #For loop helps me iterate through the DNA sequence and gain access to each individual character (a nucleotide)\n",
        "  #Transcribe each character using the dictionary.\n",
        "  # HisRNA = HisRNA + rna_dict[i] #Long way\n",
        "  D_RNA += rna_dict[i] #Shortcut\n",
        "  \n",
        "print(D_RNA)"
      ],
      "execution_count": null,
      "outputs": [
        {
          "output_type": "stream",
          "text": [
            "CGGUUCCAGAGGUCCAGUCAUGCGAAAUUACAAGCCUUGUGGCUGGAGGCGCACUAUCAGGAGGCCGAGCGUCUCCGUGGCCGCCCUCUCGGUCCGGUCGACAAAUAUCGUGUGCGGAAGAAGUUCCCCCUGCCUCGAACAAUCUGGGACGGCGAACAAAAGACACACUGUUUCAAGGAGAGAACGAGGUCGCUCCUGAGGGAAUGGUACCUACAAGAUCCUUACCCGAACCCGACGAAGAAGCGAGAAUUGGCCGCGGCGACGGGUCUGACGCCGACGCAGGUCGGCAACUGGUUCAAGAACCGGCGGCAGCGGGACAGAGCAGCCGCCGCUAAGAACCGCUCCGCCGUACUCGGCCGAGGAUUCGCCUCUUCCUCCACCUACGACGAGGACUCCGCCGACUCAGAGAUCAACGUGGACGAGGAG\n"
          ],
          "name": "stdout"
        }
      ]
    },
    {
      "cell_type": "markdown",
      "metadata": {
        "id": "Ah1EWxFoKOoA"
      },
      "source": [
        "Now find the amino acid sequence for each butterfly and store it in a variable:"
      ]
    },
    {
      "cell_type": "code",
      "metadata": {
        "id": "40hSWs1eKOoB"
      },
      "source": [
        "# Hint: You will need to use your translation code\n"
      ],
      "execution_count": null,
      "outputs": []
    },
    {
      "cell_type": "code",
      "metadata": {
        "id": "5k7S7pYjKOoB"
      },
      "source": [
        ""
      ],
      "execution_count": null,
      "outputs": []
    },
    {
      "cell_type": "code",
      "metadata": {
        "id": "UhFQYmKbKOoC"
      },
      "source": [
        ""
      ],
      "execution_count": null,
      "outputs": []
    },
    {
      "cell_type": "markdown",
      "metadata": {
        "id": "acr2xcfEKOoC"
      },
      "source": [
        "Print out your protein sequences to make sure your code worked:"
      ]
    },
    {
      "cell_type": "code",
      "metadata": {
        "id": "UorcdzgXKOoC"
      },
      "source": [
        ""
      ],
      "execution_count": null,
      "outputs": []
    },
    {
      "cell_type": "markdown",
      "metadata": {
        "id": "Xg9dVIyCKOoD"
      },
      "source": [
        "### Step 2\n",
        "How can we find out how many differences there are between each pair of protein sequences? \n",
        "Write code that compares your two sequences and prints out the number of differences:"
      ]
    },
    {
      "cell_type": "code",
      "metadata": {
        "id": "1L1l5GdcKOoD"
      },
      "source": [
        "# Hint, you will need the enumerate() function. You can use this in \"for loops\" that loop through strings or lists.\n",
        "# Remember, you must specify two variables in your \"for loop\": one for the index counter and one for the character.\n"
      ],
      "execution_count": null,
      "outputs": []
    },
    {
      "cell_type": "markdown",
      "metadata": {
        "id": "Ib7Fp65RKOoE"
      },
      "source": [
        "If you got 0 differences, that's correct! But don't be too hasty in assuming that these butterflies are from the same species. Let's check the DNA sequences to be sure.\n",
        "\n",
        "### Step 3\n",
        "\n",
        "Try reusing your code to compare the DNA sequences instead of the protein sequences:"
      ]
    },
    {
      "cell_type": "code",
      "metadata": {
        "id": "ydama_spKOoE"
      },
      "source": [
        "# You can copy and paste code from above and then modify it.\n",
        "\n"
      ],
      "execution_count": null,
      "outputs": []
    },
    {
      "cell_type": "markdown",
      "metadata": {
        "id": "jw5RHw9xKOoF"
      },
      "source": [
        "Compare with other teams to see which two butterflies are from the same species."
      ]
    },
    {
      "cell_type": "markdown",
      "metadata": {
        "id": "DLlWiwhBKOoF"
      },
      "source": [
        "## Exploring SNPs\n",
        "### Step 4\n",
        "These DNA differences are actually known variations between species. Called \"single nucleotide polymorphisms\" or SNPs, they can be used to identify a particular species. \n",
        "\n",
        "Using the two dictionaries below, write code that looks at position 213 to find out whether the butterflies you're looking at are melpomene or erato:\n",
        "\n",
        "Hint: DNA basepairs count from 1 and python counts from 0"
      ]
    },
    {
      "cell_type": "code",
      "metadata": {
        "id": "fzo8CMrlKOoG"
      },
      "source": [
        "# melpomene and erato are two Heliconius butterfly species\n",
        "# These dictionaries have the DNA basepair # as the key and the chemical base as the value\n",
        "\n",
        "melpomene = {36:\"A\", 156:\"C\", 177:\"T\", 213:\"C\", 276:\"A\", 291:\"A\", 315:\"A\", 333:\"G\", 405:\"C\"}\n",
        "erato = {36:\"G\", 156:\"T\", 177:\"C\", 213:\"T\", 276:\"C\", 291:\"G\", 315:\"C\", 333:\"A\", 405:\"T\"}\n",
        "\n"
      ],
      "execution_count": null,
      "outputs": []
    },
    {
      "cell_type": "code",
      "metadata": {
        "id": "FH_XMW2OKOoG"
      },
      "source": [
        ""
      ],
      "execution_count": null,
      "outputs": []
    },
    {
      "cell_type": "markdown",
      "metadata": {
        "id": "QFAUmfx7KOoH"
      },
      "source": [
        "Try changing the code to look at a different basepair position:"
      ]
    },
    {
      "cell_type": "code",
      "metadata": {
        "id": "Mq88674nKOoL"
      },
      "source": [
        ""
      ],
      "execution_count": null,
      "outputs": []
    },
    {
      "cell_type": "markdown",
      "metadata": {
        "id": "5gbgZW3OKOoM"
      },
      "source": [
        "# 🟢 Module 6: The Cultural-Societal Impact Researching Sickle Cell Anemia \n",
        "\n",
        "Use your transcription and translation code to find the amino acid sequence for hemoglobin samples 1-4 (each person in the group should look at a different sequence). Compare your results to determine which sequence has the mutation. "
      ]
    },
    {
      "cell_type": "code",
      "metadata": {
        "id": "XsdEcaa6KOoN"
      },
      "source": [
        ""
      ],
      "execution_count": null,
      "outputs": []
    },
    {
      "cell_type": "code",
      "metadata": {
        "id": "t80w7FROKOoO"
      },
      "source": [
        ""
      ],
      "execution_count": null,
      "outputs": []
    },
    {
      "cell_type": "code",
      "metadata": {
        "id": "tB3YAz3lKOoP"
      },
      "source": [
        ""
      ],
      "execution_count": null,
      "outputs": []
    },
    {
      "cell_type": "code",
      "metadata": {
        "id": "Mlxd0pa3KOoP"
      },
      "source": [
        ""
      ],
      "execution_count": null,
      "outputs": []
    },
    {
      "cell_type": "markdown",
      "metadata": {
        "id": "klm3S_gBKOoP"
      },
      "source": [
        "Once a person decides to proceed with genetic testing, a medical geneticist, primary\n",
        "caredoctor, specialist, or nurse practitioner can order the test. Genetic testing is often\n",
        "done as part of a genetic consultation.\n",
        "\n",
        "Genetic tests are performed on a sample of blood, hair, skin, amniotic fluid (the fluid that\n",
        "surrounds a fetus during pregnancy), or other tissue. For example, a procedure called a\n",
        "buccal smear uses a small brush or cotton swab to collect a sample of cells from the\n",
        "inside surface of the cheek. The sample is sent to a laboratory where technicians look\n",
        "for specific changes in chromosomes, DNA, or proteins, depending on the suspected\n",
        "disorder. The laboratory reports the test results in writing to a person's doctor or genetic\n",
        "counselor, or directly to the patient if requested.\n",
        "\n",
        "Newborn screening tests are done on a small blood sample, which is taken by pricking\n",
        "the baby's heel. Unlike other types of genetic testing, a parent will usually only receive\n",
        "the result if it is positive. If the test result is positive, additional testing is needed to\n",
        "determine whether the baby has a genetic disorder.\n",
        "Before a person has a genetic test, it is important that he or she understands the testing\n",
        "procedure, the benefits and limitations of the test, and the possible consequences of the\n",
        "test results. The process of educating a person about the test and obtaining permission\n",
        "is called **informed consent**.\n",
        "\n",
        "Edit this text cell to answer the following questions:\n",
        "\n",
        "1. What were the research practices done to collect information about sickle cell anemia in Africa?\n",
        "\n",
        "2. Were these research practices ethical?\n",
        "\n",
        "3. What can we do with computer science to ensure that individuals' rights are protected?\n"
      ]
    },
    {
      "cell_type": "code",
      "metadata": {
        "id": "g7HBGzwvKOoQ"
      },
      "source": [
        ""
      ],
      "execution_count": null,
      "outputs": []
    }
  ]
}